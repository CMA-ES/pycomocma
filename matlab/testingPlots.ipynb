{
 "cells": [
  {
   "cell_type": "code",
   "execution_count": 1,
   "metadata": {},
   "outputs": [
    {
     "name": "stdout",
     "output_type": "stream",
     "text": [
      "Automatic pdb calling has been turned ON\n"
     ]
    }
   ],
   "source": [
    "%pdb"
   ]
  },
  {
   "cell_type": "code",
   "execution_count": 2,
   "metadata": {},
   "outputs": [
    {
     "name": "stdout",
     "output_type": "stream",
     "text": [
      "Populating the interactive namespace from numpy and matplotlib\n",
      "Warning: Cannot change to a different GUI toolkit: notebook. Using nbagg instead.\n"
     ]
    }
   ],
   "source": [
    "import cma, mo, pickle\n",
    "%pylab nbagg \n",
    "%matplotlib notebook\n",
    "# Set parameters\n",
    "dimension = 10\n",
    "num_kernels = 5\n",
    "\n"
   ]
  },
  {
   "cell_type": "code",
   "execution_count": 3,
   "metadata": {},
   "outputs": [
    {
     "name": "stdout",
     "output_type": "stream",
     "text": [
      "Iterat #Fevals   Hypervolume   axis ratios   sigmas   min&max stds\n",
      "                                  (median)  (median)    (median)\n",
      "    1     10 6.161000000000001e+01 1.0e+00 2.00e-01  2e-01  2e-01\n",
      "    2     20 6.795149284480883e+01 1.0e+00 2.00e-01  2e-01  2e-01\n",
      "    3     30 6.806529048076833e+01 1.0e+00 2.00e-01  2e-01  2e-01\n",
      "  100   1000 9.658071576200290e+01 1.6e+00 1.12e-01  9e-02  1e-01\n",
      "  200   2000 9.719219512741805e+01 1.8e+00 2.15e-02  1e-02  2e-02\n",
      "  300   3000 9.723912918207662e+01 2.0e+00 7.30e-03  4e-03  5e-03\n",
      "  400   4000 9.724090492942845e+01 2.0e+00 2.17e-03  1e-03  1e-03\n",
      "  500   5000 9.724107660275895e+01 2.0e+00 7.42e-04  3e-04  4e-04\n",
      "  600   6000 9.724109667578102e+01 2.0e+00 2.44e-04  8e-05  1e-04\n",
      "  700   7000 9.724109820981423e+01 2.1e+00 7.59e-05  2e-05  3e-05\n",
      "  800   7990 9.724109829462357e+01 2.1e+00 3.15e-05  8e-06  1e-05\n",
      "  862   8450 9.724109830103185e+01 2.1e+00 1.63e-05  4e-06  5e-06\n"
     ]
    }
   ],
   "source": [
    "# Instantiating `Sofomore` with `cma-es`, via the `get_cmas` factory function:\n",
    "\n",
    "list_of_solvers = mo.get_cmas(num_kernels * [dimension * [0.3]], 0.2)\n",
    "moes = mo.Sofomore(list_of_solvers, reference_point = [11,11])\n",
    "\n",
    "fitness = mo.FitFun(cma.ff.sphere, lambda x: cma.ff.sphere(x-1))\n",
    "while not moes.stop():\n",
    "#for i in range(50):\n",
    "    solutions = moes.ask()\n",
    "    objective_values = [fitness(x) for x in solutions]\n",
    "    moes.tell(solutions, objective_values)\n",
    "    moes.disp()\n",
    "    moes.logger.add()"
   ]
  },
  {
   "cell_type": "code",
   "execution_count": null,
   "metadata": {},
   "outputs": [],
   "source": [
    "moes.median_stds"
   ]
  },
  {
   "cell_type": "code",
   "execution_count": null,
   "metadata": {},
   "outputs": [],
   "source": [
    "%pdb"
   ]
  },
  {
   "cell_type": "code",
   "execution_count": null,
   "metadata": {},
   "outputs": [],
   "source": []
  },
  {
   "cell_type": "code",
   "execution_count": null,
   "metadata": {},
   "outputs": [],
   "source": []
  },
  {
   "cell_type": "code",
   "execution_count": null,
   "metadata": {},
   "outputs": [],
   "source": [
    "moes.logger.plot_ratios(iabscissa=1)"
   ]
  },
  {
   "cell_type": "code",
   "execution_count": null,
   "metadata": {},
   "outputs": [],
   "source": [
    "\n",
    "fn_incumbent = moes.logger.name_prefix + 'ratio_nondom_incumb.dat'\n",
    "fn_inactive = moes.logger.name_prefix + 'ratio_inactive_kernels.dat'\n",
    "fn_nondom = moes.logger.name_prefix + 'nondom_offsp_incumb.dat' \n",
    "filenames = fn_incumbent, fn_inactive, fn_nondom"
   ]
  },
  {
   "cell_type": "code",
   "execution_count": null,
   "metadata": {},
   "outputs": [],
   "source": [
    "iteration, countevals, res = moes.logger.load(filenames)"
   ]
  },
  {
   "cell_type": "code",
   "execution_count": null,
   "metadata": {},
   "outputs": [],
   "source": [
    "res[2]"
   ]
  },
  {
   "cell_type": "code",
   "execution_count": null,
   "metadata": {},
   "outputs": [],
   "source": []
  },
  {
   "cell_type": "code",
   "execution_count": null,
   "metadata": {},
   "outputs": [],
   "source": [
    "import cma\n",
    "%pylab nbagg \n",
    "es = cma.CMAEvolutionStrategy(10 * [1], 0.2)\n",
    "while not es.stop():\n",
    "    solutions = es.ask()\n",
    "    objective_values = [cma.ff.sphere(x) for x in solutions]\n",
    "    es.tell(solutions, objective_values)\n",
    "    es.disp()\n",
    "    es.logger.add()\n",
    "    \n",
    "#es.plot()\n",
    "#es.opts['verb_filenameprefix']\n",
    "#cma.plot('outcmaes/')\n",
    "#es.logger.plot()\n",
    "#es.logger.es.plot()"
   ]
  },
  {
   "cell_type": "code",
   "execution_count": null,
   "metadata": {},
   "outputs": [],
   "source": [
    "es.opts"
   ]
  },
  {
   "cell_type": "code",
   "execution_count": null,
   "metadata": {},
   "outputs": [],
   "source": [
    "es.ask_geno()"
   ]
  },
  {
   "cell_type": "code",
   "execution_count": null,
   "metadata": {},
   "outputs": [],
   "source": [
    "es.ask()"
   ]
  },
  {
   "cell_type": "code",
   "execution_count": null,
   "metadata": {},
   "outputs": [],
   "source": []
  }
 ],
 "metadata": {
  "kernelspec": {
   "display_name": "Python 3",
   "language": "python",
   "name": "python3"
  },
  "language_info": {
   "codemirror_mode": {
    "name": "ipython",
    "version": 3
   },
   "file_extension": ".py",
   "mimetype": "text/x-python",
   "name": "python",
   "nbconvert_exporter": "python",
   "pygments_lexer": "ipython3",
   "version": "3.7.3"
  }
 },
 "nbformat": 4,
 "nbformat_minor": 2
}
