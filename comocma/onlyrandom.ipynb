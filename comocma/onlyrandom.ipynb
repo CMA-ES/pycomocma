{
 "cells": [
  {
   "cell_type": "code",
   "execution_count": 1,
   "metadata": {},
   "outputs": [],
   "source": [
    "%matplotlib nbagg\n",
    "import cocoex\n",
    "import numpy as np\n",
    "import os\n",
    "import sys\n",
    "os.chdir('C:/Users/dimo/Desktop/code-mo-test/comocma/')\n",
    "sys.path.insert(0, '.')\n",
    "import como\n",
    "from cocoex import default_observers \n",
    "from matplotlib import pyplot as plt\n",
    "import functools\n"
   ]
  },
  {
   "cell_type": "code",
   "execution_count": 2,
   "metadata": {},
   "outputs": [],
   "source": [
    "mysuite = cocoex.Suite('bbob-biobj', '', '')\n",
    "dimension = 2\n",
    "fun = mysuite.get_problem_by_function_dimension_instance(1, dimension, 3)\n",
    "observer_name = default_observers()['bbob-biobj']\n",
    "observer = cocoex.Observer(observer_name, '')\n",
    "observer.observe(fun)\n",
    "max_evals = 5e4 * dimension"
   ]
  },
  {
   "cell_type": "code",
   "execution_count": null,
   "metadata": {},
   "outputs": [
    {
     "name": "stdout",
     "output_type": "stream",
     "text": [
      "Iterat #Fevals   Hypervolume   axis ratios   sigmas   min&max stds\n",
      "                                  (median)  (median)    (median)\n",
      "    1      7 0.000000000000000e+00 1.0e+00 1.79e+00  2e+00  2e+00\n",
      "    2     14 0.000000000000000e+00 1.1e+00 1.80e+00  1e+00  2e+00\n",
      "    3     21 0.000000000000000e+00 1.3e+00 2.35e+00  2e+00  2e+00\n",
      "  100    707 1.148027400386140e+02 1.4e+00 5.97e-01  2e-01  3e-01\n",
      "  200   1417 1.149140357710794e+02 1.4e+00 9.35e-01  5e-01  5e-01\n",
      "  300   2127 1.149140357710794e+02 1.4e+00 9.35e-01  5e-01  5e-01\n",
      "  400   2837 1.149140357710794e+02 1.4e+00 9.35e-01  5e-01  5e-01\n",
      "  500   3547 1.149140357710794e+02 1.4e+00 9.35e-01  5e-01  5e-01\n",
      "  600   4257 1.149140357710794e+02 1.4e+00 9.35e-01  5e-01  5e-01\n",
      "  700   4967 1.149140357710794e+02 1.4e+00 9.35e-01  5e-01  5e-01\n",
      "  800   5677 1.149140357710794e+02 1.4e+00 9.35e-01  5e-01  5e-01\n",
      "  900   6387 1.149140357710794e+02 1.4e+00 9.35e-01  5e-01  5e-01\n",
      " 1000   7097 1.149140357710794e+02 1.4e+00 9.35e-01  5e-01  5e-01\n"
     ]
    }
   ],
   "source": [
    "x0 = fun.initial_solution\n",
    "fx0 = fun(x0)\n",
    "num_kernels = 1  # number of single-objective solvers (population size)\n",
    "sigma0 = 2\n",
    "\n",
    "list_of_solvers = como.get_cmas(fun.dimension*[4], #-5 + 10 * np.random.rand(num_kernels, fun.dimension),\n",
    "                                sigma0,  # inopts=cmaopts\n",
    "                                {'tolx': 10 ** -4, \n",
    "                                 'tolfunrel': 1e-1,\n",
    "                                 'maxiter': 1e9}\n",
    "                                )  # produce `num_kernels cma instances`\n",
    "my_random_restart_function = functools.partial(como.random_restart_kernel, \n",
    "                                            x0_fct=lambda n: n*[4],\n",
    "                                            #opts={'seed':1000}\n",
    "                                            )\n",
    "\n",
    "moes = como.Sofomore(list_of_solvers, opts={'archive': False,\n",
    "                                     #'restart': como.random_restart_kernel,\n",
    "                                     'restart': my_random_restart_function,\n",
    "                                     #'restart': como.best_chv_restart_kernel,\n",
    "                                     #'restart': como.best_chv_or_random_restart_kernel,\n",
    "                                     'continue_stopped_kernel': False,\n",
    "                                     'random_restart_on_domination': False},\n",
    "reference_point = fun.largest_fvalues_of_interest)  # create a como-cma-es instance\n",
    "while fun.evaluations < max_evals:\n",
    "    solutions = moes.ask()\n",
    "    objective_values = [list(fun(x)) for x in solutions]\n",
    "    moes.tell(solutions, objective_values)\n",
    "    #print(str(fun.evaluations) + ' evaluations:') \n",
    "    moes.disp()\n",
    "    #open('onlyrandom-countevals-3e4.tmp', 'w').write(repr([k.countevals for k in moes.kernels]))\n",
    "    open('onlyrandom-countiters.tmp', 'w').write(repr([k.countiter for k in moes.kernels]))\n",
    "    #open('onlyrandom-idsofrestarts.tmp', 'w').write(repr(moes._previous_kernel_ids_on_restart))\n",
    "    #open('onlyrandom-bestchvsatrestart.tmp', 'w').write(repr(moes._bestchv_on_restart))\n",
    "    #open('onlyrandom-seedsatrestart.tmp', 'w').write(repr(moes._seeds_at_restart))\n",
    "    #open('onlyrandom-meansatrestart.tmp', 'w').write(repr(moes._meansAtRestart))\n",
    "    "
   ]
  },
  {
   "cell_type": "code",
   "execution_count": null,
   "metadata": {
    "scrolled": false
   },
   "outputs": [],
   "source": [
    "plt.figure(76565564)\n",
    "objvectors = np.array([k.objective_values for k in moes.kernels])\n",
    "domobjvectors = np.array([k.objective_values for k in moes.kernels if k.objective_values not in moes.pareto_front])\n",
    "plt.plot(objvectors[:,0], objvectors[:,1], 'xb')\n",
    "if len(domobjvectors) > 1:\n",
    "    plt.plot(domobjvectors[:,0], domobjvectors[:,1], 'xr')\n",
    "#obj = np.array([moes.kernels[i].objective_values for i in range(len(hvc)) if hvc[i]<=1e-7])\n",
    "#plt.plot(obj[:,0], obj[:,1], '.k')\n",
    "#obj = np.array([moes.kernels[i].objective_values for i in range(len(hvc)) if hvc[i]==0])\n",
    "#plt.plot(obj[:,0], obj[:,1], '.y')\n",
    "\n",
    "plt.grid(which='both')\n",
    "print(len(moes.kernels))"
   ]
  },
  {
   "cell_type": "code",
   "execution_count": null,
   "metadata": {},
   "outputs": [],
   "source": [
    "objs = [tuple(k.objective_values) for k in moes]\n",
    "print(len(objs))\n",
    "print(len(set(objs)))"
   ]
  },
  {
   "cell_type": "code",
   "execution_count": 15,
   "metadata": {},
   "outputs": [
    {
     "data": {
      "text/plain": [
       "[]"
      ]
     },
     "execution_count": 15,
     "metadata": {},
     "output_type": "execute_result"
    }
   ],
   "source": [
    "[k.objective_values for k in moes if k.objective_values not in moes.pareto_front]"
   ]
  },
  {
   "cell_type": "code",
   "execution_count": null,
   "metadata": {},
   "outputs": [],
   "source": [
    "len(set(objs))"
   ]
  },
  {
   "cell_type": "code",
   "execution_count": 25,
   "metadata": {},
   "outputs": [
    {
     "data": {
      "text/plain": [
       "[<matplotlib.lines.Line2D at 0x1ebf3d05080>]"
      ]
     },
     "execution_count": 25,
     "metadata": {},
     "output_type": "execute_result"
    }
   ],
   "source": [
    "plt.plot(np.array(moes.pareto_front)[:,0], np.array(moes.pareto_front)[:,1], '.r')"
   ]
  },
  {
   "cell_type": "code",
   "execution_count": null,
   "metadata": {},
   "outputs": [],
   "source": []
  }
 ],
 "metadata": {
  "kernelspec": {
   "display_name": "Python 3",
   "language": "python",
   "name": "python3"
  },
  "language_info": {
   "codemirror_mode": {
    "name": "ipython",
    "version": 3
   },
   "file_extension": ".py",
   "mimetype": "text/x-python",
   "name": "python",
   "nbconvert_exporter": "python",
   "pygments_lexer": "ipython3",
   "version": "3.7.3"
  }
 },
 "nbformat": 4,
 "nbformat_minor": 2
}
