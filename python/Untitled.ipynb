{
 "cells": [
  {
   "cell_type": "code",
   "execution_count": 19,
   "metadata": {},
   "outputs": [],
   "source": [
    "import cma\n",
    "import mo"
   ]
  },
  {
   "cell_type": "code",
   "execution_count": 20,
   "metadata": {},
   "outputs": [],
   "source": [
    "dim = 10\n",
    "num_kernels = 5\n",
    "fun = cma.ff.sphere, lambda x: cma.ff.sphere(x-1)"
   ]
  },
  {
   "cell_type": "code",
   "execution_count": 21,
   "metadata": {},
   "outputs": [],
   "source": [
    "list_of_solvers = mo.get_cma(num_kernels*[dim*[1]], 0.2)"
   ]
  },
  {
   "cell_type": "code",
   "execution_count": 22,
   "metadata": {},
   "outputs": [],
   "source": [
    "moes = mo.Sofomore(list_of_solvers, reference_point = [11,11])"
   ]
  },
  {
   "cell_type": "code",
   "execution_count": 23,
   "metadata": {},
   "outputs": [],
   "source": [
    "for i in range(5):\n",
    "#while not moes.stop():\n",
    "    solutions = moes.ask()\n",
    "    objective_values = [[f(x) for f in fun] for x in solutions]\n",
    "    moes.tell(solutions, objective_values)"
   ]
  },
  {
   "cell_type": "code",
   "execution_count": 18,
   "metadata": {},
   "outputs": [
    {
     "data": {
      "text/plain": [
       "[array([0.82609292, 0.82609292, 0.82609292, 0.82609292, 0.82609291,\n",
       "        0.82609292, 0.82609292, 0.82609292, 0.82609291, 0.82609292]),\n",
       " array([0.17390709, 0.17390709, 0.17390708, 0.17390709, 0.17390709,\n",
       "        0.17390709, 0.17390708, 0.17390709, 0.17390709, 0.17390709]),\n",
       " array([0.65627103, 0.65627103, 0.65627103, 0.65627103, 0.65627104,\n",
       "        0.65627103, 0.65627103, 0.65627103, 0.65627103, 0.65627103]),\n",
       " array([0.5       , 0.50000001, 0.5       , 0.5       , 0.50000001,\n",
       "        0.5       , 0.50000001, 0.5       , 0.5       , 0.5       ]),\n",
       " array([0.34372898, 0.34372898, 0.34372897, 0.34372898, 0.34372898,\n",
       "        0.34372898, 0.34372898, 0.34372898, 0.34372898, 0.34372898])]"
      ]
     },
     "execution_count": 18,
     "metadata": {},
     "output_type": "execute_result"
    }
   ],
   "source": [
    "[kernel.mean for kernel in moes.kernels]"
   ]
  },
  {
   "cell_type": "code",
   "execution_count": 24,
   "metadata": {},
   "outputs": [],
   "source": [
    "moes.turn_off(moes.kernels[0])"
   ]
  },
  {
   "cell_type": "code",
   "execution_count": null,
   "metadata": {},
   "outputs": [],
   "source": []
  }
 ],
 "metadata": {
  "kernelspec": {
   "display_name": "Python 3",
   "language": "python",
   "name": "python3"
  },
  "language_info": {
   "codemirror_mode": {
    "name": "ipython",
    "version": 3
   },
   "file_extension": ".py",
   "mimetype": "text/x-python",
   "name": "python",
   "nbconvert_exporter": "python",
   "pygments_lexer": "ipython3",
   "version": "3.7.3"
  }
 },
 "nbformat": 4,
 "nbformat_minor": 2
}
