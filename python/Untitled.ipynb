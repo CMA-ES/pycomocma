{
 "cells": [
  {
   "cell_type": "code",
   "execution_count": null,
   "metadata": {},
   "outputs": [],
   "source": [
    "%pylab nbagg\n",
    "%matplotlib notebook\n",
    "\n",
    "import cma, como\n",
    "# Set parameters\n",
    "dimension = 20\n",
    "num_kernels = 15\n",
    "opts = {}\n",
    "list_of_solvers = como.get_cmas(num_kernels * [dimension * [0]], 0.2, opts)\n",
    "moes = como.Sofomore(list_of_solvers, reference_point = [1000,1000])\n",
    "#fitness = como.FitFun(cma.ff.sphere, lambda x: cma.ff.sphere(x-1))"
   ]
  },
  {
   "cell_type": "code",
   "execution_count": null,
   "metadata": {},
   "outputs": [],
   "source": [
    "import numpy as np\n",
    "f_1 = lambda x: sum(abs(x)**0.8 + 5 * np.sin(x**3))\n",
    "f_2 = lambda x: 2 * len(x) + sum(x**2 - 10 * np.cos(2 * np.pi * x)) / 5\n",
    "fitness = como.FitFun(f_1, f_2)"
   ]
  },
  {
   "cell_type": "code",
   "execution_count": null,
   "metadata": {
    "scrolled": false
   },
   "outputs": [],
   "source": [
    "while not moes.stop() and moes.countiter < 5000:\n",
    "#for i in range(100):    \n",
    "#    solutions = moes.ask(\"all\")\n",
    "    solutions = moes.ask(\"all\")\n",
    "    objective_values = [fitness(x) for x in solutions]\n",
    "    moes.tell(solutions, objective_values)\n",
    "    moes.disp()\n",
    "    moes.logger.add()"
   ]
  },
  {
   "cell_type": "code",
   "execution_count": null,
   "metadata": {
    "scrolled": false
   },
   "outputs": [],
   "source": [
    "moes.logger.plot_front()"
   ]
  },
  {
   "cell_type": "code",
   "execution_count": null,
   "metadata": {},
   "outputs": [],
   "source": [
    "figure(7654567)\n",
    "moes.logger.plot_front()"
   ]
  },
  {
   "cell_type": "code",
   "execution_count": null,
   "metadata": {},
   "outputs": [],
   "source": [
    "figure(7654567)\n",
    "moes.logger.plot_front()"
   ]
  },
  {
   "cell_type": "code",
   "execution_count": null,
   "metadata": {},
   "outputs": [],
   "source": [
    "figure(45098)\n",
    "moes.logger.plot_front()\n",
    "tab = [kernel.objective_values for kernel in moes.kernels]\n",
    "tab0 = [u[0] for u in tab]\n",
    "tab1 = [u[1] for u in tab]\n",
    "plot(tab0, tab1, '.', color = 'r')"
   ]
  },
  {
   "cell_type": "code",
   "execution_count": null,
   "metadata": {},
   "outputs": [],
   "source": [
    "figure(2)\n",
    "moes.logger.plot_divers()"
   ]
  },
  {
   "cell_type": "code",
   "execution_count": null,
   "metadata": {},
   "outputs": [],
   "source": [
    "figure(450978)\n",
    "#moes.logger.plot_front()\n",
    "tab = [kernel.objective_values for kernel in moes.kernels]\n",
    "tab0 = [u[0] for u in tab]\n",
    "tab1 = [u[1] for u in tab]\n",
    "plot(tab0, tab1, '.', color = 'r')"
   ]
  },
  {
   "cell_type": "code",
   "execution_count": null,
   "metadata": {},
   "outputs": [],
   "source": [
    "moes.logger.plot_divers()"
   ]
  },
  {
   "cell_type": "code",
   "execution_count": null,
   "metadata": {},
   "outputs": [],
   "source": [
    "len(moes.pareto_front)"
   ]
  },
  {
   "cell_type": "code",
   "execution_count": null,
   "metadata": {},
   "outputs": [],
   "source": [
    "figure(56)\n",
    "tab = [kernel.objective_values for kernel in moes.kernels]\n",
    "tab0 = [u[0] for u in tab]\n",
    "tab1 = [u[1] for u in tab]\n",
    "plot(tab0, tab1, '.')"
   ]
  },
  {
   "cell_type": "code",
   "execution_count": null,
   "metadata": {},
   "outputs": [],
   "source": []
  },
  {
   "cell_type": "code",
   "execution_count": null,
   "metadata": {},
   "outputs": [],
   "source": [
    "moes.optimize(como.FitFun(cma.ff.sphere, lambda x: cma.ff.sphere(x-1)))"
   ]
  }
 ],
 "metadata": {
  "kernelspec": {
   "display_name": "Python 3",
   "language": "python",
   "name": "python3"
  },
  "language_info": {
   "codemirror_mode": {
    "name": "ipython",
    "version": 3
   },
   "file_extension": ".py",
   "mimetype": "text/x-python",
   "name": "python",
   "nbconvert_exporter": "python",
   "pygments_lexer": "ipython3",
   "version": "3.7.3"
  }
 },
 "nbformat": 4,
 "nbformat_minor": 2
}
