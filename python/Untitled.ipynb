{
 "cells": [
  {
   "cell_type": "code",
   "execution_count": 1,
   "metadata": {},
   "outputs": [
    {
     "name": "stdout",
     "output_type": "stream",
     "text": [
      "This gives a TypeError!\n",
      "\n",
      "Help on function arrayized_func in module __main__:\n",
      "\n",
      "arrayized_func(x, *args, **kwargs)\n",
      "    AKA function closure\n",
      "    Arrayized version of the sphere \"fitness\" function\n",
      "\n",
      "Help on function arrayized_func in module __main__:\n",
      "\n",
      "arrayized_func(x, *args, **kwargs)\n",
      "    AKA function closure\n",
      "    Arrayized version of the sphere \"fitness\" function\n",
      "\n"
     ]
    }
   ],
   "source": [
    "#!/usr/bin/env python\n",
    "# -*- coding: utf-8 -*-\n",
    "from __future__ import division, print_function\n",
    "import numpy as np\n",
    " \n",
    "def arrayize(func):\n",
    "    \"\"\"return function `func` with `np.asarray` applied to the first argument.\n",
    "  \n",
    "    In effect, we store `func` as a local variable in the encapsulated\n",
    "    function `arrayized_func`.\n",
    "    \"\"\"\n",
    "    def arrayized_func(x, *args, **kwargs):\n",
    "        \"\"\"AKA function closure\"\"\"\n",
    "        return func(np.asarray(x), *args, **kwargs)\n",
    "    arrayized_func.__doc__ += \"\\nArrayized version of the \" + func.__doc__\n",
    "    return arrayized_func\n",
    " \n",
    "# Examples:\n",
    " \n",
    "def sphere(x):\n",
    "    \"\"\"sphere \"fitness\" function\"\"\"\n",
    "    return sum(x**2)\n",
    " \n",
    "try:\n",
    "    sphere([1, 2])\n",
    "except TypeError:\n",
    "    print(\"This gives a TypeError!\\n\")\n",
    " \n",
    "sphere = arrayize(sphere)\n",
    "sphere([1, 2])  # this is good\n",
    " \n",
    "help(sphere)\n",
    " \n",
    "@arrayize\n",
    "def sphere2(x):\n",
    "    \"\"\"sphere \"fitness\" function\"\"\"\n",
    "    return sum(x**2)\n",
    "  \n",
    "help(sphere2)\n",
    " \n",
    "# What is the difference between `sphere` and `sphere2`?\n",
    "\n",
    "\n",
    "\n",
    "\n",
    "# Bonus code:\n",
    " \n",
    "class Arrayize:\n",
    "    \"\"\"A call executes `func` with `np.asarray` applied to the first argument.\n",
    "  \n",
    "    See help of `func` attribute, ``help(this.func)``.\n",
    "    \"\"\"\n",
    "    def __init__(self, func):\n",
    "        self.func = func\n",
    "    def __call__(self, x, *args, **kwargs):\n",
    "        return self.func(np.asarray(x), *args, **kwargs)\n",
    " \n",
    "sphere = Arrayize(sphere)\n"
   ]
  },
  {
   "cell_type": "code",
   "execution_count": 2,
   "metadata": {},
   "outputs": [
    {
     "data": {
      "text/plain": [
       "5"
      ]
     },
     "execution_count": 2,
     "metadata": {},
     "output_type": "execute_result"
    }
   ],
   "source": [
    "sphere([1,2])"
   ]
  },
  {
   "cell_type": "code",
   "execution_count": 3,
   "metadata": {},
   "outputs": [
    {
     "name": "stdout",
     "output_type": "stream",
     "text": [
      "Help on Arrayize in module __main__ object:\n",
      "\n",
      "class Arrayize(builtins.object)\n",
      " |  Arrayize(func)\n",
      " |  \n",
      " |  A call executes `func` with `np.asarray` applied to the first argument.\n",
      " |  \n",
      " |  See help of `func` attribute, ``help(this.func)``.\n",
      " |  \n",
      " |  Methods defined here:\n",
      " |  \n",
      " |  __call__(self, x, *args, **kwargs)\n",
      " |      Call self as a function.\n",
      " |  \n",
      " |  __init__(self, func)\n",
      " |      Initialize self.  See help(type(self)) for accurate signature.\n",
      " |  \n",
      " |  ----------------------------------------------------------------------\n",
      " |  Data descriptors defined here:\n",
      " |  \n",
      " |  __dict__\n",
      " |      dictionary for instance variables (if defined)\n",
      " |  \n",
      " |  __weakref__\n",
      " |      list of weak references to the object (if defined)\n",
      "\n"
     ]
    }
   ],
   "source": [
    " \n",
    "@Arrayize\n",
    "def sphere2(x):\n",
    "    \"\"\"sphere \"fitness\" function\"\"\"\n",
    "    return sum(x**2)\n",
    "  \n",
    "help(sphere2)"
   ]
  },
  {
   "cell_type": "code",
   "execution_count": 4,
   "metadata": {},
   "outputs": [
    {
     "data": {
      "text/plain": [
       "5"
      ]
     },
     "execution_count": 4,
     "metadata": {},
     "output_type": "execute_result"
    }
   ],
   "source": [
    "sphere2([1,2])"
   ]
  },
  {
   "cell_type": "code",
   "execution_count": null,
   "metadata": {},
   "outputs": [],
   "source": []
  }
 ],
 "metadata": {
  "kernelspec": {
   "display_name": "Python 3",
   "language": "python",
   "name": "python3"
  },
  "language_info": {
   "codemirror_mode": {
    "name": "ipython",
    "version": 3
   },
   "file_extension": ".py",
   "mimetype": "text/x-python",
   "name": "python",
   "nbconvert_exporter": "python",
   "pygments_lexer": "ipython3",
   "version": "3.7.3"
  }
 },
 "nbformat": 4,
 "nbformat_minor": 2
}
