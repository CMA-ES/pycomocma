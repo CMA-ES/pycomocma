{
 "cells": [
  {
   "cell_type": "code",
   "execution_count": 1,
   "metadata": {},
   "outputs": [
    {
     "name": "stdout",
     "output_type": "stream",
     "text": [
      "Populating the interactive namespace from numpy and matplotlib\n",
      "Warning: Cannot change to a different GUI toolkit: notebook. Using nbagg instead.\n"
     ]
    }
   ],
   "source": [
    "%pylab nbagg\n",
    "%matplotlib notebook\n",
    "\n",
    "import cma, mo\n",
    "# Set parameters\n",
    "dimension = 10\n",
    "num_kernels = 5\n",
    "\n",
    "list_of_solvers = mo.get_cmas(num_kernels * [dimension * [1]], 0.2)\n",
    "moes = mo.Sofomore(list_of_solvers, reference_point = [11,11])\n"
   ]
  },
  {
   "cell_type": "code",
   "execution_count": 10,
   "metadata": {},
   "outputs": [],
   "source": [
    "moes.inactivate(0)"
   ]
  },
  {
   "cell_type": "code",
   "execution_count": 21,
   "metadata": {},
   "outputs": [
    {
     "data": {
      "text/plain": [
       "{0: {'callback': ['kernel turned off', 'kernel turned off']},\n",
       " 1: {},\n",
       " 2: {},\n",
       " 3: {},\n",
       " 4: {}}"
      ]
     },
     "execution_count": 21,
     "metadata": {},
     "output_type": "execute_result"
    }
   ],
   "source": [
    "moes.termination_status"
   ]
  },
  {
   "cell_type": "code",
   "execution_count": 9,
   "metadata": {},
   "outputs": [
    {
     "name": "stdout",
     "output_type": "stream",
     "text": [
      "Iterat #Fevals   Hypervolume   axis ratios   sigmas   min&max stds\n",
      "                                  (median)  (median)    (median)\n",
      "    1     10 1.100000000000000e+01 1.0e+00 2.00e-01  2e-01  2e-01\n",
      "    2     20 2.020953232336593e+01 1.0e+00 2.00e-01  2e-01  2e-01\n",
      "    3     30 2.030237335187169e+01 1.0e+00 1.98e-01  2e-01  2e-01\n"
     ]
    },
    {
     "data": {
      "text/plain": [
       "<mo.Sofomore at 0x11570c438>"
      ]
     },
     "execution_count": 9,
     "metadata": {},
     "output_type": "execute_result"
    }
   ],
   "source": [
    "moes.optimize(mo.FitFun(cma.ff.sphere, lambda x: cma.ff.sphere(x-1)), iterations=10)"
   ]
  },
  {
   "cell_type": "code",
   "execution_count": 12,
   "metadata": {},
   "outputs": [],
   "source": [
    "kernel = moes.kernels[0]"
   ]
  },
  {
   "cell_type": "code",
   "execution_count": 16,
   "metadata": {},
   "outputs": [
    {
     "data": {
      "text/plain": [
       "'kernel turned off'"
      ]
     },
     "execution_count": 16,
     "metadata": {},
     "output_type": "execute_result"
    }
   ],
   "source": [
    "kernel.opts['termination_callback'][0](kernel)"
   ]
  },
  {
   "cell_type": "code",
   "execution_count": 20,
   "metadata": {},
   "outputs": [
    {
     "data": {
      "text/plain": [
       "[]"
      ]
     },
     "execution_count": 20,
     "metadata": {},
     "output_type": "execute_result"
    }
   ],
   "source": [
    "kernel.opts['termination_callback']"
   ]
  },
  {
   "cell_type": "code",
   "execution_count": 22,
   "metadata": {},
   "outputs": [
    {
     "data": {
      "text/plain": [
       "{'callback': ['kernel turned off', 'kernel turned off']}"
      ]
     },
     "execution_count": 22,
     "metadata": {},
     "output_type": "execute_result"
    }
   ],
   "source": [
    "kernel.stop()"
   ]
  },
  {
   "cell_type": "code",
   "execution_count": 25,
   "metadata": {},
   "outputs": [],
   "source": [
    "kernel.stop??"
   ]
  },
  {
   "cell_type": "code",
   "execution_count": 4,
   "metadata": {},
   "outputs": [],
   "source": [
    "fn_axis_ratios = 'median_axis_ratios.dat'\n",
    "fn_max_stds = 'median_max_stds.dat'\n",
    "fn_min_stds = 'median_min_stds.dat' \n",
    "fn_sigmas = 'median_sigmas.dat'\n",
    "fn_hypervolume = 'hypervolume.dat'\n",
    "fn_archive = 'hypervolume_archive.dat' \n",
    "fn_len_archive = 'len_archive.dat' \n",
    "\n",
    "filenames = (fn_axis_ratios, fn_max_stds, fn_min_stds, fn_sigmas,\n",
    "fn_hypervolume, fn_archive, fn_len_archive)"
   ]
  },
  {
   "cell_type": "code",
   "execution_count": 5,
   "metadata": {},
   "outputs": [
    {
     "data": {
      "text/plain": [
       "7"
      ]
     },
     "execution_count": 5,
     "metadata": {},
     "output_type": "execute_result"
    }
   ],
   "source": [
    "len(filenames)"
   ]
  },
  {
   "cell_type": "code",
   "execution_count": 6,
   "metadata": {},
   "outputs": [
    {
     "data": {
      "text/plain": [
       "('median_axis_ratios.dat',\n",
       " 'median_max_stds.dat',\n",
       " 'median_min_stds.dat',\n",
       " 'median_sigmas.dat',\n",
       " 'hypervolume.dat',\n",
       " 'hypervolume_archive.dat',\n",
       " 'len_archive.dat')"
      ]
     },
     "execution_count": 6,
     "metadata": {},
     "output_type": "execute_result"
    }
   ],
   "source": [
    "filenames"
   ]
  },
  {
   "cell_type": "code",
   "execution_count": null,
   "metadata": {},
   "outputs": [],
   "source": []
  }
 ],
 "metadata": {
  "kernelspec": {
   "display_name": "Python 3",
   "language": "python",
   "name": "python3"
  },
  "language_info": {
   "codemirror_mode": {
    "name": "ipython",
    "version": 3
   },
   "file_extension": ".py",
   "mimetype": "text/x-python",
   "name": "python",
   "nbconvert_exporter": "python",
   "pygments_lexer": "ipython3",
   "version": "3.7.3"
  }
 },
 "nbformat": 4,
 "nbformat_minor": 2
}
