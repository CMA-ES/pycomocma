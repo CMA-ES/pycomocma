{
 "cells": [
  {
   "cell_type": "code",
   "execution_count": 1,
   "metadata": {},
   "outputs": [],
   "source": [
    "import cma, pickle"
   ]
  },
  {
   "cell_type": "code",
   "execution_count": null,
   "metadata": {},
   "outputs": [],
   "source": []
  },
  {
   "cell_type": "code",
   "execution_count": null,
   "metadata": {
    "scrolled": false
   },
   "outputs": [],
   "source": [
    "es = cma.CMAEvolutionStrategy(12 * [0.1], 0.5) \n",
    "es.optimize(cma.ff.rosen, iterations=100)\n",
    "pickle.dump(es, open('saved-cma-object.pkl', 'wb'))\n",
    "print('saved')\n",
    "del es  # let's start fresh"
   ]
  },
  {
   "cell_type": "code",
   "execution_count": null,
   "metadata": {},
   "outputs": [],
   "source": [
    "es = pickle.load(open('saved-cma-object.pkl', 'rb'))\n",
    "print('resumed')\n",
    "es.optimize(cma.ff.rosen, verb_disp=200)\n"
   ]
  },
  {
   "cell_type": "code",
   "execution_count": 5,
   "metadata": {},
   "outputs": [],
   "source": [
    "import cma, mo, dill\n",
    "\n",
    "# Defining a callable multiobjective function:\n",
    "\n",
    "class FitFun:\n",
    "    def __init__(self, *args):\n",
    "        self.callables = args\n",
    "    def __call__(self, x):\n",
    "        return [f(x) for f in self.callables]\n",
    "fitness = FitFun(cma.ff.sphere, lambda x: cma.ff.sphere(x-1)) \n",
    "\n",
    "# Set parameters\n",
    "dimension = 10\n",
    "num_kernels = 5\n",
    "\n",
    "# Instantiating `Sofomore` with `cma-es`, via the `get_cmas` factory function:\n",
    "\n",
    "list_of_solvers = mo.get_cmas(num_kernels * [dimension * [0.3]], 0.2)\n",
    "moes = mo.Sofomore(list_of_solvers, reference_point = [11,11])\n"
   ]
  },
  {
   "cell_type": "code",
   "execution_count": 6,
   "metadata": {},
   "outputs": [
    {
     "name": "stdout",
     "output_type": "stream",
     "text": [
      "Iterat #Fevals   Hypervolume   axis ratios   sigmas   min&max stds\n",
      "                                  (median)  (median)    (median)\n",
      "    1     10 6.161000000000001e+01 1.0e+00 2.00e-01  2e-01  2e-01\n",
      "    2     20 7.191558630806270e+01 1.0e+00 2.00e-01  2e-01  2e-01\n",
      "    3     30 7.256065201165487e+01 1.0e+00 1.87e-01  2e-01  2e-01\n",
      "  100   1000 9.630911478598361e+01 1.6e+00 8.75e-02  7e-02  9e-02\n",
      "saved\n"
     ]
    }
   ],
   "source": [
    "#while not moes.stop():\n",
    "for i in range(100):\n",
    "    solutions = moes.ask()\n",
    "    objective_values = [fitness(x) for x in solutions]\n",
    "    moes.tell(solutions, objective_values)\n",
    "    moes.disp()\n",
    "\n",
    "dill.dump(moes, open('saved-mocma-object.pkl', 'wb'))\n",
    "print('saved')\n",
    "del moes  # let's start fresh"
   ]
  },
  {
   "cell_type": "code",
   "execution_count": 8,
   "metadata": {},
   "outputs": [],
   "source": [
    "moes = dill.load(open('saved-mocma-object.pkl', 'rb'))"
   ]
  },
  {
   "cell_type": "code",
   "execution_count": 9,
   "metadata": {},
   "outputs": [
    {
     "name": "stdout",
     "output_type": "stream",
     "text": [
      "  200   2000 9.715244940596021e+01 1.9e+00 3.12e-02  2e-02  3e-02\n",
      "  300   3000 9.723542478393748e+01 2.0e+00 1.12e-02  6e-03  9e-03\n",
      "  400   4000 9.724082969511424e+01 2.0e+00 3.10e-03  2e-03  2e-03\n",
      "  500   5000 9.724108359418057e+01 2.0e+00 8.47e-04  4e-04  4e-04\n",
      "  600   6000 9.724109722475202e+01 2.1e+00 2.67e-04  9e-05  1e-04\n",
      "  700   7000 9.724109825104070e+01 2.0e+00 7.45e-05  2e-05  3e-05\n",
      "  800   8000 9.724109830054206e+01 2.2e+00 1.84e-05  5e-06  5e-06\n",
      "  900   9000 9.724109830320940e+01 2.2e+00 5.37e-06  1e-06  1e-06\n",
      " 1000  10000 9.724109830354304e+01 2.0e+00 2.61e-06  5e-07  6e-07\n",
      " 1100  11000 9.724109830357361e+01 1.9e+00 9.27e-07  1e-07  2e-07\n",
      " 1200  12000 9.724109830357658e+01 1.9e+00 3.31e-07  4e-08  5e-08\n",
      " 1300  13000 9.724109830357686e+01 2.2e+00 1.26e-07  1e-08  2e-08\n",
      " 1400  14000 9.724109830357689e+01 2.2e+00 3.79e-08  3e-09  4e-09\n",
      " 1500  15000 9.724109830357690e+01 2.3e+00 2.61e-08  2e-09  3e-09\n",
      " 1600  16000 9.724109830357690e+01 3.1e+00 2.20e-08  2e-09  2e-09\n",
      " 1700  16970 9.724109830357690e+01 3.2e+00 1.60e-08  1e-09  2e-09\n",
      " 1800  17550 9.724109830357690e+01 3.6e+00 1.07e-08  7e-10  1e-09\n",
      " 1853  17820 9.724109830357690e+01 3.6e+00 9.29e-09  5e-10  9e-10\n"
     ]
    },
    {
     "data": {
      "text/plain": [
       "<mo.Sofomore at 0x118a18898>"
      ]
     },
     "execution_count": 9,
     "metadata": {},
     "output_type": "execute_result"
    }
   ],
   "source": [
    "moes.optimize(fitness)"
   ]
  },
  {
   "cell_type": "code",
   "execution_count": null,
   "metadata": {},
   "outputs": [],
   "source": []
  }
 ],
 "metadata": {
  "kernelspec": {
   "display_name": "Python 3",
   "language": "python",
   "name": "python3"
  },
  "language_info": {
   "codemirror_mode": {
    "name": "ipython",
    "version": 3
   },
   "file_extension": ".py",
   "mimetype": "text/x-python",
   "name": "python",
   "nbconvert_exporter": "python",
   "pygments_lexer": "ipython3",
   "version": "3.7.3"
  }
 },
 "nbformat": 4,
 "nbformat_minor": 2
}
