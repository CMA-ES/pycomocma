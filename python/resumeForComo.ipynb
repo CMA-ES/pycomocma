{
 "cells": [
  {
   "cell_type": "code",
   "execution_count": null,
   "metadata": {},
   "outputs": [],
   "source": [
    "import cma, pickle"
   ]
  },
  {
   "cell_type": "code",
   "execution_count": null,
   "metadata": {},
   "outputs": [],
   "source": []
  },
  {
   "cell_type": "code",
   "execution_count": null,
   "metadata": {
    "scrolled": false
   },
   "outputs": [],
   "source": [
    "es = cma.CMAEvolutionStrategy(12 * [0.1], 0.5) \n",
    "es.optimize(cma.ff.rosen, iterations=100)\n",
    "pickle.dump(es, open('saved-cma-object.pkl', 'wb'))\n",
    "print('saved')\n",
    "del es  # let's start fresh"
   ]
  },
  {
   "cell_type": "code",
   "execution_count": null,
   "metadata": {},
   "outputs": [],
   "source": [
    "es = pickle.load(open('saved-cma-object.pkl', 'rb'))\n",
    "print('resumed')\n",
    "es.optimize(cma.ff.rosen, verb_disp=200)\n"
   ]
  },
  {
   "cell_type": "code",
   "execution_count": 1,
   "metadata": {},
   "outputs": [],
   "source": [
    "import cma, mo, dill\n",
    "\n",
    "# Defining a callable multiobjective function:\n",
    "\n",
    "class FitFun:\n",
    "    def __init__(self, *args):\n",
    "        self.callables = args\n",
    "    def __call__(self, x):\n",
    "        return [f(x) for f in self.callables]\n",
    "fitness = FitFun(cma.ff.sphere, lambda x: cma.ff.sphere(x-1)) \n",
    "\n",
    "# Set parameters\n",
    "dimension = 10\n",
    "num_kernels = 5\n",
    "\n",
    "# Instantiating `Sofomore` with `cma-es`, via the `get_cmas` factory function:\n",
    "\n",
    "list_of_solvers = mo.get_cmas(num_kernels * [dimension * [0.3]], 0.2)\n",
    "moes = mo.Sofomore(list_of_solvers, reference_point = [11,11])\n"
   ]
  },
  {
   "cell_type": "code",
   "execution_count": 2,
   "metadata": {},
   "outputs": [
    {
     "name": "stdout",
     "output_type": "stream",
     "text": [
      "Iterat #Fevals   Hypervolume   axis ratios   sigmas   min&max stds\n",
      "                                  (median)  (median)    (median)\n",
      "    1     10 6.161000000000001e+01 1.0e+00 2.00e-01  2e-01  2e-01\n",
      "    2     20 6.753908568727948e+01 1.0e+00 2.00e-01  2e-01  2e-01\n",
      "    3     30 6.901683465891308e+01 1.0e+00 1.91e-01  2e-01  2e-01\n",
      "  100   1000 9.572461631276427e+01 1.7e+00 7.91e-02  6e-02  7e-02\n"
     ]
    }
   ],
   "source": [
    "#while not moes.stop():\n",
    "for i in range(100):\n",
    "    solutions = moes.ask()\n",
    "    objective_values = [fitness(x) for x in solutions]\n",
    "    moes.tell(solutions, objective_values)\n",
    "    moes.disp()\n",
    "    dill.dump(moes, open('saved-mocma-object.pkl', 'wb'))\n"
   ]
  },
  {
   "cell_type": "code",
   "execution_count": 3,
   "metadata": {},
   "outputs": [],
   "source": [
    "moes = dill.load(open('saved-mocma-object.pkl', 'rb'))\n"
   ]
  },
  {
   "cell_type": "code",
   "execution_count": 4,
   "metadata": {},
   "outputs": [
    {
     "name": "stdout",
     "output_type": "stream",
     "text": [
      "  200   2000 9.714560167884295e+01 1.8e+00 3.54e-02  2e-02  3e-02\n",
      "  300   3000 9.723729519311682e+01 2.0e+00 7.86e-03  5e-03  6e-03\n",
      "  400   4000 9.724083430511163e+01 2.1e+00 2.51e-03  1e-03  1e-03\n",
      "  500   5000 9.724107400827782e+01 2.0e+00 6.71e-04  3e-04  3e-04\n",
      "  600   6000 9.724109619144640e+01 2.0e+00 2.00e-04  7e-05  9e-05\n",
      "  700   7000 9.724109821586180e+01 2.0e+00 7.30e-05  2e-05  2e-05\n",
      "  800   8000 9.724109829823814e+01 2.0e+00 2.29e-05  5e-06  7e-06\n",
      "  900   9000 9.724109830307950e+01 2.0e+00 9.13e-06  2e-06  2e-06\n",
      " 1000  10000 9.724109830352529e+01 2.0e+00 2.97e-06  5e-07  7e-07\n",
      " 1100  11000 9.724109830357392e+01 2.1e+00 1.04e-06  1e-07  2e-07\n",
      " 1200  12000 9.724109830357632e+01 2.0e+00 3.12e-07  4e-08  5e-08\n",
      " 1300  13000 9.724109830357682e+01 2.0e+00 1.34e-07  1e-08  2e-08\n",
      " 1400  14000 9.724109830357690e+01 2.0e+00 8.26e-08  7e-09  1e-08\n",
      " 1500  15000 9.724109830357690e+01 2.4e+00 3.05e-08  2e-09  4e-09\n",
      " 1600  16000 9.724109830357690e+01 2.7e+00 1.55e-08  1e-09  2e-09\n",
      " 1700  16960 9.724109830357690e+01 3.3e+00 1.10e-08  7e-10  1e-09\n",
      " 1800  17480 9.724109830357690e+01 3.5e+00 9.51e-09  6e-10  1e-09\n",
      " 1900  17980 9.724109830357690e+01 3.5e+00 9.51e-09  6e-10  1e-09\n",
      " 1940  18180 9.724109830357690e+01 3.5e+00 9.00e-09  5e-10  1e-09\n"
     ]
    },
    {
     "data": {
      "text/plain": [
       "<mo.Sofomore at 0x109a8e470>"
      ]
     },
     "execution_count": 4,
     "metadata": {},
     "output_type": "execute_result"
    }
   ],
   "source": [
    "moes.optimize(fitness)"
   ]
  },
  {
   "cell_type": "code",
   "execution_count": null,
   "metadata": {},
   "outputs": [],
   "source": []
  }
 ],
 "metadata": {
  "kernelspec": {
   "display_name": "Python 3",
   "language": "python",
   "name": "python3"
  },
  "language_info": {
   "codemirror_mode": {
    "name": "ipython",
    "version": 3
   },
   "file_extension": ".py",
   "mimetype": "text/x-python",
   "name": "python",
   "nbconvert_exporter": "python",
   "pygments_lexer": "ipython3",
   "version": "3.7.3"
  }
 },
 "nbformat": 4,
 "nbformat_minor": 2
}
