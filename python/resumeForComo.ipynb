{
 "cells": [
  {
   "cell_type": "code",
   "execution_count": 1,
   "metadata": {},
   "outputs": [],
   "source": [
    "import cma, mo, pickle\n",
    "\n",
    "# Defining a callable multiobjective function:\n",
    "\n",
    "class FitFun:\n",
    "    def __init__(self, *args):\n",
    "        self.callables = args\n",
    "    def __call__(self, x):\n",
    "        return [f(x) for f in self.callables]\n",
    "fitness = FitFun(cma.ff.sphere, lambda x: cma.ff.sphere(x-1)) \n",
    "\n",
    "# Set parameters\n",
    "dimension = 10\n",
    "num_kernels = 5\n",
    "\n",
    "# Instantiating `Sofomore` with `cma-es`, via the `get_cmas` factory function:\n",
    "\n",
    "list_of_solvers = mo.get_cmas(num_kernels * [dimension * [0.3]], 0.2)\n",
    "moes = mo.Sofomore(list_of_solvers, reference_point = [11,11])\n"
   ]
  },
  {
   "cell_type": "code",
   "execution_count": 2,
   "metadata": {},
   "outputs": [],
   "source": [
    "class Order:\n",
    "    \"\"\"\n",
    "    `Order(moes)` is a function that takes an index `i` as argument, and returns\n",
    "    the opposite contributing hypervolume of `moes.kernels[i].objective_values`\n",
    "    into `moes.front`.\n",
    "    \"\"\"\n",
    "    def __init__(self, moes):\n",
    "        self.moes = moes\n",
    "    def __call__(self,i):\n",
    "        if self.moes.kernels[i].objective_values not in self.moes.front:\n",
    "            # meaning that the point is not nondominated\n",
    "            return 0\n",
    "        else: # the point is nondominated: the (opposite) contributing hypervolume is a non zero value\n",
    "            index = self.moes.front.bisect_left(self.moes.kernels[i].objective_values)\n",
    "            return - self.moes.front.contributing_hypervolume(index)\n",
    "             "
   ]
  },
  {
   "cell_type": "code",
   "execution_count": 3,
   "metadata": {},
   "outputs": [
    {
     "name": "stdout",
     "output_type": "stream",
     "text": [
      "Iterat #Fevals   Hypervolume   axis ratios   sigmas   min&max stds\n",
      "                                  (median)  (median)    (median)\n",
      "    1     10 6.161000000000001e+01 1.0e+00 2.00e-01  2e-01  2e-01\n",
      "    2     20 6.592335425875837e+01 1.0e+00 2.00e-01  2e-01  2e-01\n",
      "    3     30 6.722966527270513e+01 1.0e+00 1.91e-01  2e-01  2e-01\n",
      "  100   1000 9.598830431979563e+01 1.6e+00 8.87e-02  7e-02  8e-02\n",
      "saved\n"
     ]
    }
   ],
   "source": [
    "#while not moes.stop():\n",
    "for i in range(100):\n",
    "    solutions = moes.ask()\n",
    "    objective_values = [fitness(x) for x in solutions]\n",
    "    moes.tell(solutions, objective_values)\n",
    "    moes.disp()\n",
    "    moes.order = Order(moes)\n",
    "pickle.dump(moes, open('saved-mocma-object.pkl', 'wb'))\n",
    "print('saved')\n",
    "del moes  # let's start fresh"
   ]
  },
  {
   "cell_type": "code",
   "execution_count": 4,
   "metadata": {},
   "outputs": [],
   "source": [
    "moes = pickle.load(open('saved-mocma-object.pkl', 'rb'))"
   ]
  },
  {
   "cell_type": "code",
   "execution_count": 5,
   "metadata": {},
   "outputs": [
    {
     "data": {
      "text/plain": [
       "[Fraction(-8545998748809195668318358556665, 2535301200456458802993406410752),\n",
       " Fraction(-2470265143276750688931611749539, 633825300114114700748351602688),\n",
       " Fraction(-13436973697942462279613818375475, 5070602400912917605986812821504),\n",
       " Fraction(-15759010397027829393534255011435, 5070602400912917605986812821504),\n",
       " Fraction(-10624668229784718367734051033075, 2535301200456458802993406410752)]"
      ]
     },
     "execution_count": 5,
     "metadata": {},
     "output_type": "execute_result"
    }
   ],
   "source": [
    "[moes.order(i) for i in range(5)]"
   ]
  },
  {
   "cell_type": "code",
   "execution_count": 6,
   "metadata": {},
   "outputs": [
    {
     "name": "stdout",
     "output_type": "stream",
     "text": [
      "  200   2000 9.721055364943868e+01 1.9e+00 2.59e-02  2e-02  2e-02\n",
      "  300   3000 9.723786908683871e+01 1.9e+00 7.72e-03  5e-03  5e-03\n",
      "  400   4000 9.724066565151536e+01 2.0e+00 1.79e-03  9e-04  1e-03\n",
      "  500   5000 9.724106411795985e+01 2.2e+00 8.62e-04  3e-04  4e-04\n"
     ]
    },
    {
     "data": {
      "text/plain": [
       "<mo.Sofomore at 0x111a0b550>"
      ]
     },
     "execution_count": 6,
     "metadata": {},
     "output_type": "execute_result"
    }
   ],
   "source": [
    "moes.optimize(fitness, iterations = 400)"
   ]
  },
  {
   "cell_type": "code",
   "execution_count": 7,
   "metadata": {},
   "outputs": [
    {
     "data": {
      "text/plain": [
       "fractions.Fraction"
      ]
     },
     "execution_count": 7,
     "metadata": {},
     "output_type": "execute_result"
    }
   ],
   "source": [
    "type(moes.order(0))"
   ]
  },
  {
   "cell_type": "code",
   "execution_count": null,
   "metadata": {},
   "outputs": [],
   "source": []
  }
 ],
 "metadata": {
  "kernelspec": {
   "display_name": "Python 3",
   "language": "python",
   "name": "python3"
  },
  "language_info": {
   "codemirror_mode": {
    "name": "ipython",
    "version": 3
   },
   "file_extension": ".py",
   "mimetype": "text/x-python",
   "name": "python",
   "nbconvert_exporter": "python",
   "pygments_lexer": "ipython3",
   "version": "3.7.3"
  }
 },
 "nbformat": 4,
 "nbformat_minor": 2
}
