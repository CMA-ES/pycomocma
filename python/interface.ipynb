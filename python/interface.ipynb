{
 "cells": [
  {
   "cell_type": "code",
   "execution_count": 1,
   "metadata": {},
   "outputs": [],
   "source": [
    "import cma\n",
    "import mo\n",
    "\n",
    "# Defining a callable multiobjective function:\n",
    "\n",
    "class FitFun:\n",
    "    def __init__(self, *args):\n",
    "        self.callables = args\n",
    "    def __call__(self, x):\n",
    "        return [f(x) for f in self.callables]\n",
    "fitness = FitFun(cma.ff.sphere, lambda x: cma.ff.sphere(x-1)) \n",
    "\n",
    "# Defining a multiobjective function:\n",
    "\n",
    "dim = 10\n",
    "num_kernels = 5\n",
    "\n",
    "# Instantiating `Sofomore` with `cma-es`, via the `get_cmas` factory function:\n",
    "\n",
    "list_of_solvers = mo.get_cmas(num_kernels * [dim * [1]], 0.2)\n",
    "moes = mo.Sofomore(list_of_solvers, reference_point = [11,11])\n"
   ]
  },
  {
   "cell_type": "code",
   "execution_count": null,
   "metadata": {},
   "outputs": [],
   "source": [
    "moes.optimize(fitness)"
   ]
  },
  {
   "cell_type": "code",
   "execution_count": null,
   "metadata": {},
   "outputs": [],
   "source": [
    "[kernel.mean for kernel in moes.kernels]"
   ]
  },
  {
   "cell_type": "code",
   "execution_count": null,
   "metadata": {},
   "outputs": [],
   "source": [
    "list_of_solvers = mo.get_cmas(num_kernels * [dim * [1]], 0.2)\n",
    "moes = mo.Sofomore(list_of_solvers, reference_point = [11,11])\n",
    "\n",
    "while not moes.stop():\n",
    "    solutions = moes.ask()\n",
    "    objective_values = [fitness(x) for x in solutions]\n",
    "    moes.tell(solutions, objective_values)"
   ]
  },
  {
   "cell_type": "code",
   "execution_count": null,
   "metadata": {},
   "outputs": [],
   "source": [
    "moes = mo.Sofomore(list_of_solvers, reference_point = [11,11])\n"
   ]
  },
  {
   "cell_type": "code",
   "execution_count": 16,
   "metadata": {},
   "outputs": [
    {
     "name": "stderr",
     "output_type": "stream",
     "text": [
      "/Users/tourealite/Downloads/______phD/code-mo/python/cma/utilities/utils.py:333: UserWarning: flat fitness (f=-27.110552, sigma=2.09e-08).\n",
      "                    For small sigma, this could indicate numerical convergence.\n",
      "                    Otherwise, please (re)consider how to compute the fitness more elaborately. (iteration=255)\n",
      "  ')')\n",
      "/Users/tourealite/Downloads/______phD/code-mo/python/cma/utilities/utils.py:333: UserWarning: flat fitness (f=-19.475351, sigma=1.31e-08).\n",
      "                    For small sigma, this could indicate numerical convergence.\n",
      "                    Otherwise, please (re)consider how to compute the fitness more elaborately. (iteration=296)\n",
      "  ')')\n",
      "/Users/tourealite/Downloads/______phD/code-mo/python/cma/utilities/utils.py:333: UserWarning: flat fitness (f=-19.475351, sigma=7.49e-09).\n",
      "                    For small sigma, this could indicate numerical convergence.\n",
      "                    Otherwise, please (re)consider how to compute the fitness more elaborately. (iteration=308)\n",
      "  ')')\n",
      "/Users/tourealite/Downloads/______phD/code-mo/python/cma/utilities/utils.py:333: UserWarning: flat fitness (f=-19.475351, sigma=6.46e-09).\n",
      "                    For small sigma, this could indicate numerical convergence.\n",
      "                    Otherwise, please (re)consider how to compute the fitness more elaborately. (iteration=309)\n",
      "  ')')\n"
     ]
    }
   ],
   "source": [
    "# Testing the bounds:\n",
    "list_of_solvers = mo.get_cmas(num_kernels * [dim * [0.3]], 0.1, inopts = {'bounds':[0.2, None]})\n",
    "moes = mo.Sofomore(list_of_solvers, reference_point = [11,11])\n",
    "\n",
    "while not moes.stop():\n",
    "    solutions = moes.ask()\n",
    "    objective_values = [fitness(x) for x in solutions]\n",
    "    moes.tell(solutions, objective_values)"
   ]
  },
  {
   "cell_type": "code",
   "execution_count": 17,
   "metadata": {},
   "outputs": [
    {
     "data": {
      "text/plain": [
       "[array([ 0.81683494,  0.81683494,  0.81683493,  0.81683494,  0.81683494,\n",
       "         0.81683494, -0.53683494,  0.81683494,  0.81683494,  0.81683494]),\n",
       " array([ 0.45989988, -0.17989988, -0.17989988, -0.17989988,  0.45989989,\n",
       "         0.45989989, -0.17989988, -0.17989988,  0.45989988, -0.17989988]),\n",
       " array([0.63862054, 0.63862054, 0.63862053, 0.63862054, 0.63862053,\n",
       "        0.63862054, 0.63862054, 0.63862054, 0.63862055, 0.63862054]),\n",
       " array([ 0.45989988,  0.45989989,  0.45989989, -0.17989988,  0.45989988,\n",
       "        -0.17989988,  0.45989988,  0.45989989, -0.17989988, -0.17989988]),\n",
       " array([ 0.32201839,  0.32201839,  0.32201839,  0.32201839, -0.04201839,\n",
       "         0.32201839,  0.32201839,  0.3220184 ,  0.3220184 ,  0.32201839])]"
      ]
     },
     "execution_count": 17,
     "metadata": {},
     "output_type": "execute_result"
    }
   ],
   "source": [
    "[kernel.mean for kernel in moes.kernels]"
   ]
  },
  {
   "cell_type": "code",
   "execution_count": 15,
   "metadata": {},
   "outputs": [
    {
     "data": {
      "text/plain": [
       "[array([0.66633411, 0.66633411, 0.66633411, 0.66633411, 0.66633411,\n",
       "        0.6663341 , 0.66633411, 0.66633411, 0.66633411, 0.66633411]),\n",
       " array([0.14000002, 0.14000001, 0.14000002, 0.14000005, 0.13999996,\n",
       "        0.14000002, 0.13999996, 0.14000005, 0.14      , 0.14      ]),\n",
       " array([ 0.41138572, -0.13138572,  0.41138571,  0.41138571,  0.41138572,\n",
       "         0.41138572,  0.41138572,  0.41138572,  0.41138572,  0.41138572]),\n",
       " array([-0.22150948,  0.50150948,  0.50150947,  0.50150947,  0.50150947,\n",
       "        -0.22150948,  0.50150948,  0.50150947,  0.50150947,  0.50150948]),\n",
       " array([-0.22150948, -0.22150947,  0.50150948,  0.50150947, -0.22150947,\n",
       "         0.50150947, -0.22150948,  0.50150947,  0.50150947, -0.22150948])]"
      ]
     },
     "execution_count": 15,
     "metadata": {},
     "output_type": "execute_result"
    }
   ],
   "source": [
    "[kernel.mean for kernel in moes.kernels]"
   ]
  },
  {
   "cell_type": "code",
   "execution_count": 13,
   "metadata": {},
   "outputs": [
    {
     "data": {
      "text/plain": [
       "[array([0.61006578, 0.28413548, 0.4560628 , 0.69461907, 0.66730404,\n",
       "        0.71435832, 0.52605333, 0.61347562, 0.61100659, 0.62383189]),\n",
       " array([0.28488598, 0.35570063, 0.29692907, 0.53247427, 0.44950725,\n",
       "        0.53296585, 0.40638283, 0.20222547, 0.35387352, 0.20058425]),\n",
       " array([0.41680325, 0.43088856, 0.38157703, 0.39713978, 0.36749546,\n",
       "        0.39844493, 0.42879368, 0.40375153, 0.43632899, 0.40780901]),\n",
       " array([0.61829138, 0.55580357, 0.56558966, 0.26893869, 0.68228162,\n",
       "        0.50745918, 0.77708032, 0.24298309, 0.65507896, 0.77463957]),\n",
       " array([0.21518693, 0.21139201, 0.20320868, 0.2845971 , 0.28111054,\n",
       "        0.20475595, 0.33235831, 0.26180602, 0.20138217, 0.29880614])]"
      ]
     },
     "execution_count": 13,
     "metadata": {},
     "output_type": "execute_result"
    }
   ],
   "source": [
    "[kernel.best.x for kernel in moes.kernels]"
   ]
  },
  {
   "cell_type": "code",
   "execution_count": 4,
   "metadata": {},
   "outputs": [],
   "source": [
    "# Testing the bounds:\n",
    "list_of_solvers = mo.get_cmas(num_kernels * [dim * [1]], 0.2, inopts = {'bounds':[0.2, None]})\n",
    "moes = mo.Sofomore(list_of_solvers, reference_point = [11,11])\n",
    "\n",
    "#while not moes.stop():\n",
    "for i in range(50):    \n",
    "    solutions = moes.ask()\n",
    "    objective_values = [fitness(x) for x in solutions]\n",
    "    moes.tell(solutions, objective_values)"
   ]
  },
  {
   "cell_type": "code",
   "execution_count": 14,
   "metadata": {},
   "outputs": [],
   "source": [
    "for i in range(5000):    \n",
    "    solutions = moes.ask()\n",
    "    objective_values = [fitness(x) for x in solutions]\n",
    "    moes.tell(solutions, objective_values)"
   ]
  },
  {
   "cell_type": "code",
   "execution_count": 18,
   "metadata": {},
   "outputs": [
    {
     "name": "stdout",
     "output_type": "stream",
     "text": [
      "(5_w,10)-aCMA-ES (mu_w=3.2,w_1=45%) in dimension 10 (seed=834842, Wed Aug 14 05:26:38 2019)\n"
     ]
    }
   ],
   "source": [
    "es = cma.CMAEvolutionStrategy(10*[1], 0.2, {'bounds':[0.2, None]})"
   ]
  },
  {
   "cell_type": "code",
   "execution_count": 19,
   "metadata": {},
   "outputs": [
    {
     "name": "stdout",
     "output_type": "stream",
     "text": [
      "Iterat #Fevals   function value  axis ratio  sigma  min&max std  t[m:s]\n",
      "    1     10 8.609542315655995e+00 1.0e+00 1.95e-01  2e-01  2e-01 0:00.0\n",
      "    2     20 6.953721400339749e+00 1.2e+00 2.02e-01  2e-01  2e-01 0:00.0\n",
      "    3     30 5.732277778048402e+00 1.3e+00 2.17e-01  2e-01  2e-01 0:00.0\n",
      "  100   1000 4.000011198346423e-01 1.7e+00 6.80e-04  3e-04  3e-04 0:00.1\n",
      "  200   2000 4.000000000000740e-01 1.9e+00 5.33e-07  9e-08  1e-07 0:00.3\n",
      "  210   2100 4.000000000000294e-01 1.8e+00 3.60e-07  5e-08  7e-08 0:00.3\n"
     ]
    },
    {
     "data": {
      "text/plain": [
       "<cma.evolution_strategy.CMAEvolutionStrategy at 0x116108c50>"
      ]
     },
     "execution_count": 19,
     "metadata": {},
     "output_type": "execute_result"
    }
   ],
   "source": [
    "es.optimize(cma.ff.sphere)"
   ]
  },
  {
   "cell_type": "code",
   "execution_count": 20,
   "metadata": {},
   "outputs": [
    {
     "data": {
      "text/plain": [
       "array([0.14000002, 0.14000002, 0.14000008, 0.14000001, 0.13999996,\n",
       "       0.14000003, 0.14      , 0.13999998, 0.14000001, 0.13999999])"
      ]
     },
     "execution_count": 20,
     "metadata": {},
     "output_type": "execute_result"
    }
   ],
   "source": [
    "es.mean"
   ]
  },
  {
   "cell_type": "code",
   "execution_count": 21,
   "metadata": {},
   "outputs": [
    {
     "data": {
      "text/plain": [
       "array([0.2, 0.2, 0.2, 0.2, 0.2, 0.2, 0.2, 0.2, 0.2, 0.2])"
      ]
     },
     "execution_count": 21,
     "metadata": {},
     "output_type": "execute_result"
    }
   ],
   "source": [
    "es.best.x"
   ]
  },
  {
   "cell_type": "code",
   "execution_count": 22,
   "metadata": {},
   "outputs": [
    {
     "data": {
      "text/plain": [
       "[array([0.2, 0.2, 0.2, 0.2, 0.2, 0.2, 0.2, 0.2, 0.2, 0.2]),\n",
       " array([0.2, 0.2, 0.2, 0.2, 0.2, 0.2, 0.2, 0.2, 0.2, 0.2]),\n",
       " array([0.2, 0.2, 0.2, 0.2, 0.2, 0.2, 0.2, 0.2, 0.2, 0.2]),\n",
       " array([0.2, 0.2, 0.2, 0.2, 0.2, 0.2, 0.2, 0.2, 0.2, 0.2]),\n",
       " array([0.2, 0.2, 0.2, 0.2, 0.2, 0.2, 0.2, 0.2, 0.2, 0.2]),\n",
       " array([0.2, 0.2, 0.2, 0.2, 0.2, 0.2, 0.2, 0.2, 0.2, 0.2]),\n",
       " array([0.2, 0.2, 0.2, 0.2, 0.2, 0.2, 0.2, 0.2, 0.2, 0.2]),\n",
       " array([0.2, 0.2, 0.2, 0.2, 0.2, 0.2, 0.2, 0.2, 0.2, 0.2]),\n",
       " array([0.2, 0.2, 0.2, 0.2, 0.2, 0.2, 0.2, 0.2, 0.2, 0.2]),\n",
       " array([0.2, 0.2, 0.2, 0.2, 0.2, 0.2, 0.2, 0.2, 0.2, 0.2])]"
      ]
     },
     "execution_count": 22,
     "metadata": {},
     "output_type": "execute_result"
    }
   ],
   "source": [
    "es.ask()"
   ]
  },
  {
   "cell_type": "code",
   "execution_count": 23,
   "metadata": {},
   "outputs": [
    {
     "data": {
      "text/plain": [
       "array([0.14000002, 0.14000002, 0.14000008, 0.14000001, 0.13999996,\n",
       "       0.14000003, 0.14      , 0.13999998, 0.14000001, 0.13999999])"
      ]
     },
     "execution_count": 23,
     "metadata": {},
     "output_type": "execute_result"
    }
   ],
   "source": [
    "es.mean"
   ]
  },
  {
   "cell_type": "code",
   "execution_count": 24,
   "metadata": {},
   "outputs": [
    {
     "data": {
      "text/plain": [
       "[array([0.26594276, 0.33352354, 0.32853377, 0.47332959, 0.46472866,\n",
       "        0.45258403, 0.41744109, 0.20351776, 0.28289437, 0.21173356]),\n",
       " array([0.44105287, 0.43622623, 0.44004118, 0.47241789, 0.45026124,\n",
       "        0.45258459, 0.4663215 , 0.46229602, 0.43363026, 0.46377968]),\n",
       " array([0.62410864, 0.60922691, 0.5049008 , 0.69153789, 0.63092867,\n",
       "        0.67457082, 0.64590667, 0.5413057 , 0.47797502, 0.68816726]),\n",
       " array([0.37323998, 0.48339523, 0.46788239, 0.51883579, 0.42746636,\n",
       "        0.4619786 , 0.39023281, 0.5032093 , 0.41217004, 0.44434244]),\n",
       " array([0.31760223, 0.29069803, 0.3334559 , 0.2744066 , 0.28693997,\n",
       "        0.34403508, 0.37433095, 0.34244282, 0.35477983, 0.37116393])]"
      ]
     },
     "execution_count": 24,
     "metadata": {},
     "output_type": "execute_result"
    }
   ],
   "source": [
    "[kernel.best.x for kernel in moes.kernels]"
   ]
  },
  {
   "cell_type": "code",
   "execution_count": null,
   "metadata": {},
   "outputs": [],
   "source": []
  }
 ],
 "metadata": {
  "kernelspec": {
   "display_name": "Python 3",
   "language": "python",
   "name": "python3"
  },
  "language_info": {
   "codemirror_mode": {
    "name": "ipython",
    "version": 3
   },
   "file_extension": ".py",
   "mimetype": "text/x-python",
   "name": "python",
   "nbconvert_exporter": "python",
   "pygments_lexer": "ipython3",
   "version": "3.7.3"
  }
 },
 "nbformat": 4,
 "nbformat_minor": 2
}
