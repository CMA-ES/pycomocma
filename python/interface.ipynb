{
 "cells": [
  {
   "cell_type": "code",
   "execution_count": 2,
   "metadata": {},
   "outputs": [],
   "source": [
    "import cma, mo\n",
    "\n",
    "# Defining a callable multiobjective function:\n",
    "\n",
    "class FitFun:\n",
    "    def __init__(self, *args):\n",
    "        self.callables = args\n",
    "    def __call__(self, x):\n",
    "        return [f(x) for f in self.callables]\n",
    "fitness = FitFun(cma.ff.sphere, lambda x: cma.ff.sphere(x-1)) \n",
    "\n",
    "# Defining a multiobjective function:\n",
    "\n",
    "dim = 10\n",
    "num_kernels = 5\n",
    "\n",
    "# Instantiating `Sofomore` with `cma-es`, via the `get_cmas` factory function:\n",
    "#list_of_solvers = mo.get_cmas(num_kernels * [dim * [0.3]], 0.2)\n",
    "\n",
    "# + Testing the bounds:\n",
    "inopts = {'bounds':[0.2, 0.9], 'tolx':1e-7}\n",
    "list_of_solvers = mo.get_cmas(num_kernels * [dim * [1]], 0.2, inopts)\n",
    "moes = mo.Sofomore(list_of_solvers, reference_point = [11,11])\n",
    "\n"
   ]
  },
  {
   "cell_type": "code",
   "execution_count": 3,
   "metadata": {
    "scrolled": false
   },
   "outputs": [
    {
     "name": "stdout",
     "output_type": "stream",
     "text": [
      "Iterat #Fevals   Hypervolume   axis ratios   sigmas   min&max stds\n",
      "                                  (median)  (median)    (median)\n",
      "    1     10 3.162252556262756e+01 1.0e+00 2.00e-01  2e-01  2e-01\n",
      "    2     20 4.048208611381761e+01 1.0e+00 2.00e-01  2e-01  2e-01\n",
      "    3     30 4.271937368526183e+01 1.0e+00 2.00e-01  2e-01  2e-01\n",
      "  100   1000 9.253457328878874e+01 1.9e+00 1.21e-01  1e-01  1e-01\n",
      "  200   2000 9.526037230742054e+01 2.4e+00 7.59e-02  5e-02  7e-02\n",
      "  300   3000 9.604908511063911e+01 2.2e+00 4.05e-02  2e-02  4e-02\n",
      "  400   4000 9.627557960709031e+01 2.9e+00 2.65e-02  1e-02  2e-02\n",
      "  500   5000 9.704967641613325e+01 2.5e+00 1.44e-02  6e-03  1e-02\n",
      "  600   6000 9.717586865599550e+01 2.6e+00 1.09e-02  4e-03  7e-03\n",
      "  700   7000 9.719086609649004e+01 2.1e+00 6.00e-03  2e-03  3e-03\n",
      "  800   8000 9.719206039026251e+01 2.1e+00 1.35e-03  4e-04  6e-04\n",
      "  900   9000 9.719212088699452e+01 2.0e+00 4.62e-04  1e-04  2e-04\n",
      " 1000  10000 9.719212314847432e+01 2.2e+00 1.76e-04  4e-05  5e-05\n",
      " 1100  11000 9.719212329774464e+01 2.2e+00 3.94e-05  7e-06  1e-05\n",
      " 1200  12000 9.719212330579118e+01 2.4e+00 1.30e-05  2e-06  2e-06\n",
      " 1300  12870 9.719212330631868e+01 2.4e+00 4.22e-06  6e-07  7e-07\n",
      " 1400  13670 9.719212330639527e+01 1.9e+00 1.62e-06  2e-07  2e-07\n",
      " 1489  14300 9.719212330640552e+01 2.0e+00 6.40e-07  7e-08  9e-08\n"
     ]
    }
   ],
   "source": [
    "while not moes.stop():\n",
    "#for i in range(100):\n",
    "    solutions = moes.ask()\n",
    "    objective_values = [fitness(x) for x in solutions]\n",
    "    moes.tell(solutions, objective_values)\n",
    "    moes.disp()\n"
   ]
  },
  {
   "cell_type": "code",
   "execution_count": 4,
   "metadata": {},
   "outputs": [
    {
     "data": {
      "text/plain": [
       "[array([0.51298439, 0.51298438, 0.51298442, 0.51298435, 0.51298435,\n",
       "        0.51298439, 0.51298445, 0.51298438, 0.51298434, 0.51298441]),\n",
       " array([0.83064471, 0.83064472, 0.83064472, 0.83064475, 0.83064483,\n",
       "        0.83064472, 0.83064468, 0.83064484, 0.83064473, 0.83064477]),\n",
       " array([0.36196555, 0.36196547, 0.36196536, 0.36196548, 0.36196533,\n",
       "        0.36196552, 0.36196535, 0.3619654 , 0.36196546, 0.36196534]),\n",
       " array([0.66491859, 0.66491845, 0.66491844, 0.66491839, 0.66491846,\n",
       "        0.66491844, 0.66491845, 0.66491845, 0.66491845, 0.66491852]),\n",
       " array([0.2, 0.2, 0.2, 0.2, 0.2, 0.2, 0.2, 0.2, 0.2, 0.2])]"
      ]
     },
     "execution_count": 4,
     "metadata": {},
     "output_type": "execute_result"
    }
   ],
   "source": [
    "moes.set"
   ]
  },
  {
   "cell_type": "code",
   "execution_count": 5,
   "metadata": {},
   "outputs": [
    {
     "data": {
      "text/plain": [
       "[[0.4000000000000287, 6.399999999999885],\n",
       " [1.3101896968423863, 4.070881175050185],\n",
       " [2.631529742023577, 2.3718421404958243],\n",
       " [4.421165628510672, 1.1227963623026578],\n",
       " [6.899706971698337, 0.2868120142283272]]"
      ]
     },
     "execution_count": 5,
     "metadata": {},
     "output_type": "execute_result"
    }
   ],
   "source": [
    "moes.front"
   ]
  },
  {
   "cell_type": "code",
   "execution_count": null,
   "metadata": {},
   "outputs": [],
   "source": []
  },
  {
   "cell_type": "code",
   "execution_count": null,
   "metadata": {},
   "outputs": [],
   "source": []
  }
 ],
 "metadata": {
  "kernelspec": {
   "display_name": "Python 3",
   "language": "python",
   "name": "python3"
  },
  "language_info": {
   "codemirror_mode": {
    "name": "ipython",
    "version": 3
   },
   "file_extension": ".py",
   "mimetype": "text/x-python",
   "name": "python",
   "nbconvert_exporter": "python",
   "pygments_lexer": "ipython3",
   "version": "3.7.3"
  }
 },
 "nbformat": 4,
 "nbformat_minor": 2
}
