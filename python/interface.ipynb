{
 "cells": [
  {
   "cell_type": "code",
   "execution_count": 1,
   "metadata": {},
   "outputs": [
    {
     "name": "stdout",
     "output_type": "stream",
     "text": [
      "Populating the interactive namespace from numpy and matplotlib\n",
      "Warning: Cannot change to a different GUI toolkit: notebook. Using nbagg instead.\n"
     ]
    }
   ],
   "source": [
    "import cma, mo\n",
    "%pylab nbagg\n",
    "%matplotlib notebook\n",
    "# Set parameters\n",
    "dimension = 10\n",
    "num_kernels = 5\n",
    "\n",
    "list_of_solvers = mo.get_cmas(num_kernels * [dimension * [1]], 0.2)\n",
    "moes = mo.Sofomore(list_of_solvers, reference_point = [11,11])\n",
    "\n"
   ]
  },
  {
   "cell_type": "code",
   "execution_count": 2,
   "metadata": {
    "scrolled": false
   },
   "outputs": [
    {
     "name": "stdout",
     "output_type": "stream",
     "text": [
      "Iterat #Fevals   Hypervolume   axis ratios   sigmas   min&max stds\n",
      "                                  (median)  (median)    (median)\n",
      "    1     10 1.100000000000000e+01 1.0e+00 2.00e-01  2e-01  2e-01\n",
      "    2     20 2.943550456091493e+01 1.0e+00 2.00e-01  2e-01  2e-01\n",
      "    3     30 2.945797208869254e+01 1.0e+00 1.92e-01  2e-01  2e-01\n",
      "  100   1000 9.461131054728740e+01 1.7e+00 1.15e-01  9e-02  1e-01\n",
      "  200   2000 9.709508589483285e+01 1.7e+00 3.67e-02  2e-02  3e-02\n",
      "  300   3000 9.723296870486747e+01 2.0e+00 1.26e-02  7e-03  9e-03\n",
      "  400   4000 9.724052315645045e+01 2.0e+00 3.95e-03  2e-03  2e-03\n",
      "  500   5000 9.724105480184654e+01 2.1e+00 1.31e-03  5e-04  7e-04\n",
      "  600   6000 9.724109648969447e+01 2.3e+00 3.31e-04  1e-04  2e-04\n",
      "  700   7000 9.724109815150814e+01 2.5e+00 8.83e-05  3e-05  3e-05\n",
      "  800   8000 9.724109829644472e+01 2.3e+00 2.92e-05  7e-06  9e-06\n",
      "  900   9000 9.724109830295447e+01 2.2e+00 9.11e-06  2e-06  3e-06\n",
      "  981   9660 9.724109830344126e+01 2.1e+00 4.20e-06  8e-07  1e-06\n"
     ]
    }
   ],
   "source": [
    "fitness = mo.FitFun(cma.ff.sphere, lambda x: cma.ff.sphere(x-1))\n",
    "#g1 = lambda x: x[0] > 0.3\n",
    "while not moes.stop():\n",
    "    #for i in range(1):\n",
    "    solutions = moes.ask()\n",
    "    objective_values = [fitness(x) for x in solutions]\n",
    " #   g_values = [g(x) for x in solutions]\n",
    " #   moes.tell(solutions, objective_values, [g_values])\n",
    "    moes.tell(solutions, objective_values)\n",
    "    moes.disp()\n",
    "    moes.logger.add()\n"
   ]
  },
  {
   "cell_type": "code",
   "execution_count": 3,
   "metadata": {},
   "outputs": [],
   "source": [
    "a = moes.logger.load('outsofomore/hypervolume.dat')"
   ]
  },
  {
   "cell_type": "code",
   "execution_count": 8,
   "metadata": {},
   "outputs": [
    {
     "data": {
      "image/png": "[encoded data removed]",
      "text/plain": [
       "<Figure size 432x288 with 1 Axes>"
      ]
     },
     "metadata": {
      "needs_background": "light"
     },
     "output_type": "display_data"
    }
   ],
   "source": [
    "moes.logger.plot('outsofomore/hypervolume.dat')"
   ]
  },
  {
   "cell_type": "code",
   "execution_count": 9,
   "metadata": {},
   "outputs": [
    {
     "data": {
      "image/png": "[encoded data removed]",
      "text/plain": [
       "<Figure size 432x288 with 1 Axes>"
      ]
     },
     "metadata": {
      "needs_background": "light"
     },
     "output_type": "display_data"
    }
   ],
   "source": [
    "moes.logger.plot('outsofomore/hypervolume_archive.dat')"
   ]
  },
  {
   "cell_type": "code",
   "execution_count": 13,
   "metadata": {},
   "outputs": [
    {
     "data": {
      "image/png": "[encoded data removed]",
      "text/plain": [
       "<Figure size 432x288 with 1 Axes>"
      ]
     },
     "metadata": {
      "needs_background": "light"
     },
     "output_type": "display_data"
    }
   ],
   "source": [
    "moes.logger.plot('outsofomore/median_sigmas.dat')"
   ]
  },
  {
   "cell_type": "code",
   "execution_count": null,
   "metadata": {},
   "outputs": [],
   "source": []
  },
  {
   "cell_type": "code",
   "execution_count": null,
   "metadata": {},
   "outputs": [],
   "source": []
  },
  {
   "cell_type": "code",
   "execution_count": null,
   "metadata": {},
   "outputs": [],
   "source": []
  },
  {
   "cell_type": "code",
   "execution_count": null,
   "metadata": {},
   "outputs": [],
   "source": []
  },
  {
   "cell_type": "code",
   "execution_count": null,
   "metadata": {},
   "outputs": [],
   "source": []
  },
  {
   "cell_type": "code",
   "execution_count": null,
   "metadata": {},
   "outputs": [],
   "source": []
  },
  {
   "cell_type": "code",
   "execution_count": null,
   "metadata": {},
   "outputs": [],
   "source": [
    "cma.plot('cma_kernels/4')"
   ]
  },
  {
   "cell_type": "code",
   "execution_count": null,
   "metadata": {},
   "outputs": [],
   "source": [
    "if moes.nda is None:\n",
    "    moes.nda = BNDSL if len(objective_values[0]) == 2 else NDL\n",
    "for i in range(len(moes._told_indices)):\n",
    "    moes.kernels[moes._told_indices[i]].objective_values = objective_values[i]\n",
    "\n",
    "if moes.reference_point is None:\n",
    "    pass #write here the max among the kernel.objective_values       \n",
    "moes.front = moes.nda([kernel.objective_values for kernel in moes.kernels],\n",
    "                 moes.reference_point)\n",
    "\n"
   ]
  },
  {
   "cell_type": "code",
   "execution_count": null,
   "metadata": {},
   "outputs": [],
   "source": [
    "ikernel, offspring = moes._offspring[0]"
   ]
  },
  {
   "cell_type": "code",
   "execution_count": null,
   "metadata": {},
   "outputs": [],
   "source": [
    "start = len(moes._told_indices)"
   ]
  },
  {
   "cell_type": "code",
   "execution_count": null,
   "metadata": {},
   "outputs": [],
   "source": [
    "print(start)"
   ]
  },
  {
   "cell_type": "code",
   "execution_count": null,
   "metadata": {},
   "outputs": [],
   "source": [
    "kernel = moes.kernels[ikernel]\n",
    "fit = kernel.objective_values\n",
    "if fit in moes.front: # i.e. if fit is not dominated and dominates               # the reference point\n",
    "    moes.front.remove(fit)"
   ]
  },
  {
   "cell_type": "code",
   "execution_count": null,
   "metadata": {},
   "outputs": [],
   "source": [
    "hypervolume_improvements = [moes.front.hypervolume_improvement(\n",
    "                    point) for point in objective_values[start:start+len(offspring)]]\n",
    "moes.front.add(fit) # in case num_kernels > 1\n",
    "            \n"
   ]
  },
  {
   "cell_type": "code",
   "execution_count": null,
   "metadata": {},
   "outputs": [],
   "source": [
    "start"
   ]
  },
  {
   "cell_type": "code",
   "execution_count": null,
   "metadata": {},
   "outputs": [],
   "source": [
    "constraints_values = [[g(x) for x in solutions]]"
   ]
  },
  {
   "cell_type": "code",
   "execution_count": null,
   "metadata": {},
   "outputs": [],
   "source": [
    "g_values = [constraint[start:start+len(offspring)] \\\n",
    "            for constraint in constraints_values]\n",
    "penalized_f_values = mo.RankPenalizedFitness([-float(u) for u in \n",
    "                    hypervolume_improvements], g_values)\n"
   ]
  },
  {
   "cell_type": "code",
   "execution_count": null,
   "metadata": {},
   "outputs": [],
   "source": []
  },
  {
   "cell_type": "code",
   "execution_count": null,
   "metadata": {},
   "outputs": [],
   "source": []
  },
  {
   "cell_type": "code",
   "execution_count": null,
   "metadata": {},
   "outputs": [],
   "source": []
  },
  {
   "cell_type": "code",
   "execution_count": null,
   "metadata": {},
   "outputs": [],
   "source": []
  },
  {
   "cell_type": "code",
   "execution_count": null,
   "metadata": {},
   "outputs": [],
   "source": []
  },
  {
   "cell_type": "code",
   "execution_count": null,
   "metadata": {},
   "outputs": [],
   "source": []
  }
 ],
 "metadata": {
  "kernelspec": {
   "display_name": "Python 3",
   "language": "python",
   "name": "python3"
  },
  "language_info": {
   "codemirror_mode": {
    "name": "ipython",
    "version": 3
   },
   "file_extension": ".py",
   "mimetype": "text/x-python",
   "name": "python",
   "nbconvert_exporter": "python",
   "pygments_lexer": "ipython3",
   "version": "3.7.3"
  }
 },
 "nbformat": 4,
 "nbformat_minor": 2
}
