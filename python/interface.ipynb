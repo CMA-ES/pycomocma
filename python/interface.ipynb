{
 "cells": [
  {
   "cell_type": "code",
   "execution_count": 1,
   "metadata": {},
   "outputs": [],
   "source": [
    "import cma\n",
    "import mo\n",
    "\n",
    "# Defining a callable multiobjective function:\n",
    "\n",
    "class FitFun:\n",
    "    def __init__(self, *args):\n",
    "        self.callables = args\n",
    "    def __call__(self, x):\n",
    "        return [f(x) for f in self.callables]\n",
    "fitness = FitFun(cma.ff.sphere, lambda x: cma.ff.sphere(x-1)) \n",
    "\n",
    "# Defining a multiobjective function:\n",
    "\n",
    "dim = 10\n",
    "num_kernels = 5\n",
    "\n",
    "# Instantiating `Sofomore` with `cma-es`, via the `get_cmas` factory function:\n",
    "#list_of_solvers = mo.get_cmas(num_kernels * [dim * [0.3]], 0.2)\n",
    "\n",
    "# + Testing the bounds:\n",
    "inopts = {'bounds':[0.2, None]}\n",
    "list_of_solvers = mo.get_cmas(num_kernels * [dim * [0.3]], 0.2, inopts)\n",
    "moes = mo.Sofomore(list_of_solvers, reference_point = [11,11])\n",
    "\n"
   ]
  },
  {
   "cell_type": "code",
   "execution_count": 2,
   "metadata": {},
   "outputs": [
    {
     "name": "stdout",
     "output_type": "stream",
     "text": [
      "Iterat #Fevals   Hypervolume   axis ratios   sigmas   min&max stds\n",
      "                                  (median)  (median)    (median)\n",
      "    1     10 6.161000000000001e+01 1.0e+00 2.00e-01  2e-01  2e-01\n",
      "    2     20 6.920681374128409e+01 1.0e+00 2.00e-01  2e-01  2e-01\n",
      "    3     30 6.924629161062570e+01 1.0e+00 1.87e-01  2e-01  2e-01\n",
      "  100   1000 9.471795127900127e+01 1.8e+00 8.11e-02  7e-02  8e-02\n",
      "  200   2000 9.709370555137774e+01 2.0e+00 2.45e-02  2e-02  2e-02\n",
      "  300   3000 9.718680632043409e+01 1.9e+00 1.21e-02  7e-03  9e-03\n",
      "  400   4000 9.719179861121710e+01 2.0e+00 3.68e-03  2e-03  2e-03\n",
      "  500   5000 9.719210625534294e+01 1.9e+00 9.56e-04  4e-04  5e-04\n",
      "  600   6000 9.719212218209464e+01 2.3e+00 2.60e-04  9e-05  1e-04\n",
      "  700   7000 9.719212325707565e+01 2.0e+00 5.99e-05  2e-05  2e-05\n",
      "  800   8000 9.719212330433493e+01 2.0e+00 1.81e-05  4e-06  6e-06\n",
      "  900   9000 9.719212330605080e+01 2.0e+00 4.34e-06  8e-07  1e-06\n",
      " 1000  10000 9.719212330639685e+01 2.3e+00 1.31e-06  2e-07  3e-07\n",
      " 1100  11000 9.719212330640514e+01 2.2e+00 3.65e-07  5e-08  6e-08\n",
      " 1200  12000 9.719212330640610e+01 2.1e+00 1.35e-07  1e-08  2e-08\n",
      " 1300  13000 9.719212330640612e+01 2.1e+00 4.18e-08  4e-09  5e-09\n",
      " 1400  14000 9.719212330640613e+01 2.5e+00 2.19e-08  2e-09  3e-09\n",
      " 1500  15000 9.719212330640613e+01 3.2e+00 1.58e-08  1e-09  2e-09\n",
      " 1600  15790 9.719212330640613e+01 3.4e+00 9.16e-09  7e-10  1e-09\n"
     ]
    },
    {
     "name": "stderr",
     "output_type": "stream",
     "text": [
      "/Users/tourealite/Downloads/______phD/code-mo/python/cma/utilities/utils.py:333: UserWarning: flat fitness (f=-4.186873, sigma=1.04e-08).\n",
      "                    For small sigma, this could indicate numerical convergence.\n",
      "                    Otherwise, please (re)consider how to compute the fitness more elaborately. (iteration=310)\n",
      "  ')')\n",
      "/Users/tourealite/Downloads/______phD/code-mo/python/cma/utilities/utils.py:333: UserWarning: flat fitness (f=-4.186873, sigma=1.09e-08).\n",
      "                    For small sigma, this could indicate numerical convergence.\n",
      "                    Otherwise, please (re)consider how to compute the fitness more elaborately. (iteration=311)\n",
      "  ')')\n",
      "/Users/tourealite/Downloads/______phD/code-mo/python/cma/utilities/utils.py:333: UserWarning: flat fitness (f=-4.186873, sigma=1.10e-08).\n",
      "                    For small sigma, this could indicate numerical convergence.\n",
      "                    Otherwise, please (re)consider how to compute the fitness more elaborately. (iteration=312)\n",
      "  ')')\n",
      "/Users/tourealite/Downloads/______phD/code-mo/python/cma/utilities/utils.py:333: UserWarning: flat fitness (f=-4.186873, sigma=1.04e-08).\n",
      "                    For small sigma, this could indicate numerical convergence.\n",
      "                    Otherwise, please (re)consider how to compute the fitness more elaborately. (iteration=316)\n",
      "  ')')\n",
      "/Users/tourealite/Downloads/______phD/code-mo/python/cma/utilities/utils.py:333: UserWarning: flat fitness (f=-4.186873, sigma=9.35e-09).\n",
      "                    For small sigma, this could indicate numerical convergence.\n",
      "                    Otherwise, please (re)consider how to compute the fitness more elaborately. (iteration=328)\n",
      "  ')')\n",
      "/Users/tourealite/Downloads/______phD/code-mo/python/cma/utilities/utils.py:333: UserWarning: flat fitness (f=-4.186873, sigma=1.19e-08).\n",
      "                    For small sigma, this could indicate numerical convergence.\n",
      "                    Otherwise, please (re)consider how to compute the fitness more elaborately. (iteration=339)\n",
      "  ')')\n"
     ]
    },
    {
     "name": "stdout",
     "output_type": "stream",
     "text": [
      " 1700  16370 9.719212330640613e+01 3.5e+00 9.16e-09  7e-10  1e-09\n"
     ]
    },
    {
     "name": "stderr",
     "output_type": "stream",
     "text": [
      "/Users/tourealite/Downloads/______phD/code-mo/python/cma/utilities/utils.py:333: UserWarning: flat fitness (f=-4.186873, sigma=1.19e-08).\n",
      "                    For small sigma, this could indicate numerical convergence.\n",
      "                    Otherwise, please (re)consider how to compute the fitness more elaborately. (iteration=347)\n",
      "  ')')\n",
      "/Users/tourealite/Downloads/______phD/code-mo/python/cma/utilities/utils.py:333: UserWarning: flat fitness (f=-4.186873, sigma=1.11e-08).\n",
      "                    For small sigma, this could indicate numerical convergence.\n",
      "                    Otherwise, please (re)consider how to compute the fitness more elaborately. (iteration=348)\n",
      "  ')')\n",
      "/Users/tourealite/Downloads/______phD/code-mo/python/cma/utilities/utils.py:333: UserWarning: flat fitness (f=-4.186873, sigma=1.03e-08).\n",
      "                    For small sigma, this could indicate numerical convergence.\n",
      "                    Otherwise, please (re)consider how to compute the fitness more elaborately. (iteration=350)\n",
      "  ')')\n",
      "/Users/tourealite/Downloads/______phD/code-mo/python/cma/utilities/utils.py:333: UserWarning: flat fitness (f=-4.186873, sigma=1.08e-08).\n",
      "                    For small sigma, this could indicate numerical convergence.\n",
      "                    Otherwise, please (re)consider how to compute the fitness more elaborately. (iteration=351)\n",
      "  ')')\n"
     ]
    },
    {
     "name": "stdout",
     "output_type": "stream",
     "text": [
      " 1800  16930 9.719212330640613e+01 3.5e+00 9.16e-09  7e-10  1e-09\n"
     ]
    },
    {
     "name": "stderr",
     "output_type": "stream",
     "text": [
      "/Users/tourealite/Downloads/______phD/code-mo/python/cma/utilities/utils.py:333: UserWarning: flat fitness (f=-4.186873, sigma=9.51e-09).\n",
      "                    For small sigma, this could indicate numerical convergence.\n",
      "                    Otherwise, please (re)consider how to compute the fitness more elaborately. (iteration=380)\n",
      "  ')')\n",
      "/Users/tourealite/Downloads/______phD/code-mo/python/cma/utilities/utils.py:333: UserWarning: flat fitness (f=-4.186873, sigma=1.23e-08).\n",
      "                    For small sigma, this could indicate numerical convergence.\n",
      "                    Otherwise, please (re)consider how to compute the fitness more elaborately. (iteration=388)\n",
      "  ')')\n"
     ]
    },
    {
     "name": "stdout",
     "output_type": "stream",
     "text": [
      " 1900  17490 9.719212330640613e+01 3.5e+00 9.13e-09  7e-10  1e-09\n",
      " 1900  17490 9.719212330640613e+01 3.5e+00 9.13e-09  7e-10  1e-09\n"
     ]
    },
    {
     "name": "stderr",
     "output_type": "stream",
     "text": [
      "/Users/tourealite/Downloads/______phD/code-mo/python/cma/utilities/utils.py:333: UserWarning: flat fitness (f=-4.186873, sigma=1.81e-08).\n",
      "                    For small sigma, this could indicate numerical convergence.\n",
      "                    Otherwise, please (re)consider how to compute the fitness more elaborately. (iteration=410)\n",
      "  ')')\n"
     ]
    },
    {
     "name": "stdout",
     "output_type": "stream",
     "text": [
      " 1930  17650 9.719212330640613e+01 3.5e+00 8.98e-09  6e-10  1e-09\n"
     ]
    }
   ],
   "source": [
    "while not moes.stop():\n",
    "#for i in range(1):\n",
    "    solutions = moes.ask()\n",
    "    objective_values = [fitness(x) for x in solutions]\n",
    "    moes.tell(solutions, objective_values)\n",
    "    moes.disp()"
   ]
  },
  {
   "cell_type": "code",
   "execution_count": null,
   "metadata": {},
   "outputs": [],
   "source": [
    "type(moes.disp_annotation)"
   ]
  },
  {
   "cell_type": "code",
   "execution_count": null,
   "metadata": {},
   "outputs": [],
   "source": [
    "moes.disp_annotation.ok = True"
   ]
  },
  {
   "cell_type": "code",
   "execution_count": null,
   "metadata": {},
   "outputs": [],
   "source": [
    "moes.countevals"
   ]
  },
  {
   "cell_type": "code",
   "execution_count": null,
   "metadata": {},
   "outputs": [],
   "source": [
    "moes.countiter"
   ]
  },
  {
   "cell_type": "code",
   "execution_count": null,
   "metadata": {},
   "outputs": [],
   "source": [
    "moes.optimize(fitness)"
   ]
  },
  {
   "cell_type": "code",
   "execution_count": null,
   "metadata": {},
   "outputs": [],
   "source": [
    "moes.disp(1)"
   ]
  },
  {
   "cell_type": "code",
   "execution_count": null,
   "metadata": {},
   "outputs": [],
   "source": [
    "moes.countiter"
   ]
  },
  {
   "cell_type": "code",
   "execution_count": null,
   "metadata": {},
   "outputs": [],
   "source": [
    "moes.countevals"
   ]
  },
  {
   "cell_type": "code",
   "execution_count": null,
   "metadata": {},
   "outputs": [],
   "source": []
  },
  {
   "cell_type": "code",
   "execution_count": null,
   "metadata": {},
   "outputs": [],
   "source": [
    "[kernel.incumbent for kernel in moes.kernels]"
   ]
  },
  {
   "cell_type": "code",
   "execution_count": null,
   "metadata": {},
   "outputs": [],
   "source": [
    "[kernel.incumbent for kernel in moes.kernels]"
   ]
  },
  {
   "cell_type": "code",
   "execution_count": null,
   "metadata": {},
   "outputs": [],
   "source": [
    "[kernel.incumbent for kernel in moes.kernels]"
   ]
  },
  {
   "cell_type": "code",
   "execution_count": null,
   "metadata": {},
   "outputs": [],
   "source": [
    "for i in range(1):\n",
    "    solutions = moes.ask()\n",
    "    objective_values = [fitness(x) for x in solutions]\n",
    "    moes.tell(solutions, objective_values)"
   ]
  },
  {
   "cell_type": "code",
   "execution_count": null,
   "metadata": {},
   "outputs": [],
   "source": [
    "moes.kernels[2].timer.elapsed"
   ]
  },
  {
   "cell_type": "code",
   "execution_count": null,
   "metadata": {},
   "outputs": [],
   "source": [
    "moes.optimize(fitness)"
   ]
  },
  {
   "cell_type": "code",
   "execution_count": null,
   "metadata": {},
   "outputs": [],
   "source": [
    "[kernel.mean for kernel in moes.kernels]"
   ]
  },
  {
   "cell_type": "code",
   "execution_count": null,
   "metadata": {},
   "outputs": [],
   "source": [
    "[kernel.best.x for kernel in moes.kernels]"
   ]
  },
  {
   "cell_type": "code",
   "execution_count": null,
   "metadata": {},
   "outputs": [],
   "source": []
  },
  {
   "cell_type": "code",
   "execution_count": null,
   "metadata": {},
   "outputs": [],
   "source": [
    "list_of_solvers = mo.get_cmas(num_kernels * [dim * [1]], 0.2)\n",
    "moes = mo.Sofomore(list_of_solvers, reference_point = [11,11])\n",
    "\n",
    "while not moes.stop():\n",
    "    solutions = moes.ask()\n",
    "    objective_values = [fitness(x) for x in solutions]\n",
    "    moes.tell(solutions, objective_values)"
   ]
  },
  {
   "cell_type": "code",
   "execution_count": null,
   "metadata": {},
   "outputs": [],
   "source": []
  },
  {
   "cell_type": "code",
   "execution_count": null,
   "metadata": {},
   "outputs": [],
   "source": []
  },
  {
   "cell_type": "code",
   "execution_count": null,
   "metadata": {},
   "outputs": [],
   "source": []
  },
  {
   "cell_type": "code",
   "execution_count": null,
   "metadata": {},
   "outputs": [],
   "source": []
  },
  {
   "cell_type": "code",
   "execution_count": null,
   "metadata": {},
   "outputs": [],
   "source": []
  },
  {
   "cell_type": "code",
   "execution_count": null,
   "metadata": {},
   "outputs": [],
   "source": []
  },
  {
   "cell_type": "code",
   "execution_count": 4,
   "metadata": {},
   "outputs": [],
   "source": [
    "import cma"
   ]
  },
  {
   "cell_type": "code",
   "execution_count": 5,
   "metadata": {},
   "outputs": [
    {
     "name": "stdout",
     "output_type": "stream",
     "text": [
      "(4_w,8)-aCMA-ES (mu_w=2.6,w_1=52%) in dimension 5 (seed=413967, Wed Aug 21 10:13:58 2019)\n"
     ]
    }
   ],
   "source": [
    "es = cma.CMAEvolutionStrategy(5 * [1], 0.2)"
   ]
  },
  {
   "cell_type": "code",
   "execution_count": 6,
   "metadata": {},
   "outputs": [
    {
     "name": "stdout",
     "output_type": "stream",
     "text": [
      "Iterat #Fevals   function value  axis ratio  sigma  min&max std  t[m:s]\n",
      "    1      8 3.417110811553691e+00 1.0e+00 2.11e-01  2e-01  2e-01 0:00.0\n",
      "    2     16 2.940356746102378e+00 1.3e+00 2.31e-01  2e-01  3e-01 0:00.0\n",
      "    3     24 2.715964830466293e+00 1.6e+00 2.43e-01  2e-01  3e-01 0:00.0\n",
      "  100    800 7.323651951111989e-11 1.8e+00 7.41e-05  5e-06  6e-06 0:00.1\n",
      "  140   1120 5.348537920416367e-15 2.0e+00 2.23e-06  5e-08  7e-08 0:00.1\n"
     ]
    },
    {
     "data": {
      "text/plain": [
       "<cma.evolution_strategy.CMAEvolutionStrategy at 0x1089d10f0>"
      ]
     },
     "execution_count": 6,
     "metadata": {},
     "output_type": "execute_result"
    }
   ],
   "source": [
    "es.optimize(cma.ff.sphere)"
   ]
  },
  {
   "cell_type": "code",
   "execution_count": 13,
   "metadata": {},
   "outputs": [
    {
     "name": "stdout",
     "output_type": "stream",
     "text": [
      "(4_w,8)-aCMA-ES (mu_w=2.6,w_1=52%) in dimension 5 (seed=472913, Wed Aug 21 11:16:05 2019)\n",
      "Iterat #Fevals   function value  axis ratio  sigma  min&max std  t[m:s]\n",
      "    1      8 4.185895186539352e+00 1.0e+00 1.84e-01  2e-01  2e-01 0:00.0\n",
      "    2     16 3.517659710638307e+00 1.2e+00 1.98e-01  2e-01  2e-01 0:00.0\n",
      "    3     24 2.518067534532015e+00 1.5e+00 2.17e-01  2e-01  2e-01 0:00.0\n",
      "  100    800 1.250000000043251e+00 1.9e+00 3.86e-05  2e-06  3e-06 0:00.1\n",
      "  139   1112 1.250000000000001e+00 2.0e+00 8.83e-07  2e-08  2e-08 0:00.2\n"
     ]
    }
   ],
   "source": [
    "import numpy as np\n",
    "es = cma.CMAEvolutionStrategy(5 * [1], 0.2, {'bounds': [0.5, np.inf]})\n",
    "while not es.stop():\n",
    "    X = es.ask()\n",
    "    F = [cma.ff.sphere(x) for x in X]\n",
    "    es.tell(X, F)\n",
    "    es.disp()"
   ]
  },
  {
   "cell_type": "code",
   "execution_count": 9,
   "metadata": {},
   "outputs": [
    {
     "data": {
      "text/plain": [
       "int"
      ]
     },
     "execution_count": 9,
     "metadata": {},
     "output_type": "execute_result"
    }
   ],
   "source": [
    "type(es.opts['popsize'])"
   ]
  },
  {
   "cell_type": "code",
   "execution_count": null,
   "metadata": {},
   "outputs": [],
   "source": []
  }
 ],
 "metadata": {
  "kernelspec": {
   "display_name": "Python 3",
   "language": "python",
   "name": "python3"
  },
  "language_info": {
   "codemirror_mode": {
    "name": "ipython",
    "version": 3
   },
   "file_extension": ".py",
   "mimetype": "text/x-python",
   "name": "python",
   "nbconvert_exporter": "python",
   "pygments_lexer": "ipython3",
   "version": "3.7.3"
  }
 },
 "nbformat": 4,
 "nbformat_minor": 2
}
