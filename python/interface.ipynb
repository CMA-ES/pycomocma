{
 "cells": [
  {
   "cell_type": "code",
   "execution_count": 1,
   "metadata": {},
   "outputs": [
    {
     "name": "stdout",
     "output_type": "stream",
     "text": [
      "[1, 0, 2, 0, 3, 0, 0]\n"
     ]
    }
   ],
   "source": [
    "import cma\n",
    "import mo\n",
    "\n",
    "# Defining a callable multiobjective function:\n",
    "\n",
    "class FitFun:\n",
    "    def __init__(self, *args):\n",
    "        self.callables = args\n",
    "    def __call__(self, x):\n",
    "        return [f(x) for f in self.callables]\n",
    "fitness = FitFun(cma.ff.sphere, lambda x: cma.ff.sphere(x-1)) \n",
    "\n",
    "# Defining a multiobjective function:\n",
    "\n",
    "dim = 10\n",
    "num_kernels = 5\n",
    "\n",
    "# Instantiating `Sofomore` with `cma-es`, via the `get_cmas` factory function:\n",
    "#list_of_solvers = mo.get_cmas(num_kernels * [dim * [0.3]], 0.2)\n",
    "\n",
    "# + Testing the bounds:\n",
    "inopts = {'bounds':[0.2, None]}\n",
    "list_of_solvers = mo.get_cmas(num_kernels * [dim * [0.3]], 0.2, inopts)\n",
    "moes = mo.Sofomore(list_of_solvers, reference_point = [11,11])\n",
    "\n"
   ]
  },
  {
   "cell_type": "code",
   "execution_count": 2,
   "metadata": {},
   "outputs": [
    {
     "name": "stdout",
     "output_type": "stream",
     "text": [
      "Iterat #Fevals   Hypervolume   axis ratios   sigmas   min&max stds\n",
      "                                  (median)  (median)    (median)\n",
      "    1     10 6.161000000000001e+01 1.0e+00 2.00e-01  2e-01  2e-01\n",
      "    2     20 6.652806820999598e+01 1.0e+00 2.00e-01  2e-01  2e-01\n",
      "    3     30 6.769605577759576e+01 1.0e+00 1.91e-01  2e-01  2e-01\n",
      "  100   1000 9.620077477772872e+01 1.7e+00 1.05e-01  8e-02  1e-01\n",
      "  200   2000 9.713923536346070e+01 1.9e+00 3.02e-02  2e-02  3e-02\n",
      "  300   3000 9.718974004053440e+01 2.0e+00 7.13e-03  4e-03  5e-03\n",
      "  400   4000 9.719198232361917e+01 2.3e+00 1.83e-03  9e-04  1e-03\n",
      "  500   5000 9.719211569330963e+01 2.3e+00 5.60e-04  2e-04  3e-04\n",
      "  600   6000 9.719212301077616e+01 2.1e+00 1.44e-04  5e-05  6e-05\n",
      "  700   7000 9.719212329250543e+01 2.2e+00 3.09e-05  9e-06  1e-05\n",
      "  800   8000 9.719212330566961e+01 2.4e+00 1.02e-05  2e-06  3e-06\n",
      "  900   9000 9.719212330636688e+01 2.5e+00 3.24e-06  6e-07  7e-07\n",
      " 1000  10000 9.719212330640303e+01 2.3e+00 7.48e-07  1e-07  1e-07\n",
      " 1100  11000 9.719212330640583e+01 2.1e+00 2.11e-07  3e-08  3e-08\n",
      " 1200  12000 9.719212330640610e+01 2.1e+00 1.09e-07  1e-08  2e-08\n",
      " 1300  13000 9.719212330640612e+01 2.4e+00 3.33e-08  3e-09  5e-09\n",
      " 1400  14000 9.719212330640613e+01 2.5e+00 1.94e-08  2e-09  2e-09\n",
      " 1500  15000 9.719212330640612e+01 2.8e+00 2.01e-08  1e-09  2e-09\n",
      " 1600  15960 9.719212330640612e+01 3.4e+00 1.28e-08  9e-10  2e-09\n"
     ]
    },
    {
     "name": "stderr",
     "output_type": "stream",
     "text": [
      "/Users/tourealite/Downloads/______phD/code-mo/python/cma/utilities/utils.py:333: UserWarning: flat fitness (f=-4.186874, sigma=7.67e-09).\n",
      "                    For small sigma, this could indicate numerical convergence.\n",
      "                    Otherwise, please (re)consider how to compute the fitness more elaborately. (iteration=337)\n",
      "  ')')\n",
      "/Users/tourealite/Downloads/______phD/code-mo/python/cma/utilities/utils.py:333: UserWarning: flat fitness (f=-4.186874, sigma=8.49e-09).\n",
      "                    For small sigma, this could indicate numerical convergence.\n",
      "                    Otherwise, please (re)consider how to compute the fitness more elaborately. (iteration=338)\n",
      "  ')')\n",
      "/Users/tourealite/Downloads/______phD/code-mo/python/cma/utilities/utils.py:333: UserWarning: flat fitness (f=-4.186874, sigma=8.59e-09).\n",
      "                    For small sigma, this could indicate numerical convergence.\n",
      "                    Otherwise, please (re)consider how to compute the fitness more elaborately. (iteration=339)\n",
      "  ')')\n",
      "/Users/tourealite/Downloads/______phD/code-mo/python/cma/utilities/utils.py:333: UserWarning: flat fitness (f=-4.186874, sigma=9.92e-09).\n",
      "                    For small sigma, this could indicate numerical convergence.\n",
      "                    Otherwise, please (re)consider how to compute the fitness more elaborately. (iteration=342)\n",
      "  ')')\n",
      "/Users/tourealite/Downloads/______phD/code-mo/python/cma/utilities/utils.py:333: UserWarning: flat fitness (f=-4.186874, sigma=1.09e-08).\n",
      "                    For small sigma, this could indicate numerical convergence.\n",
      "                    Otherwise, please (re)consider how to compute the fitness more elaborately. (iteration=345)\n",
      "  ')')\n"
     ]
    },
    {
     "name": "stdout",
     "output_type": "stream",
     "text": [
      " 1700  16760 9.719212330640612e+01 4.2e+00 1.18e-08  7e-10  1e-09\n",
      " 1800  17540 9.719212330640613e+01 5.0e+00 8.98e-09  5e-10  1e-09\n"
     ]
    },
    {
     "name": "stderr",
     "output_type": "stream",
     "text": [
      "/Users/tourealite/Downloads/______phD/code-mo/python/cma/utilities/utils.py:333: UserWarning: flat fitness (f=-4.186874, sigma=7.19e-09).\n",
      "                    For small sigma, this could indicate numerical convergence.\n",
      "                    Otherwise, please (re)consider how to compute the fitness more elaborately. (iteration=360)\n",
      "  ')')\n",
      "/Users/tourealite/Downloads/______phD/code-mo/python/cma/utilities/utils.py:333: UserWarning: flat fitness (f=-4.186874, sigma=7.66e-09).\n",
      "                    For small sigma, this could indicate numerical convergence.\n",
      "                    Otherwise, please (re)consider how to compute the fitness more elaborately. (iteration=361)\n",
      "  ')')\n",
      "/Users/tourealite/Downloads/______phD/code-mo/python/cma/utilities/utils.py:333: UserWarning: flat fitness (f=-4.186874, sigma=7.50e-09).\n",
      "                    For small sigma, this could indicate numerical convergence.\n",
      "                    Otherwise, please (re)consider how to compute the fitness more elaborately. (iteration=365)\n",
      "  ')')\n",
      "/Users/tourealite/Downloads/______phD/code-mo/python/cma/utilities/utils.py:333: UserWarning: flat fitness (f=-4.186874, sigma=1.08e-08).\n",
      "                    For small sigma, this could indicate numerical convergence.\n",
      "                    Otherwise, please (re)consider how to compute the fitness more elaborately. (iteration=368)\n",
      "  ')')\n",
      "/Users/tourealite/Downloads/______phD/code-mo/python/cma/utilities/utils.py:333: UserWarning: flat fitness (f=-4.186874, sigma=7.72e-09).\n",
      "                    For small sigma, this could indicate numerical convergence.\n",
      "                    Otherwise, please (re)consider how to compute the fitness more elaborately. (iteration=373)\n",
      "  ')')\n",
      "/Users/tourealite/Downloads/______phD/code-mo/python/cma/utilities/utils.py:333: UserWarning: flat fitness (f=-4.186874, sigma=7.45e-09).\n",
      "                    For small sigma, this could indicate numerical convergence.\n",
      "                    Otherwise, please (re)consider how to compute the fitness more elaborately. (iteration=374)\n",
      "  ')')\n",
      "/Users/tourealite/Downloads/______phD/code-mo/python/cma/utilities/utils.py:333: UserWarning: flat fitness (f=-4.186874, sigma=7.55e-09).\n",
      "                    For small sigma, this could indicate numerical convergence.\n",
      "                    Otherwise, please (re)consider how to compute the fitness more elaborately. (iteration=380)\n",
      "  ')')\n"
     ]
    },
    {
     "name": "stdout",
     "output_type": "stream",
     "text": [
      " 1900  18170 9.719212330640612e+01 5.5e+00 8.98e-09  5e-10  1e-09\n",
      " 1936  18350 9.719212330640612e+01 5.5e+00 7.13e-09  5e-10  9e-10\n"
     ]
    },
    {
     "name": "stderr",
     "output_type": "stream",
     "text": [
      "/Users/tourealite/Downloads/______phD/code-mo/python/cma/utilities/utils.py:333: UserWarning: flat fitness (f=-4.186874, sigma=6.80e-09).\n",
      "                    For small sigma, this could indicate numerical convergence.\n",
      "                    Otherwise, please (re)consider how to compute the fitness more elaborately. (iteration=382)\n",
      "  ')')\n"
     ]
    }
   ],
   "source": [
    "while not moes.stop():\n",
    "#for i in range(1):\n",
    "    solutions = moes.ask()\n",
    "    objective_values = [fitness(x) for x in solutions]\n",
    "    moes.tell(solutions, objective_values)\n",
    "    moes.disp()"
   ]
  },
  {
   "cell_type": "code",
   "execution_count": null,
   "metadata": {},
   "outputs": [],
   "source": [
    "type(moes.disp_annotation)"
   ]
  },
  {
   "cell_type": "code",
   "execution_count": null,
   "metadata": {},
   "outputs": [],
   "source": [
    "moes.disp_annotation.ok = True"
   ]
  },
  {
   "cell_type": "code",
   "execution_count": null,
   "metadata": {},
   "outputs": [],
   "source": [
    "moes.countevals"
   ]
  },
  {
   "cell_type": "code",
   "execution_count": null,
   "metadata": {},
   "outputs": [],
   "source": [
    "moes.countiter"
   ]
  },
  {
   "cell_type": "code",
   "execution_count": null,
   "metadata": {},
   "outputs": [],
   "source": [
    "moes.optimize(fitness)"
   ]
  },
  {
   "cell_type": "code",
   "execution_count": null,
   "metadata": {},
   "outputs": [],
   "source": [
    "moes.disp(1)"
   ]
  },
  {
   "cell_type": "code",
   "execution_count": null,
   "metadata": {},
   "outputs": [],
   "source": [
    "moes.countiter"
   ]
  },
  {
   "cell_type": "code",
   "execution_count": null,
   "metadata": {},
   "outputs": [],
   "source": [
    "moes.countevals"
   ]
  },
  {
   "cell_type": "code",
   "execution_count": null,
   "metadata": {},
   "outputs": [],
   "source": []
  },
  {
   "cell_type": "code",
   "execution_count": null,
   "metadata": {},
   "outputs": [],
   "source": [
    "[kernel.incumbent for kernel in moes.kernels]"
   ]
  },
  {
   "cell_type": "code",
   "execution_count": null,
   "metadata": {},
   "outputs": [],
   "source": [
    "[kernel.incumbent for kernel in moes.kernels]"
   ]
  },
  {
   "cell_type": "code",
   "execution_count": null,
   "metadata": {},
   "outputs": [],
   "source": [
    "[kernel.incumbent for kernel in moes.kernels]"
   ]
  },
  {
   "cell_type": "code",
   "execution_count": null,
   "metadata": {},
   "outputs": [],
   "source": [
    "for i in range(1):\n",
    "    solutions = moes.ask()\n",
    "    objective_values = [fitness(x) for x in solutions]\n",
    "    moes.tell(solutions, objective_values)"
   ]
  },
  {
   "cell_type": "code",
   "execution_count": null,
   "metadata": {},
   "outputs": [],
   "source": [
    "moes.kernels[2].timer.elapsed"
   ]
  },
  {
   "cell_type": "code",
   "execution_count": null,
   "metadata": {},
   "outputs": [],
   "source": [
    "moes.optimize(fitness)"
   ]
  },
  {
   "cell_type": "code",
   "execution_count": null,
   "metadata": {},
   "outputs": [],
   "source": [
    "[kernel.mean for kernel in moes.kernels]"
   ]
  },
  {
   "cell_type": "code",
   "execution_count": null,
   "metadata": {},
   "outputs": [],
   "source": [
    "[kernel.best.x for kernel in moes.kernels]"
   ]
  },
  {
   "cell_type": "code",
   "execution_count": null,
   "metadata": {},
   "outputs": [],
   "source": []
  },
  {
   "cell_type": "code",
   "execution_count": null,
   "metadata": {},
   "outputs": [],
   "source": [
    "list_of_solvers = mo.get_cmas(num_kernels * [dim * [1]], 0.2)\n",
    "moes = mo.Sofomore(list_of_solvers, reference_point = [11,11])\n",
    "\n",
    "while not moes.stop():\n",
    "    solutions = moes.ask()\n",
    "    objective_values = [fitness(x) for x in solutions]\n",
    "    moes.tell(solutions, objective_values)"
   ]
  },
  {
   "cell_type": "code",
   "execution_count": null,
   "metadata": {},
   "outputs": [],
   "source": []
  },
  {
   "cell_type": "code",
   "execution_count": null,
   "metadata": {},
   "outputs": [],
   "source": []
  },
  {
   "cell_type": "code",
   "execution_count": null,
   "metadata": {},
   "outputs": [],
   "source": []
  },
  {
   "cell_type": "code",
   "execution_count": null,
   "metadata": {},
   "outputs": [],
   "source": []
  },
  {
   "cell_type": "code",
   "execution_count": null,
   "metadata": {},
   "outputs": [],
   "source": []
  },
  {
   "cell_type": "code",
   "execution_count": null,
   "metadata": {},
   "outputs": [],
   "source": []
  },
  {
   "cell_type": "code",
   "execution_count": null,
   "metadata": {},
   "outputs": [],
   "source": [
    "import cma"
   ]
  },
  {
   "cell_type": "code",
   "execution_count": null,
   "metadata": {},
   "outputs": [],
   "source": [
    "es = cma.CMAEvolutionStrategy(5 * [1], 0.2)"
   ]
  },
  {
   "cell_type": "code",
   "execution_count": null,
   "metadata": {},
   "outputs": [],
   "source": [
    "es.optimize(cma.ff.sphere)"
   ]
  },
  {
   "cell_type": "code",
   "execution_count": null,
   "metadata": {},
   "outputs": [],
   "source": [
    "import numpy as np\n",
    "es = cma.CMAEvolutionStrategy(5 * [1], 0.2, {'bounds': [0.5, np.inf]})\n",
    "while not es.stop():\n",
    "    X = es.ask()\n",
    "    F = [cma.ff.sphere(x) for x in X]\n",
    "    es.tell(X, F)\n",
    "    es.disp()"
   ]
  },
  {
   "cell_type": "code",
   "execution_count": null,
   "metadata": {},
   "outputs": [],
   "source": [
    "type(es.opts['popsize'])"
   ]
  },
  {
   "cell_type": "code",
   "execution_count": null,
   "metadata": {},
   "outputs": [],
   "source": [
    "lb = [0, 0, 0]\n",
    "rb = [1, 1, 1]"
   ]
  },
  {
   "cell_type": "code",
   "execution_count": null,
   "metadata": {},
   "outputs": [],
   "source": [
    "x = np.array([-1, 0.5, 0.3])"
   ]
  },
  {
   "cell_type": "code",
   "execution_count": null,
   "metadata": {},
   "outputs": [],
   "source": [
    "max(x, lb)"
   ]
  },
  {
   "cell_type": "code",
   "execution_count": null,
   "metadata": {},
   "outputs": [],
   "source": [
    "tf = cma.constraints_handler.BoundTransform([0, 1])"
   ]
  },
  {
   "cell_type": "code",
   "execution_count": null,
   "metadata": {},
   "outputs": [],
   "source": [
    "x = [-1, 0.5, 0.3]"
   ]
  },
  {
   "cell_type": "code",
   "execution_count": null,
   "metadata": {},
   "outputs": [],
   "source": [
    "y = tf.repair(x)"
   ]
  },
  {
   "cell_type": "code",
   "execution_count": null,
   "metadata": {},
   "outputs": [],
   "source": [
    "y"
   ]
  },
  {
   "cell_type": "code",
   "execution_count": null,
   "metadata": {},
   "outputs": [],
   "source": []
  }
 ],
 "metadata": {
  "kernelspec": {
   "display_name": "Python 3",
   "language": "python",
   "name": "python3"
  },
  "language_info": {
   "codemirror_mode": {
    "name": "ipython",
    "version": 3
   },
   "file_extension": ".py",
   "mimetype": "text/x-python",
   "name": "python",
   "nbconvert_exporter": "python",
   "pygments_lexer": "ipython3",
   "version": "3.7.3"
  }
 },
 "nbformat": 4,
 "nbformat_minor": 2
}
