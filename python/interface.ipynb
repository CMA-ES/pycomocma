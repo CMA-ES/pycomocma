{
 "cells": [
  {
   "cell_type": "code",
   "execution_count": 1,
   "metadata": {},
   "outputs": [],
   "source": [
    "import cma, mo\n",
    "\n",
    "# Set parameters\n",
    "dimension = 10\n",
    "num_kernels = 5\n",
    "\n",
    "list_of_solvers = mo.get_cmas(num_kernels * [dimension * [1]], 0.2)\n",
    "moes = mo.Sofomore(list_of_solvers, reference_point = [11,11])\n",
    "\n"
   ]
  },
  {
   "cell_type": "code",
   "execution_count": 2,
   "metadata": {
    "scrolled": false
   },
   "outputs": [
    {
     "name": "stdout",
     "output_type": "stream",
     "text": [
      "Iterat #Fevals   Hypervolume   axis ratios   sigmas   min&max stds\n",
      "                                  (median)  (median)    (median)\n",
      "    1     10 1.100000000000000e+01 1.0e+00 2.00e-01  2e-01  2e-01\n",
      "    2     20 2.559964108102092e+01 1.0e+00 2.00e-01  2e-01  2e-01\n",
      "    3     30 2.559964108102092e+01 1.0e+00 1.86e-01  2e-01  2e-01\n",
      "  100   1000 9.595040417398607e+01 1.9e+00 1.35e-01  1e-01  1e-01\n",
      "  200   2000 9.717573870324699e+01 1.9e+00 3.85e-02  3e-02  3e-02\n",
      "  300   3000 9.723640949012713e+01 2.0e+00 1.06e-02  6e-03  8e-03\n",
      "  400   4000 9.724091448581021e+01 2.1e+00 2.40e-03  1e-03  2e-03\n",
      "  500   5000 9.724108230743420e+01 2.1e+00 6.58e-04  3e-04  3e-04\n",
      "  600   6000 9.724109709243075e+01 2.2e+00 1.93e-04  7e-05  8e-05\n",
      "  700   7000 9.724109823881689e+01 2.0e+00 6.68e-05  2e-05  3e-05\n",
      "  800   8000 9.724109829939023e+01 2.2e+00 1.55e-05  3e-06  5e-06\n",
      "  900   8950 9.724109830324477e+01 2.5e+00 4.40e-06  8e-07  1e-06\n",
      "  927   9120 9.724109830340194e+01 2.5e+00 3.74e-06  8e-07  1e-06\n"
     ]
    }
   ],
   "source": [
    "fitness = mo.FitFun(cma.ff.sphere, lambda x: cma.ff.sphere(x-1))\n",
    "while not moes.stop():\n",
    "#for i in range(1):\n",
    "    solutions = moes.ask()\n",
    "    objective_values = [fitness(x) for x in solutions]\n",
    "    moes.tell(solutions, objective_values)\n",
    "    moes.disp()\n",
    "    moes.logger.add()\n"
   ]
  },
  {
   "cell_type": "code",
   "execution_count": null,
   "metadata": {},
   "outputs": [],
   "source": [
    "moes.logger.plot()"
   ]
  },
  {
   "cell_type": "code",
   "execution_count": null,
   "metadata": {},
   "outputs": [],
   "source": [
    "moes.ratio_inactive"
   ]
  },
  {
   "cell_type": "code",
   "execution_count": null,
   "metadata": {
    "scrolled": false
   },
   "outputs": [],
   "source": [
    "X = moes.ask()\n",
    "objective_values = [fitness(x) for x in X]"
   ]
  },
  {
   "cell_type": "code",
   "execution_count": null,
   "metadata": {},
   "outputs": [],
   "source": [
    "objective_values"
   ]
  },
  {
   "cell_type": "code",
   "execution_count": null,
   "metadata": {
    "scrolled": false
   },
   "outputs": [],
   "source": [
    "len(moes.archive)"
   ]
  },
  {
   "cell_type": "code",
   "execution_count": null,
   "metadata": {},
   "outputs": [],
   "source": [
    "len(moes.archive)"
   ]
  },
  {
   "cell_type": "code",
   "execution_count": null,
   "metadata": {},
   "outputs": [],
   "source": [
    "moes.tell(X, objective_values)"
   ]
  },
  {
   "cell_type": "code",
   "execution_count": null,
   "metadata": {},
   "outputs": [],
   "source": []
  },
  {
   "cell_type": "code",
   "execution_count": null,
   "metadata": {},
   "outputs": [],
   "source": []
  },
  {
   "cell_type": "code",
   "execution_count": null,
   "metadata": {},
   "outputs": [],
   "source": []
  },
  {
   "cell_type": "code",
   "execution_count": null,
   "metadata": {},
   "outputs": [],
   "source": []
  },
  {
   "cell_type": "code",
   "execution_count": null,
   "metadata": {},
   "outputs": [],
   "source": []
  },
  {
   "cell_type": "code",
   "execution_count": null,
   "metadata": {},
   "outputs": [],
   "source": []
  },
  {
   "cell_type": "code",
   "execution_count": null,
   "metadata": {},
   "outputs": [],
   "source": [
    "%pylab nbagg\n",
    "%matplotlib notebook"
   ]
  },
  {
   "cell_type": "code",
   "execution_count": null,
   "metadata": {},
   "outputs": [],
   "source": [
    "logger = cma.CMADataLogger('0').load()"
   ]
  },
  {
   "cell_type": "code",
   "execution_count": null,
   "metadata": {},
   "outputs": [],
   "source": [
    "logger.plot()"
   ]
  },
  {
   "cell_type": "code",
   "execution_count": null,
   "metadata": {},
   "outputs": [],
   "source": [
    "logger.disp()"
   ]
  },
  {
   "cell_type": "code",
   "execution_count": null,
   "metadata": {},
   "outputs": [],
   "source": [
    "kernel = moes.kernels[0]\n",
    "moes.inactivate(kernel)"
   ]
  },
  {
   "cell_type": "code",
   "execution_count": null,
   "metadata": {},
   "outputs": [],
   "source": [
    "type(kernel.opts['termination_callback'])"
   ]
  },
  {
   "cell_type": "code",
   "execution_count": null,
   "metadata": {},
   "outputs": [],
   "source": []
  },
  {
   "cell_type": "code",
   "execution_count": null,
   "metadata": {},
   "outputs": [],
   "source": []
  },
  {
   "cell_type": "code",
   "execution_count": null,
   "metadata": {},
   "outputs": [],
   "source": [
    "objective_values = [fitness(x) for x in solutions]"
   ]
  },
  {
   "cell_type": "code",
   "execution_count": null,
   "metadata": {},
   "outputs": [],
   "source": []
  },
  {
   "cell_type": "code",
   "execution_count": null,
   "metadata": {},
   "outputs": [],
   "source": [
    "a = sort([1,3])"
   ]
  },
  {
   "cell_type": "code",
   "execution_count": null,
   "metadata": {},
   "outputs": [],
   "source": [
    "a"
   ]
  },
  {
   "cell_type": "code",
   "execution_count": null,
   "metadata": {},
   "outputs": [],
   "source": []
  }
 ],
 "metadata": {
  "kernelspec": {
   "display_name": "Python 3",
   "language": "python",
   "name": "python3"
  },
  "language_info": {
   "codemirror_mode": {
    "name": "ipython",
    "version": 3
   },
   "file_extension": ".py",
   "mimetype": "text/x-python",
   "name": "python",
   "nbconvert_exporter": "python",
   "pygments_lexer": "ipython3",
   "version": "3.7.3"
  }
 },
 "nbformat": 4,
 "nbformat_minor": 2
}
