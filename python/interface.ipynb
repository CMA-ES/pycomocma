{
 "cells": [
  {
   "cell_type": "code",
   "execution_count": 1,
   "metadata": {},
   "outputs": [],
   "source": [
    "import cma, mo\n",
    "\n",
    "# Defining a callable multiobjective function:\n",
    "\n",
    "class FitFun:\n",
    "    def __init__(self, *args):\n",
    "        self.callables = args\n",
    "    def __call__(self, x):\n",
    "        return [f(x) for f in self.callables]\n",
    "fitness = FitFun(cma.ff.sphere, lambda x: cma.ff.sphere(x-1)) \n",
    "\n",
    "# Defining a multiobjective function:\n",
    "\n",
    "# Set parameters\n",
    "dimension = 10\n",
    "num_kernels = 5\n",
    "\n",
    "# Instantiating `Sofomore` with `cma-es`, via the `get_cmas` factory function:\n",
    "\n",
    "list_of_solvers = mo.get_cmas(num_kernels * [dimension * [1]], 0.2)\n",
    "moes = mo.Sofomore(list_of_solvers, reference_point = [11,11])\n",
    "\n"
   ]
  },
  {
   "cell_type": "code",
   "execution_count": 2,
   "metadata": {
    "scrolled": false
   },
   "outputs": [
    {
     "name": "stdout",
     "output_type": "stream",
     "text": [
      "Iterat #Fevals   Hypervolume   axis ratios   sigmas   min&max stds\n",
      "                                  (median)  (median)    (median)\n",
      "    1     10 1.100000000000000e+01 1.0e+00 2.00e-01  2e-01  2e-01\n",
      "    2     20 2.561789280327662e+01 1.0e+00 2.00e-01  2e-01  2e-01\n",
      "    3     30 2.561789280327662e+01 1.0e+00 2.00e-01  2e-01  2e-01\n",
      "  100   1000 9.588929288084881e+01 1.8e+00 1.44e-01  1e-01  1e-01\n",
      "  200   2000 9.714394722287722e+01 1.8e+00 4.41e-02  3e-02  4e-02\n",
      "  300   3000 9.723135357066667e+01 1.9e+00 9.98e-03  6e-03  7e-03\n",
      "  400   4000 9.724062615224258e+01 2.1e+00 4.02e-03  2e-03  3e-03\n",
      "  500   5000 9.724107037955410e+01 2.2e+00 8.45e-04  3e-04  5e-04\n",
      "  600   6000 9.724109492438519e+01 2.1e+00 3.32e-04  1e-04  2e-04\n",
      "  700   7000 9.724109779903257e+01 2.2e+00 1.13e-04  4e-05  4e-05\n",
      "  800   8000 9.724109823275833e+01 1.9e+00 7.01e-05  2e-05  2e-05\n",
      "  900   9000 9.724109829383568e+01 2.0e+00 2.48e-05  5e-06  7e-06\n",
      " 1000  10000 9.724109830298565e+01 2.1e+00 9.91e-06  2e-06  2e-06\n",
      " 1100  11000 9.724109830354942e+01 2.0e+00 2.30e-06  3e-07  5e-07\n",
      " 1200  12000 9.724109830357547e+01 2.0e+00 7.79e-07  1e-07  1e-07\n",
      " 1300  13000 9.724109830357682e+01 2.0e+00 1.88e-07  2e-08  3e-08\n",
      " 1400  14000 9.724109830357690e+01 2.4e+00 5.69e-08  5e-09  7e-09\n",
      " 1500  15000 9.724109830357690e+01 2.3e+00 2.66e-08  2e-09  3e-09\n"
     ]
    },
    {
     "name": "stderr",
     "output_type": "stream",
     "text": [
      "/Users/tourealite/Downloads/______phD/code-mo/python/cma/utilities/utils.py:333: UserWarning: flat fitness (f=-3.264947, sigma=2.18e-08).\n",
      "                    For small sigma, this could indicate numerical convergence.\n",
      "                    Otherwise, please (re)consider how to compute the fitness more elaborately. (iteration=312)\n",
      "  ')')\n"
     ]
    },
    {
     "name": "stdout",
     "output_type": "stream",
     "text": [
      " 1600  16000 9.724109830357690e+01 2.7e+00 2.03e-08  2e-09  2e-09\n",
      " 1700  16960 9.724109830357690e+01 3.3e+00 1.49e-08  1e-09  2e-09\n",
      " 1800  17720 9.724109830357690e+01 3.7e+00 1.05e-08  7e-10  1e-09\n",
      " 1900  18390 9.724109830357690e+01 4.2e+00 1.00e-08  6e-10  9e-10\n",
      " 2000  18890 9.724109830357690e+01 4.2e+00 1.00e-08  6e-10  9e-10\n",
      " 2078  19280 9.724109830357690e+01 4.2e+00 1.00e-08  6e-10  9e-10\n"
     ]
    }
   ],
   "source": [
    "while not moes.stop:\n",
    "#for i in range(1):\n",
    "    solutions = moes.ask()\n",
    "    objective_values = [fitness(x) for x in solutions]\n",
    "    moes.tell(solutions, objective_values)\n",
    "    moes.disp()\n"
   ]
  },
  {
   "cell_type": "code",
   "execution_count": null,
   "metadata": {
    "scrolled": false
   },
   "outputs": [],
   "source": [
    "X = moes.ask()\n",
    "objective_values = [fitness(x) for x in X]"
   ]
  },
  {
   "cell_type": "code",
   "execution_count": null,
   "metadata": {},
   "outputs": [],
   "source": [
    "objective_values"
   ]
  },
  {
   "cell_type": "code",
   "execution_count": null,
   "metadata": {
    "scrolled": false
   },
   "outputs": [],
   "source": [
    "len(moes.archive)"
   ]
  },
  {
   "cell_type": "code",
   "execution_count": null,
   "metadata": {},
   "outputs": [],
   "source": [
    "len(moes.archive)"
   ]
  },
  {
   "cell_type": "code",
   "execution_count": null,
   "metadata": {},
   "outputs": [],
   "source": [
    "moes.tell(X, objective_values)"
   ]
  },
  {
   "cell_type": "code",
   "execution_count": null,
   "metadata": {},
   "outputs": [],
   "source": []
  },
  {
   "cell_type": "code",
   "execution_count": null,
   "metadata": {},
   "outputs": [],
   "source": []
  },
  {
   "cell_type": "code",
   "execution_count": null,
   "metadata": {},
   "outputs": [],
   "source": []
  },
  {
   "cell_type": "code",
   "execution_count": null,
   "metadata": {},
   "outputs": [],
   "source": []
  },
  {
   "cell_type": "code",
   "execution_count": null,
   "metadata": {},
   "outputs": [],
   "source": []
  },
  {
   "cell_type": "code",
   "execution_count": null,
   "metadata": {},
   "outputs": [],
   "source": []
  },
  {
   "cell_type": "code",
   "execution_count": null,
   "metadata": {},
   "outputs": [],
   "source": [
    "%pylab nbagg\n",
    "%matplotlib notebook"
   ]
  },
  {
   "cell_type": "code",
   "execution_count": null,
   "metadata": {},
   "outputs": [],
   "source": [
    "logger = cma.CMADataLogger('0').load()"
   ]
  },
  {
   "cell_type": "code",
   "execution_count": null,
   "metadata": {},
   "outputs": [],
   "source": [
    "logger.plot()"
   ]
  },
  {
   "cell_type": "code",
   "execution_count": null,
   "metadata": {},
   "outputs": [],
   "source": [
    "logger.disp()"
   ]
  },
  {
   "cell_type": "code",
   "execution_count": null,
   "metadata": {},
   "outputs": [],
   "source": [
    "kernel = moes.kernels[0]\n",
    "moes.inactivate(kernel)"
   ]
  },
  {
   "cell_type": "code",
   "execution_count": null,
   "metadata": {},
   "outputs": [],
   "source": [
    "type(kernel.opts['termination_callback'])"
   ]
  },
  {
   "cell_type": "code",
   "execution_count": null,
   "metadata": {},
   "outputs": [],
   "source": []
  },
  {
   "cell_type": "code",
   "execution_count": null,
   "metadata": {},
   "outputs": [],
   "source": []
  },
  {
   "cell_type": "code",
   "execution_count": null,
   "metadata": {},
   "outputs": [],
   "source": [
    "objective_values = [fitness(x) for x in solutions]"
   ]
  },
  {
   "cell_type": "code",
   "execution_count": null,
   "metadata": {},
   "outputs": [],
   "source": []
  },
  {
   "cell_type": "code",
   "execution_count": null,
   "metadata": {},
   "outputs": [],
   "source": [
    "a = sort([1,3])"
   ]
  },
  {
   "cell_type": "code",
   "execution_count": null,
   "metadata": {},
   "outputs": [],
   "source": [
    "a"
   ]
  },
  {
   "cell_type": "code",
   "execution_count": null,
   "metadata": {},
   "outputs": [],
   "source": []
  }
 ],
 "metadata": {
  "kernelspec": {
   "display_name": "Python 3",
   "language": "python",
   "name": "python3"
  },
  "language_info": {
   "codemirror_mode": {
    "name": "ipython",
    "version": 3
   },
   "file_extension": ".py",
   "mimetype": "text/x-python",
   "name": "python",
   "nbconvert_exporter": "python",
   "pygments_lexer": "ipython3",
   "version": "3.7.3"
  }
 },
 "nbformat": 4,
 "nbformat_minor": 2
}
