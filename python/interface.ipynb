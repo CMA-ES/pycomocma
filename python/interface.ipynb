{
 "cells": [
  {
   "cell_type": "code",
   "execution_count": 15,
   "metadata": {},
   "outputs": [],
   "source": [
    "import cma, mo\n",
    "\n",
    "# Defining a callable multiobjective function:\n",
    "\n",
    "class FitFun:\n",
    "    def __init__(self, *args):\n",
    "        self.callables = args\n",
    "    def __call__(self, x):\n",
    "        return [f(x) for f in self.callables]\n",
    "fitness = FitFun(cma.ff.sphere, lambda x: cma.ff.sphere(x-1)) \n",
    "\n",
    "# Defining a multiobjective function:\n",
    "\n",
    "# Set parameters\n",
    "dimension = 10\n",
    "num_kernels = 5\n",
    "\n",
    "# Instantiating `Sofomore` with `cma-es`, via the `get_cmas` factory function:\n",
    "\n",
    "list_of_solvers = mo.get_cmas(num_kernels * [dimension * [1]], 0.2)\n",
    "moes = mo.Sofomore(list_of_solvers, reference_point = [11,11])\n",
    "\n"
   ]
  },
  {
   "cell_type": "code",
   "execution_count": 16,
   "metadata": {
    "scrolled": false
   },
   "outputs": [
    {
     "name": "stdout",
     "output_type": "stream",
     "text": [
      "Iterat #Fevals   Hypervolume   axis ratios   sigmas   min&max stds\n",
      "                                  (median)  (median)    (median)\n",
      "    1     10 1.100000000000000e+01 1.0e+00 2.00e-01  2e-01  2e-01\n",
      "    2     20 2.392578540729071e+01 1.0e+00 2.00e-01  2e-01  2e-01\n",
      "    3     30 2.392578540729071e+01 1.0e+00 1.99e-01  2e-01  2e-01\n",
      "  100   1000 9.475081519294174e+01 1.6e+00 1.19e-01  1e-01  1e-01\n",
      "  200   2000 9.709120826751395e+01 1.7e+00 4.19e-02  3e-02  4e-02\n",
      "  300   3000 9.723438821909630e+01 1.8e+00 1.13e-02  6e-03  8e-03\n",
      "  400   4000 9.724067129201177e+01 2.1e+00 2.76e-03  1e-03  2e-03\n",
      "  500   5000 9.724107773160817e+01 2.0e+00 8.29e-04  3e-04  4e-04\n",
      "  600   6000 9.724109659913202e+01 2.1e+00 2.62e-04  8e-05  1e-04\n",
      "  700   7000 9.724109813554955e+01 2.3e+00 7.79e-05  2e-05  3e-05\n",
      "  800   8000 9.724109829225746e+01 2.1e+00 3.64e-05  9e-06  1e-05\n",
      "  900   9000 9.724109830198255e+01 1.9e+00 1.39e-05  3e-06  3e-06\n",
      " 1000  10000 9.724109830349451e+01 1.9e+00 4.69e-06  8e-07  1e-06\n",
      " 1100  11000 9.724109830357058e+01 2.1e+00 1.06e-06  2e-07  2e-07\n",
      " 1200  12000 9.724109830357634e+01 1.9e+00 4.63e-07  6e-08  7e-08\n",
      " 1300  13000 9.724109830357683e+01 2.0e+00 1.82e-07  2e-08  2e-08\n",
      " 1400  14000 9.724109830357690e+01 2.1e+00 5.79e-08  5e-09  7e-09\n",
      " 1500  15000 9.724109830357690e+01 2.2e+00 2.71e-08  2e-09  3e-09\n",
      " 1600  16000 9.724109830357690e+01 2.7e+00 2.07e-08  1e-09  2e-09\n"
     ]
    },
    {
     "name": "stderr",
     "output_type": "stream",
     "text": [
      "/Users/tourealite/Downloads/______phD/code-mo/python/cma/utilities/utils.py:333: UserWarning: flat fitness (f=-3.264948, sigma=2.72e-08).\n",
      "                    For small sigma, this could indicate numerical convergence.\n",
      "                    Otherwise, please (re)consider how to compute the fitness more elaborately. (iteration=333)\n",
      "  ')')\n"
     ]
    },
    {
     "name": "stdout",
     "output_type": "stream",
     "text": [
      " 1700  16890 9.724109830357690e+01 3.2e+00 1.65e-08  1e-09  2e-09\n",
      " 1800  17670 9.724109830357690e+01 3.5e+00 1.50e-08  9e-10  1e-09\n",
      " 1800  17670 9.724109830357690e+01 3.5e+00 1.50e-08  9e-10  1e-09\n",
      " 1900  18420 9.724109830357690e+01 4.3e+00 1.18e-08  6e-10  1e-09\n",
      " 1900  18420 9.724109830357690e+01 4.3e+00 1.18e-08  6e-10  1e-09\n",
      " 1977  18890 9.724109830357690e+01 4.6e+00 1.06e-08  6e-10  1e-09\n"
     ]
    },
    {
     "name": "stderr",
     "output_type": "stream",
     "text": [
      "/Users/tourealite/Downloads/______phD/code-mo/python/cma/utilities/utils.py:333: UserWarning: flat fitness (f=-3.264948, sigma=1.14e-08).\n",
      "                    For small sigma, this could indicate numerical convergence.\n",
      "                    Otherwise, please (re)consider how to compute the fitness more elaborately. (iteration=413)\n",
      "  ')')\n"
     ]
    }
   ],
   "source": [
    "while not moes.stop():\n",
    "#for i in range(1):\n",
    "    solutions = moes.ask()\n",
    "    objective_values = [fitness(x) for x in solutions]\n",
    "    moes.tell(solutions, objective_values)\n",
    "    moes.disp()\n"
   ]
  },
  {
   "cell_type": "code",
   "execution_count": 10,
   "metadata": {},
   "outputs": [
    {
     "data": {
      "text/plain": [
       "[{}, {}, {}, {}, {}]"
      ]
     },
     "execution_count": 10,
     "metadata": {},
     "output_type": "execute_result"
    }
   ],
   "source": [
    "[kernel.stop() for kernel in moes.kernels]"
   ]
  },
  {
   "cell_type": "code",
   "execution_count": 11,
   "metadata": {},
   "outputs": [
    {
     "data": {
      "text/plain": [
       "<mo.Sofomore at 0x11374a7b8>"
      ]
     },
     "execution_count": 11,
     "metadata": {},
     "output_type": "execute_result"
    }
   ],
   "source": [
    "moes.disp()"
   ]
  },
  {
   "cell_type": "code",
   "execution_count": null,
   "metadata": {},
   "outputs": [],
   "source": [
    "[kernel.couniter for kernel in self.kernels]"
   ]
  },
  {
   "cell_type": "code",
   "execution_count": null,
   "metadata": {},
   "outputs": [],
   "source": []
  },
  {
   "cell_type": "code",
   "execution_count": null,
   "metadata": {},
   "outputs": [],
   "source": []
  },
  {
   "cell_type": "code",
   "execution_count": null,
   "metadata": {},
   "outputs": [],
   "source": []
  },
  {
   "cell_type": "code",
   "execution_count": null,
   "metadata": {},
   "outputs": [],
   "source": []
  },
  {
   "cell_type": "code",
   "execution_count": null,
   "metadata": {},
   "outputs": [],
   "source": [
    "kernel.stop()"
   ]
  },
  {
   "cell_type": "code",
   "execution_count": null,
   "metadata": {},
   "outputs": [],
   "source": [
    "del kernel.stop()['callback']"
   ]
  },
  {
   "cell_type": "code",
   "execution_count": null,
   "metadata": {},
   "outputs": [],
   "source": [
    "kernel.stop()"
   ]
  },
  {
   "cell_type": "code",
   "execution_count": null,
   "metadata": {},
   "outputs": [],
   "source": [
    "moes.set"
   ]
  },
  {
   "cell_type": "code",
   "execution_count": null,
   "metadata": {},
   "outputs": [],
   "source": [
    "moes.front"
   ]
  },
  {
   "cell_type": "code",
   "execution_count": null,
   "metadata": {},
   "outputs": [],
   "source": [
    "%pylab nbagg\n",
    "%matplotlib notebook"
   ]
  },
  {
   "cell_type": "code",
   "execution_count": null,
   "metadata": {},
   "outputs": [],
   "source": [
    "logger = cma.CMADataLogger('0').load()"
   ]
  },
  {
   "cell_type": "code",
   "execution_count": null,
   "metadata": {},
   "outputs": [],
   "source": [
    "logger.plot()"
   ]
  },
  {
   "cell_type": "code",
   "execution_count": null,
   "metadata": {},
   "outputs": [],
   "source": [
    "logger.disp()"
   ]
  },
  {
   "cell_type": "code",
   "execution_count": null,
   "metadata": {},
   "outputs": [],
   "source": [
    "kernel = moes.kernels[0]\n",
    "moes.inactivate(kernel)"
   ]
  },
  {
   "cell_type": "code",
   "execution_count": null,
   "metadata": {},
   "outputs": [],
   "source": [
    "type(kernel.opts['termination_callback'])"
   ]
  },
  {
   "cell_type": "code",
   "execution_count": null,
   "metadata": {},
   "outputs": [],
   "source": [
    "kernel.opts['termination_callback']"
   ]
  },
  {
   "cell_type": "code",
   "execution_count": null,
   "metadata": {},
   "outputs": [],
   "source": [
    "moes.stop()"
   ]
  },
  {
   "cell_type": "code",
   "execution_count": null,
   "metadata": {},
   "outputs": [],
   "source": [
    "kernel.stop()"
   ]
  },
  {
   "cell_type": "code",
   "execution_count": null,
   "metadata": {},
   "outputs": [],
   "source": [
    "del kernel.stop()['callback']"
   ]
  },
  {
   "cell_type": "code",
   "execution_count": null,
   "metadata": {},
   "outputs": [],
   "source": []
  }
 ],
 "metadata": {
  "kernelspec": {
   "display_name": "Python 3",
   "language": "python",
   "name": "python3"
  },
  "language_info": {
   "codemirror_mode": {
    "name": "ipython",
    "version": 3
   },
   "file_extension": ".py",
   "mimetype": "text/x-python",
   "name": "python",
   "nbconvert_exporter": "python",
   "pygments_lexer": "ipython3",
   "version": "3.7.3"
  }
 },
 "nbformat": 4,
 "nbformat_minor": 2
}
