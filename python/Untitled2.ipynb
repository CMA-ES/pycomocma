{
 "cells": [
  {
   "cell_type": "code",
   "execution_count": null,
   "metadata": {},
   "outputs": [],
   "source": [
    "fitness = como.FitFun(cma.ff.sphere, lambda x: cma.ff.sphere(x-1)) # a callable multiobjective (manyobjective) function\n",
    "#g = lambda x: x[0] > 0.3\n",
    "while not moes.stop():\n",
    "#for i in range(100):\n",
    "    solutions = moes.ask()\n",
    "    objective_values = [fitness(x) for x in solutions]\n",
    "#    g_values = [g(x) for x in solutions]\n",
    "#    moes.tell(solutions, objective_values, [g_values])\n",
    "    moes.tell(solutions, objective_values)\n",
    "    moes.disp()\n",
    "    moes.logger.add()\n",
    "#%matplotlib notebook\n"
   ]
  }
 ],
 "metadata": {
  "kernelspec": {
   "display_name": "Python 3",
   "language": "python",
   "name": "python3"
  },
  "language_info": {
   "codemirror_mode": {
    "name": "ipython",
    "version": 3
   },
   "file_extension": ".py",
   "mimetype": "text/x-python",
   "name": "python",
   "nbconvert_exporter": "python",
   "pygments_lexer": "ipython3",
   "version": "3.7.3"
  }
 },
 "nbformat": 4,
 "nbformat_minor": 2
}
