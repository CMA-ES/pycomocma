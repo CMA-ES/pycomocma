{
 "cells": [
  {
   "cell_type": "code",
   "execution_count": 1,
   "metadata": {},
   "outputs": [
    {
     "name": "stdout",
     "output_type": "stream",
     "text": [
      "Populating the interactive namespace from numpy and matplotlib\n",
      "Warning: Cannot change to a different GUI toolkit: notebook. Using nbagg instead.\n"
     ]
    }
   ],
   "source": [
    "%pylab nbagg\n",
    "%matplotlib notebook"
   ]
  },
  {
   "cell_type": "code",
   "execution_count": 2,
   "metadata": {},
   "outputs": [],
   "source": [
    "import sys"
   ]
  },
  {
   "cell_type": "code",
   "execution_count": 3,
   "metadata": {},
   "outputs": [],
   "source": [
    "sys.path.append(\"./comocma/\")"
   ]
  },
  {
   "cell_type": "code",
   "execution_count": 4,
   "metadata": {},
   "outputs": [],
   "source": [
    "import cma, como\n",
    "import numpy as np\n",
    "\n",
    "import pylab as pl\n",
    "import matplotlib.pyplot as plt\n",
    "import copy\n",
    "\n",
    "import math"
   ]
  },
  {
   "cell_type": "code",
   "execution_count": 5,
   "metadata": {},
   "outputs": [],
   "source": [
    "dimension = 10  # dimension of the search space\n",
    "num_kernels = 11 # number of single-objective solvers (number of points on the front)"
   ]
  },
  {
   "cell_type": "markdown",
   "metadata": {},
   "source": [
    "### Settings for the sphere problem"
   ]
  },
  {
   "cell_type": "code",
   "execution_count": 6,
   "metadata": {},
   "outputs": [],
   "source": [
    "sigma0 = 0.2    # initial step-sizes\n",
    "cma_opts = {'tolx': 10**-3}\n",
    "inopts = {'verb_disp': 50, 'archive': True, 'restart': como.random_restart_kernel, 'update_order': None} \n",
    "#inopts = {'verb_disp': 500, 'archive': True, 'update_order': None} \n",
    "refpoint = [1.1, 1.1]"
   ]
  },
  {
   "cell_type": "code",
   "execution_count": 7,
   "metadata": {},
   "outputs": [],
   "source": [
    "fitness = como.FitFun(lambda x: 1 / len(x) * cma.ff.sphere(x), lambda x: 1 / len(x) * cma.ff.sphere(x-1)) # a callable bi-objective function"
   ]
  },
  {
   "cell_type": "markdown",
   "metadata": {},
   "source": [
    "### Settings for the Frederic's rastrigin problem"
   ]
  },
  {
   "cell_type": "code",
   "execution_count": null,
   "metadata": {},
   "outputs": [],
   "source": [
    "sigma0 = 2    # initial step-sizes\n",
    "#cma_opts = {'tolx': 10**-4}\n",
    "cma_opts = {'tolx': 10**-4, 'popsize': 32}\n",
    "inopts = {'verb_disp': 500, 'archive': True, 'update_order': None} \n",
    "#inopts = {'verb_disp': 500, 'archive': True, 'restart': como.best_chv_restart_kernel, 'update_order': None} "
   ]
  },
  {
   "cell_type": "code",
   "execution_count": null,
   "metadata": {},
   "outputs": [],
   "source": [
    "fun1 = lambda x: sum(np.abs(x)**0.8 + 5 * np.sin(x**3))\n",
    "fun2 = lambda x: (10. * len(x) + sum( x**2 -10. * np.cos(2. * np.pi * x)))/5 #rastrigin\n",
    "fitness = como.FitFun(fun1, fun2)\n",
    "refpoint = [-10, 15]"
   ]
  },
  {
   "cell_type": "markdown",
   "metadata": {},
   "source": [
    "### Instantiation of the MO optimizer"
   ]
  },
  {
   "cell_type": "code",
   "execution_count": 8,
   "metadata": {},
   "outputs": [],
   "source": [
    "#list_of_solvers = como.get_cmas(solutions, sigma0, cma_opts) # produce `num_kernels cma instances`\n",
    "list_of_solvers = como.get_cmas(num_kernels * [dimension * [0]], sigma0, cma_opts) # produce `num_kernels cma instances`\n",
    "moes = como.Sofomore(list_of_solvers, opts=inopts, reference_point=refpoint) # create a como-cma-es instance"
   ]
  },
  {
   "cell_type": "code",
   "execution_count": 9,
   "metadata": {
    "scrolled": false
   },
   "outputs": [
    {
     "name": "stdout",
     "output_type": "stream",
     "text": [
      "Iterat #Fevals   Hypervolume   axis ratios   sigmas   min&max stds\n",
      "                                  (median)  (median)    (median)\n",
      "    1     10 1.100000000000001e-01 1.0e+00 2.00e-01  2e-01  2e-01\n",
      "    2     20 2.159326692512623e-01 1.0e+00 2.00e-01  2e-01  2e-01\n",
      "    3     30 2.167671154049824e-01 1.0e+00 2.00e-01  2e-01  2e-01\n",
      "   50    500 6.373076940485582e-01 1.4e+00 1.78e-01  2e-01  2e-01\n",
      "  100   1000 9.419020761650575e-01 1.6e+00 1.84e-01  2e-01  2e-01\n",
      "  150   1500 9.632159331202212e-01 1.8e+00 1.63e-01  1e-01  2e-01\n",
      "  200   2000 9.731741243552723e-01 1.8e+00 1.26e-01  1e-01  1e-01\n",
      "  250   2500 9.925345756310809e-01 1.8e+00 1.17e-01  1e-01  1e-01\n",
      "  300   3000 9.980448859082677e-01 1.8e+00 1.03e-01  7e-02  1e-01\n",
      "  350   3500 1.004092089220638e+00 1.9e+00 7.80e-02  5e-02  7e-02\n",
      "  400   4000 1.007606152412207e+00 1.8e+00 5.41e-02  4e-02  5e-02\n",
      "  450   4500 1.009889778149731e+00 1.9e+00 4.17e-02  3e-02  4e-02\n",
      "  500   5000 1.010998955736311e+00 1.9e+00 3.91e-02  2e-02  3e-02\n",
      "  550   5500 1.011407778344613e+00 1.9e+00 2.79e-02  2e-02  2e-02\n",
      "  600   6000 1.011781225275103e+00 1.9e+00 2.04e-02  1e-02  2e-02\n",
      "  650   6500 1.011980380620893e+00 2.0e+00 1.63e-02  9e-03  1e-02\n",
      "  700   7000 1.012091342167188e+00 2.0e+00 1.31e-02  7e-03  9e-03\n",
      "  750   7500 1.012131092932881e+00 2.1e+00 1.01e-02  6e-03  7e-03\n",
      "  800   8000 1.012143535627426e+00 2.1e+00 8.40e-03  4e-03  6e-03\n",
      "  850   8500 1.012158468933861e+00 2.2e+00 6.81e-03  3e-03  4e-03\n",
      "  900   9000 1.012171672194990e+00 2.2e+00 5.12e-03  3e-03  3e-03\n",
      "  950   9500 1.012179310169455e+00 2.3e+00 3.87e-03  2e-03  2e-03\n",
      " 1000  10000 1.012183371611879e+00 2.1e+00 3.24e-03  2e-03  2e-03\n",
      " 1050  10500 1.012184968430175e+00 2.2e+00 2.36e-03  1e-03  1e-03\n",
      " 1100  11000 1.012186928179223e+00 2.1e+00 2.04e-03  9e-04  1e-03\n",
      " 1150  11500 1.012187800670705e+00 2.1e+00 2.62e-03  9e-04  1e-03\n",
      " 1200  12000 1.012187777588539e+00 2.1e+00 2.20e-03  9e-04  1e-03\n",
      " 1250  12500 1.012188051594698e+00 2.1e+00 2.19e-03  9e-04  1e-03\n",
      " 1300  13000 1.012188106747419e+00 2.1e+00 9.90e-02  9e-02  1e-01\n",
      " 1350  13500 1.012873007946683e+00 2.1e+00 1.29e-01  1e-01  1e-01\n",
      " 1400  14000 1.013862065518836e+00 2.2e+00 9.71e-02  7e-02  1e-01\n",
      " 1450  14500 1.013789510800512e+00 2.2e+00 7.32e-02  6e-02  7e-02\n",
      " 1500  15000 1.016730068322143e+00 2.2e+00 5.70e-02  4e-02  5e-02\n",
      " 1550  15500 1.016031566245662e+00 2.2e+00 3.99e-02  3e-02  4e-02\n",
      " 1600  16000 1.019101992055957e+00 2.3e+00 3.41e-02  2e-02  3e-02\n",
      " 1650  16500 1.020678755233639e+00 2.3e+00 3.07e-02  2e-02  3e-02\n",
      " 1700  17000 1.020370779106893e+00 2.3e+00 2.70e-02  2e-02  2e-02\n",
      " 1750  17500 1.022060765932473e+00 2.3e+00 2.37e-02  1e-02  2e-02\n",
      " 1800  18000 1.022285122009783e+00 2.2e+00 1.85e-02  1e-02  1e-02\n",
      " 1850  18500 1.023089398133507e+00 2.2e+00 1.21e-02  6e-03  9e-03\n",
      " 1900  19000 1.022976183810556e+00 2.3e+00 9.15e-03  5e-03  7e-03\n",
      " 1950  19500 1.023535231075248e+00 2.3e+00 7.80e-03  4e-03  5e-03\n",
      " 2000  20000 1.023546064142641e+00 2.3e+00 6.33e-03  3e-03  4e-03\n",
      " 2050  20500 1.023742008814733e+00 2.3e+00 4.17e-03  2e-03  2e-03\n",
      " 2100  21000 1.023787644345639e+00 2.4e+00 4.13e-03  2e-03  2e-03\n",
      " 2150  21500 1.023828257783145e+00 2.5e+00 3.26e-03  1e-03  2e-03\n",
      " 2200  22000 1.023874180707177e+00 2.5e+00 2.54e-03  1e-03  1e-03\n",
      " 2250  22500 1.023891717411957e+00 2.5e+00 1.94e-03  8e-04  1e-03\n",
      " 2300  23000 1.023906324390224e+00 2.5e+00 1.93e-03  8e-04  1e-03\n",
      " 2350  23500 1.023911838290877e+00 2.5e+00 1.93e-03  8e-04  1e-03\n",
      " 2400  24000 1.023914712786149e+00 2.5e+00 1.78e-03  8e-04  1e-03\n",
      " 2450  24500 1.023915370234919e+00 2.5e+00 1.72e-03  7e-04  9e-04\n",
      " 2500  25000 1.023917311905129e+00 2.5e+00 1.70e-03  7e-04  9e-04\n",
      " 2550  25500 1.023917698159456e+00 2.5e+00 1.69e-03  7e-04  9e-04\n",
      " 2600  26000 1.023918103427256e+00 2.5e+00 1.68e-03  6e-04  9e-04\n",
      " 2650  26500 1.023918291911158e+00 2.5e+00 1.62e-03  6e-04  8e-04\n",
      " 2700  27000 1.023918313568974e+00 2.5e+00 1.56e-03  6e-04  8e-04\n",
      " 2750  27500 1.023918324256804e+00 2.5e+00 1.67e-03  6e-04  8e-04\n",
      " 2800  28000 1.023918359726887e+00 2.5e+00 1.62e-03  6e-04  8e-04\n",
      " 2850  28500 1.023918372135245e+00 2.5e+00 1.68e-03  6e-04  9e-04\n",
      " 2900  29000 1.023918374501688e+00 2.4e+00 1.69e-03  7e-04  9e-04\n",
      " 2950  29500 1.023918377484344e+00 2.3e+00 1.70e-03  7e-04  9e-04\n",
      " 3000  30000 1.023918376368474e+00 2.3e+00 1.70e-03  7e-04  9e-04\n",
      " 3050  30500 1.023918378680726e+00 2.3e+00 1.70e-03  7e-04  9e-04\n",
      " 3100  31000 1.024301555578748e+00 2.3e+00 1.70e-03  7e-04  9e-04\n",
      " 3150  31500 1.024908784269035e+00 2.3e+00 1.70e-03  7e-04  9e-04\n",
      " 3200  32000 1.025512077923778e+00 2.4e+00 1.70e-03  7e-04  9e-04\n",
      " 3250  32500 1.026757392100623e+00 2.4e+00 1.70e-03  7e-04  9e-04\n",
      " 3300  33000 1.027616345542685e+00 2.4e+00 1.70e-03  7e-04  9e-04\n",
      " 3350  33500 1.027787479762841e+00 2.5e+00 1.70e-03  7e-04  9e-04\n",
      " 3400  34000 1.028421043278976e+00 2.5e+00 1.70e-03  7e-04  9e-04\n",
      " 3450  34500 1.028576287824357e+00 2.5e+00 1.70e-03  7e-04  9e-04\n",
      " 3500  35000 1.028720967923021e+00 2.4e+00 1.70e-03  7e-04  9e-04\n",
      " 3550  35500 1.028982016585506e+00 2.4e+00 1.70e-03  7e-04  9e-04\n",
      " 3600  36000 1.029031296533340e+00 2.5e+00 1.70e-03  7e-04  9e-04\n",
      " 3650  36500 1.029112198118000e+00 2.5e+00 1.70e-03  7e-04  9e-04\n",
      " 3700  37000 1.029203203231725e+00 2.5e+00 1.70e-03  7e-04  9e-04\n",
      " 3750  37500 1.029211432648897e+00 2.6e+00 1.70e-03  7e-04  9e-04\n",
      " 3800  38000 1.029225438612168e+00 2.8e+00 1.72e-03  7e-04  9e-04\n",
      " 3850  38500 1.029231813282726e+00 3.0e+00 1.72e-03  7e-04  9e-04\n",
      " 3900  39000 1.029241696459068e+00 3.1e+00 1.70e-03  7e-04  9e-04\n",
      " 3950  39500 1.029242884617926e+00 3.2e+00 1.70e-03  7e-04  9e-04\n",
      " 4000  40000 1.029244390781960e+00 3.2e+00 1.69e-03  7e-04  9e-04\n",
      " 4050  40500 1.029245637725998e+00 3.5e+00 1.68e-03  6e-04  9e-04\n",
      " 4100  41000 1.029245732569270e+00 3.7e+00 1.68e-03  6e-04  9e-04\n",
      " 4150  41500 1.029245946621912e+00 3.8e+00 1.61e-03  6e-04  8e-04\n",
      " 4200  42000 1.029246195893215e+00 3.7e+00 1.35e-03  5e-04  7e-04\n",
      " 4250  42500 1.029246264275093e+00 3.6e+00 1.04e-03  3e-04  5e-04\n",
      " 4300  43000 1.029246310073750e+00 4.0e+00 9.08e-04  2e-04  3e-04\n",
      " 4350  43500 1.029246329971595e+00 4.0e+00 7.73e-04  2e-04  3e-04\n",
      " 4400  44000 1.029246341824282e+00 4.0e+00 6.20e-04  2e-04  2e-04\n",
      " 4450  44500 1.029246348995030e+00 2.8e+00 5.36e-04  2e-04  2e-04\n",
      " 4500  45000 1.029246348153093e+00 2.7e+00 4.13e-04  1e-04  2e-04\n",
      " 4550  45500 1.029246351024831e+00 2.6e+00 3.77e-04  1e-04  1e-04\n"
     ]
    },
    {
     "ename": "KeyboardInterrupt",
     "evalue": "",
     "output_type": "error",
     "traceback": [
      "\u001b[0;31m---------------------------------------------------------------------------\u001b[0m",
      "\u001b[0;31mKeyboardInterrupt\u001b[0m                         Traceback (most recent call last)",
      "\u001b[0;32m<ipython-input-9-fb9fb81b10cc>\u001b[0m in \u001b[0;36m<module>\u001b[0;34m\u001b[0m\n\u001b[0;32m----> 1\u001b[0;31m \u001b[0;32mwhile\u001b[0m \u001b[0;32mnot\u001b[0m \u001b[0mmoes\u001b[0m\u001b[0;34m.\u001b[0m\u001b[0mstop\u001b[0m\u001b[0;34m(\u001b[0m\u001b[0;34m)\u001b[0m\u001b[0;34m:\u001b[0m\u001b[0;34m\u001b[0m\u001b[0;34m\u001b[0m\u001b[0m\n\u001b[0m\u001b[1;32m      2\u001b[0m     \u001b[0msolutions\u001b[0m \u001b[0;34m=\u001b[0m \u001b[0mmoes\u001b[0m\u001b[0;34m.\u001b[0m\u001b[0mask\u001b[0m\u001b[0;34m(\u001b[0m\u001b[0;34m)\u001b[0m\u001b[0;34m\u001b[0m\u001b[0;34m\u001b[0m\u001b[0m\n\u001b[1;32m      3\u001b[0m     \u001b[0mf_values\u001b[0m \u001b[0;34m=\u001b[0m \u001b[0;34m[\u001b[0m\u001b[0mfitness\u001b[0m\u001b[0;34m(\u001b[0m\u001b[0mx\u001b[0m\u001b[0;34m)\u001b[0m \u001b[0;32mfor\u001b[0m \u001b[0mx\u001b[0m \u001b[0;32min\u001b[0m \u001b[0msolutions\u001b[0m\u001b[0;34m]\u001b[0m\u001b[0;34m\u001b[0m\u001b[0;34m\u001b[0m\u001b[0m\n\u001b[1;32m      4\u001b[0m     \u001b[0mmoes\u001b[0m\u001b[0;34m.\u001b[0m\u001b[0mtell\u001b[0m\u001b[0;34m(\u001b[0m\u001b[0msolutions\u001b[0m\u001b[0;34m,\u001b[0m \u001b[0mf_values\u001b[0m\u001b[0;34m)\u001b[0m\u001b[0;34m\u001b[0m\u001b[0;34m\u001b[0m\u001b[0m\n\u001b[1;32m      5\u001b[0m     \u001b[0mmoes\u001b[0m\u001b[0;34m.\u001b[0m\u001b[0mdisp\u001b[0m\u001b[0;34m(\u001b[0m\u001b[0;34m)\u001b[0m\u001b[0;34m\u001b[0m\u001b[0;34m\u001b[0m\u001b[0m\n",
      "\u001b[0;32m~/Downloads/______phD/code-mo/python/comocma/como.py\u001b[0m in \u001b[0;36mstop\u001b[0;34m(self)\u001b[0m\n\u001b[1;32m    386\u001b[0m         \u001b[0;32mfor\u001b[0m \u001b[0mi\u001b[0m \u001b[0;32min\u001b[0m \u001b[0mrange\u001b[0m\u001b[0;34m(\u001b[0m\u001b[0mself\u001b[0m\u001b[0;34m.\u001b[0m\u001b[0mnum_kernels\u001b[0m\u001b[0;34m)\u001b[0m\u001b[0;34m:\u001b[0m\u001b[0;34m\u001b[0m\u001b[0;34m\u001b[0m\u001b[0m\n\u001b[1;32m    387\u001b[0m             \u001b[0;32mif\u001b[0m \u001b[0mself\u001b[0m\u001b[0;34m.\u001b[0m\u001b[0mkernels\u001b[0m\u001b[0;34m[\u001b[0m\u001b[0mi\u001b[0m\u001b[0;34m]\u001b[0m\u001b[0;34m.\u001b[0m\u001b[0mstop\u001b[0m\u001b[0;34m(\u001b[0m\u001b[0;34m)\u001b[0m\u001b[0;34m:\u001b[0m\u001b[0;34m\u001b[0m\u001b[0;34m\u001b[0m\u001b[0m\n\u001b[0;32m--> 388\u001b[0;31m                 \u001b[0mres\u001b[0m\u001b[0;34m[\u001b[0m\u001b[0mi\u001b[0m\u001b[0;34m]\u001b[0m \u001b[0;34m=\u001b[0m \u001b[0mself\u001b[0m\u001b[0;34m.\u001b[0m\u001b[0mkernels\u001b[0m\u001b[0;34m[\u001b[0m\u001b[0mi\u001b[0m\u001b[0;34m]\u001b[0m\u001b[0;34m.\u001b[0m\u001b[0mstop\u001b[0m\u001b[0;34m(\u001b[0m\u001b[0;34m)\u001b[0m\u001b[0;34m\u001b[0m\u001b[0;34m\u001b[0m\u001b[0m\n\u001b[0m\u001b[1;32m    389\u001b[0m             \u001b[0;32melse\u001b[0m\u001b[0;34m:\u001b[0m\u001b[0;34m\u001b[0m\u001b[0;34m\u001b[0m\u001b[0m\n\u001b[1;32m    390\u001b[0m                 \u001b[0;32mreturn\u001b[0m \u001b[0;32mFalse\u001b[0m\u001b[0;34m\u001b[0m\u001b[0;34m\u001b[0m\u001b[0m\n",
      "\u001b[0;32m~/Downloads/______phD/code-mo/python/comocma/como.py\u001b[0m in \u001b[0;36mstop\u001b[0;34m(self, check, ignore_list)\u001b[0m\n\u001b[1;32m    750\u001b[0m                                        'flat fitness', 'tolstagnation')\n\u001b[1;32m    751\u001b[0m \u001b[0;34m\u001b[0m\u001b[0m\n\u001b[0;32m--> 752\u001b[0;31m         \u001b[0;32mreturn\u001b[0m \u001b[0mcma\u001b[0m\u001b[0;34m.\u001b[0m\u001b[0mCMAEvolutionStrategy\u001b[0m\u001b[0;34m.\u001b[0m\u001b[0mstop\u001b[0m\u001b[0;34m(\u001b[0m\u001b[0mself\u001b[0m\u001b[0;34m,\u001b[0m \u001b[0mcheck\u001b[0m\u001b[0;34m,\u001b[0m \u001b[0mignore_list\u001b[0m \u001b[0;34m=\u001b[0m \u001b[0mto_be_ignored\u001b[0m\u001b[0;34m)\u001b[0m\u001b[0;34m\u001b[0m\u001b[0;34m\u001b[0m\u001b[0m\n\u001b[0m\u001b[1;32m    753\u001b[0m \u001b[0;34m\u001b[0m\u001b[0m\n\u001b[1;32m    754\u001b[0m     \u001b[0;32mdef\u001b[0m \u001b[0m_copy_light\u001b[0m\u001b[0;34m(\u001b[0m\u001b[0mself\u001b[0m\u001b[0;34m,\u001b[0m \u001b[0msigma\u001b[0m\u001b[0;34m=\u001b[0m\u001b[0;32mNone\u001b[0m\u001b[0;34m,\u001b[0m \u001b[0minopts\u001b[0m\u001b[0;34m=\u001b[0m\u001b[0;32mNone\u001b[0m\u001b[0;34m)\u001b[0m\u001b[0;34m:\u001b[0m\u001b[0;34m\u001b[0m\u001b[0;34m\u001b[0m\u001b[0m\n",
      "\u001b[0;32m~/Downloads/______phD/code-mo/python/comocma/cma/evolution_strategy.py\u001b[0m in \u001b[0;36mstop\u001b[0;34m(self, check, ignore_list)\u001b[0m\n\u001b[1;32m   1323\u001b[0m             \u001b[0mself\u001b[0m\u001b[0;34m.\u001b[0m\u001b[0mcallbackstop\u001b[0m \u001b[0;34m=\u001b[0m \u001b[0mutils\u001b[0m\u001b[0;34m.\u001b[0m\u001b[0mListOfCallables\u001b[0m\u001b[0;34m(\u001b[0m\u001b[0mself\u001b[0m\u001b[0;34m.\u001b[0m\u001b[0mopts\u001b[0m\u001b[0;34m[\u001b[0m\u001b[0;34m'termination_callback'\u001b[0m\u001b[0;34m]\u001b[0m\u001b[0;34m)\u001b[0m\u001b[0;34m(\u001b[0m\u001b[0mself\u001b[0m\u001b[0;34m)\u001b[0m\u001b[0;34m\u001b[0m\u001b[0;34m\u001b[0m\u001b[0m\n\u001b[1;32m   1324\u001b[0m \u001b[0;34m\u001b[0m\u001b[0m\n\u001b[0;32m-> 1325\u001b[0;31m         \u001b[0mres\u001b[0m \u001b[0;34m=\u001b[0m \u001b[0mself\u001b[0m\u001b[0;34m.\u001b[0m\u001b[0m_stopdict\u001b[0m\u001b[0;34m(\u001b[0m\u001b[0mself\u001b[0m\u001b[0;34m,\u001b[0m \u001b[0mcheck\u001b[0m\u001b[0;34m)\u001b[0m  \u001b[0;31m# update the stopdict and return a Dict (self)\u001b[0m\u001b[0;34m\u001b[0m\u001b[0;34m\u001b[0m\u001b[0m\n\u001b[0m\u001b[1;32m   1326\u001b[0m         \u001b[0;32mif\u001b[0m \u001b[0mignore_list\u001b[0m\u001b[0;34m:\u001b[0m\u001b[0;34m\u001b[0m\u001b[0;34m\u001b[0m\u001b[0m\n\u001b[1;32m   1327\u001b[0m             \u001b[0;32mfor\u001b[0m \u001b[0mkey\u001b[0m \u001b[0;32min\u001b[0m \u001b[0mignore_list\u001b[0m\u001b[0;34m:\u001b[0m\u001b[0;34m\u001b[0m\u001b[0;34m\u001b[0m\u001b[0m\n",
      "\u001b[0;32m~/Downloads/______phD/code-mo/python/comocma/cma/evolution_strategy.py\u001b[0m in \u001b[0;36m__call__\u001b[0;34m(self, es, check)\u001b[0m\n\u001b[1;32m   3367\u001b[0m         \u001b[0;32mif\u001b[0m \u001b[0mes\u001b[0m \u001b[0;32mis\u001b[0m \u001b[0;32mNone\u001b[0m \u001b[0;32mand\u001b[0m \u001b[0mself\u001b[0m\u001b[0;34m.\u001b[0m\u001b[0mes\u001b[0m \u001b[0;32mis\u001b[0m \u001b[0;32mNone\u001b[0m\u001b[0;34m:\u001b[0m\u001b[0;34m\u001b[0m\u001b[0;34m\u001b[0m\u001b[0m\n\u001b[1;32m   3368\u001b[0m             \u001b[0;32mraise\u001b[0m \u001b[0mValueError\u001b[0m\u001b[0;34m(\u001b[0m\u001b[0;34m'termination conditions need an optimizer to act upon'\u001b[0m\u001b[0;34m)\u001b[0m\u001b[0;34m\u001b[0m\u001b[0;34m\u001b[0m\u001b[0m\n\u001b[0;32m-> 3369\u001b[0;31m         \u001b[0mself\u001b[0m\u001b[0;34m.\u001b[0m\u001b[0m_update\u001b[0m\u001b[0;34m(\u001b[0m\u001b[0mes\u001b[0m\u001b[0;34m)\u001b[0m\u001b[0;34m\u001b[0m\u001b[0;34m\u001b[0m\u001b[0m\n\u001b[0m\u001b[1;32m   3370\u001b[0m         \u001b[0;32mreturn\u001b[0m \u001b[0mself\u001b[0m\u001b[0;34m\u001b[0m\u001b[0;34m\u001b[0m\u001b[0m\n\u001b[1;32m   3371\u001b[0m \u001b[0;34m\u001b[0m\u001b[0m\n",
      "\u001b[0;32m~/Downloads/______phD/code-mo/python/comocma/cma/evolution_strategy.py\u001b[0m in \u001b[0;36m_update\u001b[0;34m(self, es)\u001b[0m\n\u001b[1;32m   3497\u001b[0m                                  sum(es.mean == es.mean + 0.1 * es.sigma *\n\u001b[1;32m   3498\u001b[0m                                      \u001b[0mes\u001b[0m\u001b[0;34m.\u001b[0m\u001b[0msm\u001b[0m\u001b[0;34m.\u001b[0m\u001b[0mD\u001b[0m\u001b[0;34m[\u001b[0m\u001b[0mi\u001b[0m\u001b[0;34m]\u001b[0m \u001b[0;34m*\u001b[0m \u001b[0mes\u001b[0m\u001b[0;34m.\u001b[0m\u001b[0msigma_vec\u001b[0m\u001b[0;34m.\u001b[0m\u001b[0mscaling\u001b[0m \u001b[0;34m*\u001b[0m\u001b[0;34m\u001b[0m\u001b[0;34m\u001b[0m\u001b[0m\n\u001b[0;32m-> 3499\u001b[0;31m                                      (es.sm.B[:, i] if len(es.sm.B.shape) > 1 else es.sm.B[0])) == N)\n\u001b[0m\u001b[1;32m   3500\u001b[0m                 \u001b[0;32mexcept\u001b[0m \u001b[0mAttributeError\u001b[0m\u001b[0;34m:\u001b[0m\u001b[0;34m\u001b[0m\u001b[0;34m\u001b[0m\u001b[0m\n\u001b[1;32m   3501\u001b[0m                     \u001b[0;32mpass\u001b[0m\u001b[0;34m\u001b[0m\u001b[0;34m\u001b[0m\u001b[0m\n",
      "\u001b[0;31mKeyboardInterrupt\u001b[0m: "
     ]
    }
   ],
   "source": [
    "while not moes.stop():\n",
    "    solutions = moes.ask()\n",
    "    f_values = [fitness(x) for x in solutions]\n",
    "    moes.tell(solutions, f_values)\n",
    "    moes.disp()"
   ]
  },
  {
   "cell_type": "code",
   "execution_count": 11,
   "metadata": {},
   "outputs": [
    {
     "data": {
      "text/plain": [
       "42"
      ]
     },
     "execution_count": 11,
     "metadata": {},
     "output_type": "execute_result"
    }
   ],
   "source": [
    "moes.num_kernels"
   ]
  },
  {
   "cell_type": "code",
   "execution_count": null,
   "metadata": {
    "scrolled": false
   },
   "outputs": [],
   "source": [
    "#Animation of COMO with 2 objectives \n",
    "\n",
    "fig = plt.figure()\n",
    "ax = fig.add_subplot(111)\n",
    "#ax = fig.add_axes([0,0,1,1])\n",
    "\n",
    "pl.ion()\n",
    "fig.show()\n",
    "fig.canvas.draw()\n",
    "\n",
    "while not moes.stop():\n",
    "    #making a step on the COMO algorithm\n",
    "    moes.optimize(fitness, iterations = 1)\n",
    "\n",
    "    ax.clear()\n",
    "\n",
    "    tab = [kernel.objective_values for kernel in moes.kernels if kernel.objective_values is not None]\n",
    "    f0 = [vec[0] for vec in tab]\n",
    "    f1 = [vec[1] for vec in tab]\n",
    "\n",
    "    ax.plot(f0,f1,'ro')\n",
    "    ax.plot([moes.reference_point[0]], [moes.reference_point[1]], 'b*')\n",
    "    \n",
    "    fig.canvas.draw()\n",
    "    \n",
    "   # myaxes = plt.gca()\n",
    "   # myaxes.set_aspect('equal')\n",
    "   # pl.savefig('./convfig/convergence{}.png'.format(iteration))"
   ]
  },
  {
   "cell_type": "code",
   "execution_count": null,
   "metadata": {},
   "outputs": [],
   "source": [
    "dir(moes)"
   ]
  },
  {
   "cell_type": "code",
   "execution_count": null,
   "metadata": {},
   "outputs": [],
   "source": [
    "mylist = moes.NDA([[1, 2], [4, 5], [3, 8]], reference_point=[1.1, 1.1])"
   ]
  },
  {
   "cell_type": "code",
   "execution_count": null,
   "metadata": {},
   "outputs": [],
   "source": [
    "mylist2 = moes.NDA([np.array([1, 2]), [4, 5], [3, 8]], reference_point=[1.1, 1.1])"
   ]
  },
  {
   "cell_type": "code",
   "execution_count": null,
   "metadata": {},
   "outputs": [],
   "source": [
    "hash(moes)"
   ]
  },
  {
   "cell_type": "code",
   "execution_count": null,
   "metadata": {},
   "outputs": [],
   "source": [
    "plt.figure()\n",
    "moes.logger.plot_front()"
   ]
  },
  {
   "cell_type": "code",
   "execution_count": null,
   "metadata": {},
   "outputs": [],
   "source": [
    "type(moes.kernels[0])"
   ]
  },
  {
   "cell_type": "code",
   "execution_count": null,
   "metadata": {},
   "outputs": [],
   "source": [
    "type(moes[0])"
   ]
  },
  {
   "cell_type": "code",
   "execution_count": null,
   "metadata": {},
   "outputs": [],
   "source": [
    "plt.figure()\n",
    "moes.logger.plot_divers()"
   ]
  },
  {
   "cell_type": "code",
   "execution_count": null,
   "metadata": {},
   "outputs": [],
   "source": [
    "moes.archive[0], moes.archive[-1]"
   ]
  },
  {
   "cell_type": "code",
   "execution_count": null,
   "metadata": {},
   "outputs": [],
   "source": [
    "solutions = [kernel.incumbent for kernel in moes.kernels]"
   ]
  },
  {
   "cell_type": "code",
   "execution_count": null,
   "metadata": {},
   "outputs": [],
   "source": [
    "moes.pareto_set"
   ]
  },
  {
   "cell_type": "code",
   "execution_count": null,
   "metadata": {},
   "outputs": [],
   "source": []
  },
  {
   "cell_type": "code",
   "execution_count": null,
   "metadata": {},
   "outputs": [],
   "source": [
    "import cma\n",
    "#es = cma.CMAEvolutionStrategy(10 * [0], 0.2, {\"timeout\":10**-2})\n",
    "es = cma.CMAEvolutionStrategy(10 * [0], 0.2)"
   ]
  },
  {
   "cell_type": "code",
   "execution_count": null,
   "metadata": {},
   "outputs": [],
   "source": [
    "es.optimize(cma.ff.sphere)"
   ]
  },
  {
   "cell_type": "code",
   "execution_count": null,
   "metadata": {},
   "outputs": [],
   "source": [
    "es.stop()"
   ]
  },
  {
   "cell_type": "code",
   "execution_count": null,
   "metadata": {},
   "outputs": [],
   "source": []
  },
  {
   "cell_type": "code",
   "execution_count": null,
   "metadata": {},
   "outputs": [],
   "source": [
    "es.stop()"
   ]
  },
  {
   "cell_type": "code",
   "execution_count": null,
   "metadata": {},
   "outputs": [],
   "source": [
    "while not es.stop():\n",
    "    solutions = es.ask()\n",
    "    values = [cma.ff.sphere(x) for x in solutions]\n",
    "    es.tell(solutions, values)"
   ]
  },
  {
   "cell_type": "code",
   "execution_count": null,
   "metadata": {},
   "outputs": [],
   "source": [
    "es.stop()"
   ]
  },
  {
   "cell_type": "code",
   "execution_count": null,
   "metadata": {},
   "outputs": [],
   "source": [
    "es.timer.elapsed"
   ]
  },
  {
   "cell_type": "code",
   "execution_count": null,
   "metadata": {},
   "outputs": [],
   "source": [
    "moes.kernels[0].timer.elapsed"
   ]
  },
  {
   "cell_type": "code",
   "execution_count": null,
   "metadata": {},
   "outputs": [],
   "source": [
    "dir(moes)"
   ]
  },
  {
   "cell_type": "code",
   "execution_count": null,
   "metadata": {},
   "outputs": [],
   "source": []
  }
 ],
 "metadata": {
  "kernelspec": {
   "display_name": "Python 3",
   "language": "python",
   "name": "python3"
  },
  "language_info": {
   "codemirror_mode": {
    "name": "ipython",
    "version": 3
   },
   "file_extension": ".py",
   "mimetype": "text/x-python",
   "name": "python",
   "nbconvert_exporter": "python",
   "pygments_lexer": "ipython3",
   "version": "3.7.5"
  }
 },
 "nbformat": 4,
 "nbformat_minor": 2
}
