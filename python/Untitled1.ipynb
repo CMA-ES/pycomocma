{
 "cells": [
  {
   "cell_type": "code",
   "execution_count": 2,
   "metadata": {},
   "outputs": [],
   "source": [
    "import cma\n",
    "import numpy as np"
   ]
  },
  {
   "cell_type": "code",
   "execution_count": 4,
   "metadata": {},
   "outputs": [
    {
     "name": "stdout",
     "output_type": "stream",
     "text": [
      "(5_w,10)-aCMA-ES (mu_w=3.2,w_1=45%) in dimension 10 (seed=850647, Wed Aug 14 03:09:38 2019)\n",
      "Iterat #Fevals   function value  axis ratio  sigma  min&max std  t[m:s]\n",
      "    1     10 1.384419425913335e+02 1.0e+00 4.93e-01  5e-01  5e-01 0:00.0\n",
      "    2     20 1.160140759649207e+02 1.2e+00 5.59e-01  5e-01  6e-01 0:00.0\n",
      "    3     30 1.039068343434191e+02 1.3e+00 6.69e-01  6e-01  7e-01 0:00.0\n",
      "  100   1000 1.000026852346362e+01 2.0e+00 5.20e-03  2e-03  3e-03 0:00.2\n",
      "  200   2000 1.000000000006791e+01 1.8e+00 6.48e-06  1e-06  1e-06 0:00.3\n",
      "  254   2540 1.000000000000002e+01 2.0e+00 2.01e-07  2e-08  3e-08 0:00.4\n"
     ]
    }
   ],
   "source": [
    "es = cma.CMAEvolutionStrategy(10 * [4], 0.5, {'bounds': [1, np.inf]})  #doctest: +ELLIPSIS\n",
    "while not es.stop():\n",
    "    X = es.ask()\n",
    "    es.tell(X, [cma.ff.sphere(x) for x in X])\n",
    "    es.logger.add()\n",
    "    es.disp()  #doctest: +ELLIPSIS"
   ]
  },
  {
   "cell_type": "code",
   "execution_count": 5,
   "metadata": {},
   "outputs": [
    {
     "data": {
      "text/plain": [
       "array([0.9       , 0.90000001, 0.90000002, 0.90000001, 0.9       ,\n",
       "       0.9       , 0.9       , 0.89999999, 0.90000001, 0.89999999])"
      ]
     },
     "execution_count": 5,
     "metadata": {},
     "output_type": "execute_result"
    }
   ],
   "source": [
    "es.mean"
   ]
  },
  {
   "cell_type": "code",
   "execution_count": null,
   "metadata": {},
   "outputs": [],
   "source": []
  }
 ],
 "metadata": {
  "kernelspec": {
   "display_name": "Python 3",
   "language": "python",
   "name": "python3"
  },
  "language_info": {
   "codemirror_mode": {
    "name": "ipython",
    "version": 3
   },
   "file_extension": ".py",
   "mimetype": "text/x-python",
   "name": "python",
   "nbconvert_exporter": "python",
   "pygments_lexer": "ipython3",
   "version": "3.7.3"
  }
 },
 "nbformat": 4,
 "nbformat_minor": 2
}
