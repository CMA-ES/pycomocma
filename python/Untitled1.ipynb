{
 "cells": [
  {
   "cell_type": "code",
   "execution_count": 1,
   "metadata": {},
   "outputs": [],
   "source": [
    "import cma"
   ]
  },
  {
   "cell_type": "code",
   "execution_count": 2,
   "metadata": {},
   "outputs": [
    {
     "name": "stdout",
     "output_type": "stream",
     "text": [
      "(5_w,10)-aCMA-ES (mu_w=3.2,w_1=45%) in dimension 10 (seed=355523, Fri Sep 13 02:23:44 2019)\n"
     ]
    }
   ],
   "source": [
    "es = cma.CMAEvolutionStrategy(10 * [0], 0.2)"
   ]
  },
  {
   "cell_type": "code",
   "execution_count": 3,
   "metadata": {},
   "outputs": [
    {
     "name": "stdout",
     "output_type": "stream",
     "text": [
      "Iterat #Fevals   function value  axis ratio  sigma  min&max std  t[m:s]\n",
      "    1     10 1.365885599446372e-01 1.0e+00 1.71e-01  2e-01  2e-01 0:00.0\n",
      "    2     20 2.063583717375954e-01 1.1e+00 1.58e-01  2e-01  2e-01 0:00.0\n",
      "    3     30 9.696074015540575e-02 1.2e+00 1.41e-01  1e-01  1e-01 0:00.0\n",
      "  100   1000 2.135127278563718e-08 2.1e+00 1.31e-04  5e-05  6e-05 0:00.1\n",
      "  185   1850 2.358511955599360e-14 1.9e+00 2.82e-07  4e-08  5e-08 0:00.2\n"
     ]
    },
    {
     "data": {
      "text/plain": [
       "<cma.evolution_strategy.CMAEvolutionStrategy at 0x11a3ed9e8>"
      ]
     },
     "execution_count": 3,
     "metadata": {},
     "output_type": "execute_result"
    }
   ],
   "source": [
    "es.optimize(cma.ff.sphere)"
   ]
  },
  {
   "cell_type": "code",
   "execution_count": 4,
   "metadata": {},
   "outputs": [
    {
     "data": {
      "text/plain": [
       "{'tolfun': 1e-11}"
      ]
     },
     "execution_count": 4,
     "metadata": {},
     "output_type": "execute_result"
    }
   ],
   "source": [
    "es.stop()"
   ]
  },
  {
   "cell_type": "code",
   "execution_count": 5,
   "metadata": {},
   "outputs": [
    {
     "name": "stdout",
     "output_type": "stream",
     "text": [
      "(5_w,10)-aCMA-ES (mu_w=3.2,w_1=45%) in dimension 10 (seed=400510, Fri Sep 13 02:23:47 2019)\n"
     ]
    }
   ],
   "source": [
    "new_es = es._copy_light()"
   ]
  },
  {
   "cell_type": "code",
   "execution_count": 6,
   "metadata": {},
   "outputs": [
    {
     "name": "stdout",
     "output_type": "stream",
     "text": [
      "Iterat #Fevals   function value  axis ratio  sigma  min&max std  t[m:s]\n",
      "    1     10 9.999999261970530e+00 1.9e+00 2.61e-07  4e-08  5e-08 0:00.0\n",
      "    2     20 9.999998954356224e+00 1.9e+00 2.72e-07  4e-08  5e-08 0:00.0\n",
      "    3     30 9.999998438698343e+00 1.9e+00 2.98e-07  5e-08  6e-08 0:00.0\n",
      "   50    500 9.987774003784816e+00 4.9e+00 1.12e-03  2e-04  3e-04 0:00.0\n"
     ]
    },
    {
     "data": {
      "text/plain": [
       "<cma.evolution_strategy.CMAEvolutionStrategy at 0x11a6af160>"
      ]
     },
     "execution_count": 6,
     "metadata": {},
     "output_type": "execute_result"
    }
   ],
   "source": [
    "new_es.optimize(lambda x: cma.ff.sphere(x-1))"
   ]
  },
  {
   "cell_type": "code",
   "execution_count": 7,
   "metadata": {},
   "outputs": [
    {
     "data": {
      "text/plain": [
       "{'tolfacupx': 1000.0}"
      ]
     },
     "execution_count": 7,
     "metadata": {},
     "output_type": "execute_result"
    }
   ],
   "source": [
    "new_es.stop()"
   ]
  },
  {
   "cell_type": "code",
   "execution_count": null,
   "metadata": {},
   "outputs": [],
   "source": []
  }
 ],
 "metadata": {
  "kernelspec": {
   "display_name": "Python 3",
   "language": "python",
   "name": "python3"
  },
  "language_info": {
   "codemirror_mode": {
    "name": "ipython",
    "version": 3
   },
   "file_extension": ".py",
   "mimetype": "text/x-python",
   "name": "python",
   "nbconvert_exporter": "python",
   "pygments_lexer": "ipython3",
   "version": "3.7.3"
  }
 },
 "nbformat": 4,
 "nbformat_minor": 2
}
