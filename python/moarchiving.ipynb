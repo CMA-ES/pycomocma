{
 "cells": [
  {
   "cell_type": "markdown",
   "metadata": {},
   "source": [
    "## Testing and timing of `moarchiving.BiobjectiveNondominatedSortedList`"
   ]
  },
  {
   "cell_type": "code",
   "execution_count": 1,
   "metadata": {},
   "outputs": [
    {
     "data": {
      "text/plain": [
       "TestResults(failed=0, attempted=24)"
      ]
     },
     "execution_count": 1,
     "metadata": {},
     "output_type": "execute_result"
    }
   ],
   "source": [
    "import doctest\n",
    "import moarchiving\n",
    "# reload(moarchiving)\n",
    "NA = moarchiving.BiobjectiveNondominatedSortedList\n",
    "doctest.testmod(moarchiving)"
   ]
  },
  {
   "cell_type": "code",
   "execution_count": 2,
   "metadata": {},
   "outputs": [
    {
     "data": {
      "text/plain": [
       "[[-1.146, -0.11], [-0.749, -1.188]]"
      ]
     },
     "execution_count": 2,
     "metadata": {},
     "output_type": "execute_result"
    }
   ],
   "source": [
    "a = moarchiving.BiobjectiveNondominatedSortedList(\n",
    "    [[-0.749, -1.188], [-0.557, 1.1076],\n",
    "     [0.2454, 0.4724], [-1.146, -0.110]])\n",
    "a._asserts()\n",
    "a"
   ]
  },
  {
   "cell_type": "code",
   "execution_count": 3,
   "metadata": {},
   "outputs": [
    {
     "data": {
      "text/plain": [
       "True"
      ]
     },
     "execution_count": 3,
     "metadata": {},
     "output_type": "execute_result"
    }
   ],
   "source": [
    "a.dominators([1, 3]) == a"
   ]
  },
  {
   "cell_type": "code",
   "execution_count": 4,
   "metadata": {},
   "outputs": [
    {
     "data": {
      "text/plain": [
       "1"
      ]
     },
     "execution_count": 4,
     "metadata": {},
     "output_type": "execute_result"
    }
   ],
   "source": [
    "a.add([-1, -3])  # return index where the element was added"
   ]
  },
  {
   "cell_type": "code",
   "execution_count": 5,
   "metadata": {},
   "outputs": [
    {
     "data": {
      "text/plain": [
       "[[-1.146, -0.11], [-1, -3]]"
      ]
     },
     "execution_count": 5,
     "metadata": {},
     "output_type": "execute_result"
    }
   ],
   "source": [
    "a"
   ]
  },
  {
   "cell_type": "code",
   "execution_count": 6,
   "metadata": {},
   "outputs": [
    {
     "data": {
      "text/plain": [
       "0"
      ]
     },
     "execution_count": 6,
     "metadata": {},
     "output_type": "execute_result"
    }
   ],
   "source": [
    "a.add([-1.5, 44])"
   ]
  },
  {
   "cell_type": "code",
   "execution_count": 7,
   "metadata": {},
   "outputs": [
    {
     "data": {
      "text/plain": [
       "[[-1.5, 44], [-1.146, -0.11], [-1, -3]]"
      ]
     },
     "execution_count": 7,
     "metadata": {},
     "output_type": "execute_result"
    }
   ],
   "source": [
    "a"
   ]
  },
  {
   "cell_type": "code",
   "execution_count": 8,
   "metadata": {},
   "outputs": [
    {
     "data": {
      "text/plain": [
       "True"
      ]
     },
     "execution_count": 8,
     "metadata": {},
     "output_type": "execute_result"
    }
   ],
   "source": [
    "a.dominates(a[0])"
   ]
  },
  {
   "cell_type": "code",
   "execution_count": 9,
   "metadata": {},
   "outputs": [
    {
     "data": {
      "text/plain": [
       "False"
      ]
     },
     "execution_count": 9,
     "metadata": {},
     "output_type": "execute_result"
    }
   ],
   "source": [
    "a.dominates([-1.2, 1])"
   ]
  },
  {
   "cell_type": "code",
   "execution_count": 10,
   "metadata": {
    "collapsed": true
   },
   "outputs": [],
   "source": [
    "a._asserts()"
   ]
  },
  {
   "cell_type": "code",
   "execution_count": 11,
   "metadata": {
    "collapsed": true
   },
   "outputs": [],
   "source": [
    "import numpy as np\n",
    "def nondom_arch(n):\n",
    "    return np.abs(np.linspace(-1, 1, 2 * n).reshape(2, n).T).tolist()\n",
    "# nondom_arch(3)"
   ]
  },
  {
   "cell_type": "markdown",
   "metadata": {},
   "source": [
    "## Timing of initialization"
   ]
  },
  {
   "cell_type": "code",
   "execution_count": 12,
   "metadata": {},
   "outputs": [
    {
     "name": "stdout",
     "output_type": "stream",
     "text": [
      "1000 loops, best of 3: 573 µs per loop\n",
      "100 loops, best of 3: 6.11 ms per loop\n",
      "10 loops, best of 3: 77 ms per loop\n"
     ]
    }
   ],
   "source": [
    "%timeit NA(nondom_arch(1_000))\n",
    "%timeit NA(nondom_arch(10_000))\n",
    "%timeit NA(nondom_arch(100_000))"
   ]
  },
  {
   "cell_type": "code",
   "execution_count": 13,
   "metadata": {},
   "outputs": [
    {
     "data": {
      "text/plain": [
       "(100000, 10)"
      ]
     },
     "execution_count": 13,
     "metadata": {},
     "output_type": "execute_result"
    }
   ],
   "source": [
    "randars = {}\n",
    "for n in [1_000, 10_000, 100_000]:\n",
    "    randars[n] = np.random.rand(n, 2).tolist()\n",
    "len(NA(nondom_arch(100_000))), len(NA(randars[100_000]))"
   ]
  },
  {
   "cell_type": "code",
   "execution_count": 14,
   "metadata": {},
   "outputs": [
    {
     "name": "stdout",
     "output_type": "stream",
     "text": [
      "1000 loops, best of 3: 928 µs per loop\n",
      "100 loops, best of 3: 16.5 ms per loop\n",
      "1 loop, best of 3: 1.16 s per loop\n"
     ]
    }
   ],
   "source": [
    "%timeit NA(randars[1_000])\n",
    "%timeit NA(randars[10_000])\n",
    "%timeit NA(randars[100_000])"
   ]
  },
  {
   "cell_type": "code",
   "execution_count": 15,
   "metadata": {},
   "outputs": [
    {
     "name": "stdout",
     "output_type": "stream",
     "text": [
      "10000 loops, best of 3: 128 µs per loop\n",
      "1000 loops, best of 3: 1.21 ms per loop\n",
      "10 loops, best of 3: 21.9 ms per loop\n"
     ]
    }
   ],
   "source": [
    "%timeit sorted(nondom_arch(1_000))\n",
    "%timeit sorted(nondom_arch(10_000))\n",
    "%timeit sorted(nondom_arch(100_000))"
   ]
  },
  {
   "cell_type": "code",
   "execution_count": 16,
   "metadata": {},
   "outputs": [
    {
     "name": "stdout",
     "output_type": "stream",
     "text": [
      "1000 loops, best of 3: 303 µs per loop\n",
      "100 loops, best of 3: 4.63 ms per loop\n",
      "10 loops, best of 3: 109 ms per loop\n"
     ]
    }
   ],
   "source": [
    "%timeit sorted(randars[1_000])\n",
    "%timeit sorted(randars[10_000])\n",
    "%timeit sorted(randars[100_000])"
   ]
  },
  {
   "cell_type": "code",
   "execution_count": 17,
   "metadata": {},
   "outputs": [
    {
     "name": "stdout",
     "output_type": "stream",
     "text": [
      "The slowest run took 5.61 times longer than the fastest. This could mean that an intermediate result is being cached.\n",
      "100000 loops, best of 3: 2.39 µs per loop\n",
      "10000 loops, best of 3: 33.6 µs per loop\n",
      "1000 loops, best of 3: 600 µs per loop\n"
     ]
    }
   ],
   "source": [
    "%timeit list(randars[1_000])\n",
    "%timeit list(randars[10_000])\n",
    "%timeit list(randars[100_000])"
   ]
  },
  {
   "cell_type": "markdown",
   "metadata": {},
   "source": [
    "### Summary with 1e5 data\n",
    "```\n",
    "  <1 ms `list` \n",
    "  20 ms `sorted` on sorted list\n",
    " 130 ms `sorted` on unsorted list\n",
    "  65 ms archive on sorted nondominated list\n",
    "1100 ms archive on list which needs pruning\n",
    "```"
   ]
  },
  {
   "cell_type": "markdown",
   "metadata": {},
   "source": [
    "## Timing of `add`"
   ]
  },
  {
   "cell_type": "code",
   "execution_count": 18,
   "metadata": {},
   "outputs": [
    {
     "name": "stdout",
     "output_type": "stream",
     "text": [
      "100 loops, best of 3: 5.52 ms per loop\n"
     ]
    }
   ],
   "source": [
    "%%timeit a = NA(nondom_arch(1_000))\n",
    "for i in range(1000):\n",
    "    a.add([ai - 1e-4 for ai in a[np.random.randint(len(a))]])\n",
    "len(a)"
   ]
  },
  {
   "cell_type": "code",
   "execution_count": 19,
   "metadata": {},
   "outputs": [
    {
     "name": "stdout",
     "output_type": "stream",
     "text": [
      "100 loops, best of 3: 6.31 ms per loop\n"
     ]
    }
   ],
   "source": [
    "%%timeit a = NA(nondom_arch(10_000))\n",
    "for i in range(1000):\n",
    "    a.add([ai - 1e-4 for ai in a[np.random.randint(len(a))]])\n",
    "len(a)"
   ]
  },
  {
   "cell_type": "code",
   "execution_count": 20,
   "metadata": {},
   "outputs": [
    {
     "name": "stdout",
     "output_type": "stream",
     "text": [
      "1 loop, best of 3: 181 ms per loop\n"
     ]
    }
   ],
   "source": [
    "%%timeit a = NA(nondom_arch(100_000))\n",
    "for i in range(1000):\n",
    "    a.add([ai - 1e-4 for ai in a[np.random.randint(len(a))]])\n",
    "len(a)  # deletions kick in and make it slower"
   ]
  },
  {
   "cell_type": "code",
   "execution_count": 21,
   "metadata": {},
   "outputs": [
    {
     "name": "stdout",
     "output_type": "stream",
     "text": [
      "100 loops, best of 3: 8.59 ms per loop\n"
     ]
    }
   ],
   "source": [
    "%%timeit a = NA(nondom_arch(100_000))\n",
    "for i in range(1000):\n",
    "    a.add([ai - 1e-8 for ai in a[np.random.randint(len(a))]])\n",
    "len(a) # no deletion have taken place"
   ]
  }
 ],
 "metadata": {
  "kernelspec": {
   "display_name": "Python 3",
   "language": "python",
   "name": "python3"
  },
  "language_info": {
   "codemirror_mode": {
    "name": "ipython",
    "version": 3
   },
   "file_extension": ".py",
   "mimetype": "text/x-python",
   "name": "python",
   "nbconvert_exporter": "python",
   "pygments_lexer": "ipython3",
   "version": "3.6.1"
  }
 },
 "nbformat": 4,
 "nbformat_minor": 2
}
