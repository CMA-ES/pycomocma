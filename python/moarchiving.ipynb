{
 "cells": [
  {
   "cell_type": "markdown",
   "metadata": {},
   "source": [
    "## Testing and timing of `moarchiving.BiobjectiveNondominatedSortedList`"
   ]
  },
  {
   "cell_type": "code",
   "execution_count": 1,
   "metadata": {},
   "outputs": [
    {
     "data": {
      "text/plain": [
       "TestResults(failed=0, attempted=44)"
      ]
     },
     "execution_count": 1,
     "metadata": {},
     "output_type": "execute_result"
    }
   ],
   "source": [
    "import doctest\n",
    "import moarchiving\n",
    "# reload(moarchiving)\n",
    "NA = moarchiving.BiobjectiveNondominatedSortedList\n",
    "doctest.testmod(moarchiving)\n",
    "# NA.make_expensive_asserts = True"
   ]
  },
  {
   "cell_type": "code",
   "execution_count": 2,
   "metadata": {},
   "outputs": [
    {
     "data": {
      "text/plain": [
       "[[-1.146, -0.11], [-0.749, -1.188]]"
      ]
     },
     "execution_count": 2,
     "metadata": {},
     "output_type": "execute_result"
    }
   ],
   "source": [
    "a = moarchiving.BiobjectiveNondominatedSortedList(\n",
    "    [[-0.749, -1.188], [-0.557, 1.1076],\n",
    "     [0.2454, 0.4724], [-1.146, -0.110]], [10, 10])\n",
    "a._asserts()\n",
    "a"
   ]
  },
  {
   "cell_type": "code",
   "execution_count": 3,
   "metadata": {},
   "outputs": [
    {
     "data": {
      "text/plain": [
       "True"
      ]
     },
     "execution_count": 3,
     "metadata": {},
     "output_type": "execute_result"
    }
   ],
   "source": [
    "a.dominators([1, 3]) == a"
   ]
  },
  {
   "cell_type": "code",
   "execution_count": 4,
   "metadata": {},
   "outputs": [
    {
     "data": {
      "text/plain": [
       "1"
      ]
     },
     "execution_count": 4,
     "metadata": {},
     "output_type": "execute_result"
    }
   ],
   "source": [
    "a.add([-1, -3])  # return index where the element was added"
   ]
  },
  {
   "cell_type": "code",
   "execution_count": 5,
   "metadata": {},
   "outputs": [
    {
     "data": {
      "text/plain": [
       "[[-1.146, -0.11], [-1, -3]]"
      ]
     },
     "execution_count": 5,
     "metadata": {},
     "output_type": "execute_result"
    }
   ],
   "source": [
    "a"
   ]
  },
  {
   "cell_type": "code",
   "execution_count": 6,
   "metadata": {
    "collapsed": true
   },
   "outputs": [],
   "source": [
    "a.add([-1.5, 44])"
   ]
  },
  {
   "cell_type": "code",
   "execution_count": 7,
   "metadata": {},
   "outputs": [
    {
     "data": {
      "text/plain": [
       "[[-1.146, -0.11], [-1, -3]]"
      ]
     },
     "execution_count": 7,
     "metadata": {},
     "output_type": "execute_result"
    }
   ],
   "source": [
    "a"
   ]
  },
  {
   "cell_type": "code",
   "execution_count": 8,
   "metadata": {},
   "outputs": [
    {
     "data": {
      "text/plain": [
       "True"
      ]
     },
     "execution_count": 8,
     "metadata": {},
     "output_type": "execute_result"
    }
   ],
   "source": [
    "a.dominates(a[0])"
   ]
  },
  {
   "cell_type": "code",
   "execution_count": 9,
   "metadata": {},
   "outputs": [
    {
     "data": {
      "text/plain": [
       "False"
      ]
     },
     "execution_count": 9,
     "metadata": {},
     "output_type": "execute_result"
    }
   ],
   "source": [
    "a.dominates([-1.2, 1])"
   ]
  },
  {
   "cell_type": "code",
   "execution_count": 10,
   "metadata": {
    "collapsed": true
   },
   "outputs": [],
   "source": [
    "a._asserts()"
   ]
  },
  {
   "cell_type": "code",
   "execution_count": 11,
   "metadata": {},
   "outputs": [
    {
     "name": "stdout",
     "output_type": "stream",
     "text": [
      "1\n",
      "1\n",
      "0\n"
     ]
    }
   ],
   "source": [
    "b = NA(a)\n",
    "print(b.merge([[-1.2, 1]]))\n",
    "print(a.add_list([[-1.2, 1]]))\n",
    "assert b == a\n",
    "print(a.merge(b))"
   ]
  },
  {
   "cell_type": "code",
   "execution_count": 12,
   "metadata": {
    "collapsed": true
   },
   "outputs": [],
   "source": [
    "r = np.random.randn(100_000, 2).tolist()\n",
    "r2 = sorted(np.random.randn(200, 2).tolist())\n",
    "assert NA(r).add_list(r2) == NA(r).merge(r2)"
   ]
  },
  {
   "cell_type": "code",
   "execution_count": 13,
   "metadata": {},
   "outputs": [
    {
     "name": "stdout",
     "output_type": "stream",
     "text": [
      "1000 loops, best of 3: 416 µs per loop\n"
     ]
    }
   ],
   "source": [
    "%%timeit a = NA(r)\n",
    "a.add_list(r2)"
   ]
  },
  {
   "cell_type": "code",
   "execution_count": 14,
   "metadata": {},
   "outputs": [
    {
     "name": "stdout",
     "output_type": "stream",
     "text": [
      "1000 loops, best of 3: 285 µs per loop\n"
     ]
    }
   ],
   "source": [
    "%%timeit a = NA(r)\n",
    "a.merge(r2)"
   ]
  },
  {
   "cell_type": "code",
   "execution_count": 15,
   "metadata": {
    "collapsed": true
   },
   "outputs": [],
   "source": [
    "import numpy as np\n",
    "def nondom_arch(n):\n",
    "    return np.abs(np.linspace(-1, 1, 2 * n).reshape(2, n).T).tolist()\n",
    "# nondom_arch(3)"
   ]
  },
  {
   "cell_type": "markdown",
   "metadata": {},
   "source": [
    "## Timing of initialization"
   ]
  },
  {
   "cell_type": "code",
   "execution_count": 16,
   "metadata": {},
   "outputs": [
    {
     "name": "stdout",
     "output_type": "stream",
     "text": [
      "The slowest run took 4.15 times longer than the fastest. This could mean that an intermediate result is being cached.\n",
      "10000 loops, best of 3: 96.3 µs per loop\n",
      "1000 loops, best of 3: 843 µs per loop\n",
      "100 loops, best of 3: 16.6 ms per loop\n"
     ]
    }
   ],
   "source": [
    "%timeit nondom_arch(1_000)\n",
    "%timeit nondom_arch(10_000)\n",
    "%timeit nondom_arch(100_000)  # just checking baseline"
   ]
  },
  {
   "cell_type": "code",
   "execution_count": 17,
   "metadata": {},
   "outputs": [
    {
     "name": "stdout",
     "output_type": "stream",
     "text": [
      "1000 loops, best of 3: 1.03 ms per loop\n",
      "100 loops, best of 3: 11.7 ms per loop\n",
      "10 loops, best of 3: 117 ms per loop\n"
     ]
    }
   ],
   "source": [
    "%timeit NA(nondom_arch(1_000))\n",
    "%timeit NA(nondom_arch(10_000))\n",
    "%timeit NA(nondom_arch(100_000))  # nondom_arch itself takes about 25%"
   ]
  },
  {
   "cell_type": "code",
   "execution_count": 18,
   "metadata": {},
   "outputs": [
    {
     "data": {
      "text/plain": [
       "(100000, 9)"
      ]
     },
     "execution_count": 18,
     "metadata": {},
     "output_type": "execute_result"
    }
   ],
   "source": [
    "randars = {}  # prepare input lists\n",
    "for n in [1_000, 10_000, 100_000]:\n",
    "    randars[n] = np.random.rand(n, 2).tolist()\n",
    "len(NA(nondom_arch(100_000))), len(NA(randars[100_000]))"
   ]
  },
  {
   "cell_type": "code",
   "execution_count": 19,
   "metadata": {},
   "outputs": [
    {
     "name": "stdout",
     "output_type": "stream",
     "text": [
      "1000 loops, best of 3: 751 µs per loop\n",
      "100 loops, best of 3: 8.86 ms per loop\n",
      "10 loops, best of 3: 167 ms per loop\n"
     ]
    }
   ],
   "source": [
    "%timeit NA(randars[1_000])\n",
    "%timeit NA(randars[10_000])\n",
    "%timeit NA(randars[100_000])"
   ]
  },
  {
   "cell_type": "code",
   "execution_count": 20,
   "metadata": {},
   "outputs": [
    {
     "name": "stdout",
     "output_type": "stream",
     "text": [
      "10000 loops, best of 3: 132 µs per loop\n",
      "1000 loops, best of 3: 1.38 ms per loop\n",
      "10 loops, best of 3: 19.6 ms per loop\n"
     ]
    }
   ],
   "source": [
    "%timeit sorted(nondom_arch(1_000))\n",
    "%timeit sorted(nondom_arch(10_000))\n",
    "%timeit sorted(nondom_arch(100_000))"
   ]
  },
  {
   "cell_type": "code",
   "execution_count": 21,
   "metadata": {},
   "outputs": [
    {
     "name": "stdout",
     "output_type": "stream",
     "text": [
      "1000 loops, best of 3: 309 µs per loop\n",
      "100 loops, best of 3: 4.67 ms per loop\n",
      "10 loops, best of 3: 115 ms per loop\n"
     ]
    }
   ],
   "source": [
    "%timeit sorted(randars[1_000])\n",
    "%timeit sorted(randars[10_000])\n",
    "%timeit sorted(randars[100_000])"
   ]
  },
  {
   "cell_type": "code",
   "execution_count": 22,
   "metadata": {},
   "outputs": [
    {
     "name": "stdout",
     "output_type": "stream",
     "text": [
      "The slowest run took 5.21 times longer than the fastest. This could mean that an intermediate result is being cached.\n",
      "100000 loops, best of 3: 2.32 µs per loop\n",
      "10000 loops, best of 3: 35.1 µs per loop\n",
      "1000 loops, best of 3: 773 µs per loop\n"
     ]
    }
   ],
   "source": [
    "%timeit list(randars[1_000])\n",
    "%timeit list(randars[10_000])\n",
    "%timeit list(randars[100_000])"
   ]
  },
  {
   "cell_type": "markdown",
   "metadata": {},
   "source": [
    "### Summary with 1e5 data\n",
    "```\n",
    "   1 ms `list` \n",
    "  22 ms `sorted` on sorted list\n",
    " 130 ms `sorted` on unsorted list\n",
    " 110 ms archive on sorted nondominated list\n",
    " 190 ms archive on list which needs pruning (was 1300ms)\n",
    "```"
   ]
  },
  {
   "cell_type": "markdown",
   "metadata": {},
   "source": [
    "## Timing of `add`"
   ]
  },
  {
   "cell_type": "code",
   "execution_count": 23,
   "metadata": {},
   "outputs": [
    {
     "name": "stdout",
     "output_type": "stream",
     "text": [
      "100 loops, best of 3: 7.11 ms per loop\n"
     ]
    }
   ],
   "source": [
    "%%timeit a = NA(nondom_arch(1_000))\n",
    "for i in range(1000):\n",
    "    a.add([ai - 1e-4 for ai in a[np.random.randint(len(a))]])\n",
    "len(a)"
   ]
  },
  {
   "cell_type": "code",
   "execution_count": 24,
   "metadata": {},
   "outputs": [
    {
     "name": "stdout",
     "output_type": "stream",
     "text": [
      "100 loops, best of 3: 7.31 ms per loop\n"
     ]
    }
   ],
   "source": [
    "%%timeit a = NA(nondom_arch(10_000))\n",
    "for i in range(1000):\n",
    "    a.add([ai - 1e-4 for ai in a[np.random.randint(len(a))]])\n",
    "len(a)"
   ]
  },
  {
   "cell_type": "code",
   "execution_count": 25,
   "metadata": {},
   "outputs": [
    {
     "name": "stdout",
     "output_type": "stream",
     "text": [
      "10 loops, best of 3: 20.4 ms per loop\n"
     ]
    }
   ],
   "source": [
    "%%timeit a = NA(nondom_arch(100_000))\n",
    "for i in range(1000):\n",
    "    a.add([ai - 1e-4 for ai in a[np.random.randint(len(a))]])\n",
    "len(a)  # deletion kicks in and makes it 20 times slower if implemented with pop"
   ]
  },
  {
   "cell_type": "code",
   "execution_count": 26,
   "metadata": {},
   "outputs": [
    {
     "name": "stdout",
     "output_type": "stream",
     "text": [
      "100 loops, best of 3: 11.4 ms per loop\n"
     ]
    }
   ],
   "source": [
    "%%timeit a = NA(nondom_arch(100_000))\n",
    "for i in range(1000):\n",
    "    a.add([ai - 1e-8 for ai in a[np.random.randint(len(a))]])\n",
    "len(a) # no deletion has taken place"
   ]
  },
  {
   "cell_type": "code",
   "execution_count": 27,
   "metadata": {},
   "outputs": [
    {
     "name": "stdout",
     "output_type": "stream",
     "text": [
      "1 loop, best of 3: 253 ms per loop\n"
     ]
    }
   ],
   "source": [
    "%%timeit a = NA(nondom_arch(1_000_000))\n",
    "for i in range(1000):\n",
    "    a.add([ai - 1e-4 for ai in a[np.random.randint(len(a))]])\n",
    "len(a)  # deletion kicks in"
   ]
  },
  {
   "cell_type": "code",
   "execution_count": 28,
   "metadata": {},
   "outputs": [
    {
     "name": "stdout",
     "output_type": "stream",
     "text": [
      "100 loops, best of 3: 13.4 ms per loop\n"
     ]
    }
   ],
   "source": [
    "%%timeit a = NA(nondom_arch(1_000_000))\n",
    "for i in range(1000):\n",
    "    a.add([ai - 1e-8 for ai in a[np.random.randint(len(a))]])\n",
    "len(a)"
   ]
  },
  {
   "cell_type": "markdown",
   "metadata": {},
   "source": [
    "## Timing of Hypervolume computation"
   ]
  },
  {
   "cell_type": "code",
   "execution_count": 29,
   "metadata": {},
   "outputs": [
    {
     "name": "stdout",
     "output_type": "stream",
     "text": [
      "100 loops, best of 3: 3.33 ms per loop\n"
     ]
    }
   ],
   "source": [
    "%timeit a = NA(nondom_arch(1_000), [5, 5])  # takes 4x longer than without hypervolume computation"
   ]
  },
  {
   "cell_type": "code",
   "execution_count": 30,
   "metadata": {},
   "outputs": [
    {
     "name": "stdout",
     "output_type": "stream",
     "text": [
      "10 loops, best of 3: 33.3 ms per loop\n"
     ]
    }
   ],
   "source": [
    "%timeit a = NA(nondom_arch(10_000), [5, 5])"
   ]
  },
  {
   "cell_type": "code",
   "execution_count": 31,
   "metadata": {},
   "outputs": [
    {
     "name": "stdout",
     "output_type": "stream",
     "text": [
      "1 loop, best of 3: 331 ms per loop\n"
     ]
    }
   ],
   "source": [
    "%timeit a = NA(nondom_arch(100_000), [5, 5])  # takes 3x longer than without hypervolume computation"
   ]
  },
  {
   "cell_type": "code",
   "execution_count": 32,
   "metadata": {},
   "outputs": [
    {
     "name": "stdout",
     "output_type": "stream",
     "text": [
      "The slowest run took 14.22 times longer than the fastest. This could mean that an intermediate result is being cached.\n",
      "1000000 loops, best of 3: 219 ns per loop\n"
     ]
    }
   ],
   "source": [
    "%%timeit a = NA(nondom_arch(1_000), [5, 5])\n",
    "a.hypervolume"
   ]
  },
  {
   "cell_type": "code",
   "execution_count": 33,
   "metadata": {},
   "outputs": [
    {
     "name": "stdout",
     "output_type": "stream",
     "text": [
      "The slowest run took 19.76 times longer than the fastest. This could mean that an intermediate result is being cached.\n",
      "1000000 loops, best of 3: 221 ns per loop\n"
     ]
    }
   ],
   "source": [
    "%%timeit a = NA(nondom_arch(10_000), [5, 5])\n",
    "a.hypervolume"
   ]
  },
  {
   "cell_type": "code",
   "execution_count": 34,
   "metadata": {},
   "outputs": [
    {
     "name": "stdout",
     "output_type": "stream",
     "text": [
      "The slowest run took 18.42 times longer than the fastest. This could mean that an intermediate result is being cached.\n",
      "1000000 loops, best of 3: 220 ns per loop\n"
     ]
    }
   ],
   "source": [
    "%%timeit a = NA(nondom_arch(100_000), [5, 5]) \n",
    "a.hypervolume"
   ]
  },
  {
   "cell_type": "code",
   "execution_count": null,
   "metadata": {
    "collapsed": true
   },
   "outputs": [],
   "source": []
  }
 ],
 "metadata": {
  "kernelspec": {
   "display_name": "Python 3",
   "language": "python",
   "name": "python3"
  },
  "language_info": {
   "codemirror_mode": {
    "name": "ipython",
    "version": 3
   },
   "file_extension": ".py",
   "mimetype": "text/x-python",
   "name": "python",
   "nbconvert_exporter": "python",
   "pygments_lexer": "ipython3",
   "version": "3.6.1"
  }
 },
 "nbformat": 4,
 "nbformat_minor": 2
}
