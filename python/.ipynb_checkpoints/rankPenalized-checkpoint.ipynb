{
 "cells": [
  {
   "cell_type": "code",
   "execution_count": 26,
   "metadata": {},
   "outputs": [
    {
     "name": "stdout",
     "output_type": "stream",
     "text": [
      "[1, 0, 2, 0, 0]\n"
     ]
    },
    {
     "data": {
      "text/plain": [
       "[10203.000001, 102, 10203.000001, 102, 10203]"
      ]
     },
     "execution_count": 26,
     "metadata": {},
     "output_type": "execute_result"
    }
   ],
   "source": [
    "from __future__ import division\n",
    "import numpy as np\n",
    "import cma.utilities.utils\n",
    "class RankPenalizedFitness:\n",
    "    def __init__(self, f, g_list):\n",
    "        self.f = f\n",
    "        self.g_list = g_list\n",
    "        self.base_prctile = 0.5  # means median f-value is the best an infeasible solution can get\n",
    "        self.g_scale = 1  # factor for g-ranks penalty\n",
    "    def __call__(self, X):\n",
    "        \"\"\"X is a list of solutions.\n",
    "        \n",
    "        Assumes that at least one solution does not return nan as f-value\n",
    "        \"\"\"\n",
    "        # TODO: what to do if there is no f-value for a feasible solution\n",
    "        f_values = [self.f(x) for x in X]\n",
    "        f_ranks = cma.utilities.utils.ranks(f_values)\n",
    "        g_ranks_list = []\n",
    "        is_feasible = np.ones(len(X))\n",
    "        for g in self.g_list:\n",
    "            g_values = [g(x) for x in X]\n",
    "            is_feasible *= np.asarray(g_values) <= 0\n",
    "            nb_feas = sum(g <= 0 for g in g_values)\n",
    "            g_ranks = cma.utilities.utils.ranks(g_values)\n",
    "            g_ranks = [g - nb_feas + 1 for g in g_ranks]\n",
    "            g_ranks = [g if g > 0 else 0 for g in g_ranks]\n",
    "            print(g_ranks)\n",
    "            g_ranks_list.append(g_ranks)\n",
    "        idx_feas = np.where(is_feasible)[0]\n",
    "        # f_median = np.median(np.asarray(f_values)[idx_feas]) if len(idx_feas) else max(f_values)\n",
    "        # change f-values of infeasible solutions\n",
    "        sorted_feas_f_values = sorted(np.asarray(f_values)[idx_feas])\n",
    "        for i in range(len(X)):\n",
    "            if i in idx_feas:\n",
    "                continue\n",
    "            # median and never better\n",
    "            j = self.base_prctile * (len(idx_feas) - 1)  # TODO: check this offset\n",
    "            j += self.g_scale * sum(g_ranks[i] for g_ranks in g_ranks_list)\n",
    "            # TODO: take average fitness between index j and j+1 and remove epsilon\n",
    "            f_values[i] = sorted_feas_f_values[min((len(idx_feas) - 1, int(j)))] + 1e-6\n",
    "        return f_values\n",
    "        \n",
    "f = RankPenalizedFitness(lambda x: cma.ff.sphere(np.asarray(x)), [lambda x: x[0] > 0 ]) \n",
    "f(2 * [[1,2,3], [-1, 1, 10]] + [[-1, 1, 101]])\n"
   ]
  },
  {
   "cell_type": "code",
   "execution_count": null,
   "metadata": {},
   "outputs": [],
   "source": []
  }
 ],
 "metadata": {
  "kernelspec": {
   "display_name": "Python 3",
   "language": "python",
   "name": "python3"
  },
  "language_info": {
   "codemirror_mode": {
    "name": "ipython",
    "version": 3
   },
   "file_extension": ".py",
   "mimetype": "text/x-python",
   "name": "python",
   "nbconvert_exporter": "python",
   "pygments_lexer": "ipython3",
   "version": "3.7.3"
  }
 },
 "nbformat": 4,
 "nbformat_minor": 2
}
