{
 "cells": [
  {
   "cell_type": "code",
   "execution_count": 10,
   "metadata": {},
   "outputs": [],
   "source": [
    "import cma, dill\n"
   ]
  },
  {
   "cell_type": "code",
   "execution_count": null,
   "metadata": {},
   "outputs": [],
   "source": []
  },
  {
   "cell_type": "code",
   "execution_count": 11,
   "metadata": {},
   "outputs": [
    {
     "name": "stdout",
     "output_type": "stream",
     "text": [
      "(5_w,11)-aCMA-ES (mu_w=3.4,w_1=42%) in dimension 12 (seed=596132, Thu Aug 22 11:44:09 2019)\n",
      "Iterat #Fevals   function value  axis ratio  sigma  min&max std  t[m:s]\n",
      "    1     11 1.503587515420888e+02 1.0e+00 4.55e-01  4e-01  5e-01 0:00.0\n",
      "    2     22 1.476806218326978e+02 1.1e+00 4.04e-01  4e-01  4e-01 0:00.0\n",
      "    3     33 1.168639227121430e+02 1.2e+00 3.53e-01  3e-01  4e-01 0:00.0\n",
      "  100   1100 8.042962690762916e+00 6.8e+00 2.75e-02  1e-02  4e-02 0:00.1\n",
      "saved\n"
     ]
    }
   ],
   "source": [
    "es = cma.CMAEvolutionStrategy(12 * [0.1], 0.5) \n",
    "es.optimize(cma.ff.rosen, iterations=100)\n",
    "dill.dump(es, open('saved-cma-object.pkl', 'wb'))\n",
    "print('saved')\n",
    "del es  # let's start fresh"
   ]
  },
  {
   "cell_type": "code",
   "execution_count": 12,
   "metadata": {},
   "outputs": [
    {
     "name": "stdout",
     "output_type": "stream",
     "text": [
      "resumed\n",
      "  200   2200 5.244934515194465e+00 1.0e+01 3.17e-02  1e-02  3e-02 0:00.2\n",
      "  400   4400 4.561792298720520e-01 1.6e+01 2.82e-02  3e-03  2e-02 0:00.4\n",
      "  600   6600 1.514286904547965e-08 6.0e+01 5.06e-05  2e-06  7e-05 0:00.6\n",
      "  694   7634 5.692158024555947e-14 6.3e+01 1.66e-07  4e-09  1e-07 0:00.7\n",
      "  694   7634 5.692158024555947e-14 6.3e+01 1.66e-07  4e-09  1e-07 0:00.7\n",
      "termination by {'tolfun': 1e-11}\n",
      "best f-value = 2.4496030103278e-14\n",
      "solution = [1.         1.         1.         1.         0.99999999 0.99999999\n",
      " 1.         1.         1.         0.99999999 0.99999998 0.99999996]\n"
     ]
    },
    {
     "data": {
      "text/plain": [
       "<cma.evolution_strategy.CMAEvolutionStrategy at 0x116bf5240>"
      ]
     },
     "execution_count": 12,
     "metadata": {},
     "output_type": "execute_result"
    }
   ],
   "source": [
    "es = dill.load(open('saved-cma-object.pkl', 'rb'))\n",
    "print('resumed')\n",
    "es.optimize(cma.ff.rosen, verb_disp=200)\n"
   ]
  },
  {
   "cell_type": "code",
   "execution_count": null,
   "metadata": {},
   "outputs": [],
   "source": []
  }
 ],
 "metadata": {
  "kernelspec": {
   "display_name": "Python 3",
   "language": "python",
   "name": "python3"
  },
  "language_info": {
   "codemirror_mode": {
    "name": "ipython",
    "version": 3
   },
   "file_extension": ".py",
   "mimetype": "text/x-python",
   "name": "python",
   "nbconvert_exporter": "python",
   "pygments_lexer": "ipython3",
   "version": "3.7.3"
  }
 },
 "nbformat": 4,
 "nbformat_minor": 2
}
