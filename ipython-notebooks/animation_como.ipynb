{
 "cells": [
  {
   "cell_type": "code",
   "execution_count": 1,
   "metadata": {},
   "outputs": [
    {
     "name": "stdout",
     "output_type": "stream",
     "text": [
      "Populating the interactive namespace from numpy and matplotlib\n",
      "Warning: Cannot change to a different GUI toolkit: notebook. Using nbagg instead.\n"
     ]
    }
   ],
   "source": [
    "%pylab nbagg\n",
    "%matplotlib notebook"
   ]
  },
  {
   "cell_type": "code",
   "execution_count": 2,
   "metadata": {},
   "outputs": [],
   "source": [
    "import sys"
   ]
  },
  {
   "cell_type": "code",
   "execution_count": 3,
   "metadata": {},
   "outputs": [],
   "source": [
    "sys.path.append(\"../comocma/\")"
   ]
  },
  {
   "cell_type": "code",
   "execution_count": 4,
   "metadata": {},
   "outputs": [],
   "source": [
    "import cma, como\n",
    "import numpy as np\n",
    "\n",
    "import pylab as pl\n",
    "import matplotlib.pyplot as plt\n",
    "import copy\n",
    "\n",
    "import math"
   ]
  },
  {
   "cell_type": "code",
   "execution_count": 5,
   "metadata": {},
   "outputs": [],
   "source": [
    "dimension = 10  # dimension of the search space\n",
    "num_kernels = 11 # number of single-objective solvers (number of points on the front)"
   ]
  },
  {
   "cell_type": "markdown",
   "metadata": {},
   "source": [
    "### Settings for the sphere problem"
   ]
  },
  {
   "cell_type": "code",
   "execution_count": null,
   "metadata": {},
   "outputs": [],
   "source": [
    "sigma0 = 0.2    # initial step-sizes\n",
    "cma_opts = {'tolx': 10**-3}\n",
    "inopts = {'verb_disp': 50, 'archive': True, 'restart': como.random_restart_kernel, 'update_order': None} \n",
    "#inopts = {'verb_disp': 500, 'archive': True, 'update_order': None} \n",
    "refpoint = [1.1, 1.1]"
   ]
  },
  {
   "cell_type": "code",
   "execution_count": null,
   "metadata": {},
   "outputs": [],
   "source": [
    "fitness = como.FitFun(lambda x: 1 / len(x) * cma.ff.sphere(x), lambda x: 1 / len(x) * cma.ff.sphere(x-1)) # a callable bi-objective function"
   ]
  },
  {
   "cell_type": "markdown",
   "metadata": {},
   "source": [
    "### Settings for the Frederic's rastrigin problem"
   ]
  },
  {
   "cell_type": "code",
   "execution_count": null,
   "metadata": {},
   "outputs": [],
   "source": [
    "sigma0 = 2    # initial step-sizes\n",
    "#cma_opts = {'tolx': 10**-4}\n",
    "cma_opts = {'tolx': 10**-4, 'popsize': 32}\n",
    "inopts = {'verb_disp': 500, 'archive': True, 'update_order': None} \n",
    "#inopts = {'verb_disp': 500, 'archive': True, 'restart': como.best_chv_restart_kernel, 'update_order': None} "
   ]
  },
  {
   "cell_type": "code",
   "execution_count": null,
   "metadata": {},
   "outputs": [],
   "source": [
    "fun1 = lambda x: sum(np.abs(x)**0.8 + 5 * np.sin(x**3))\n",
    "fun2 = lambda x: (10. * len(x) + sum( x**2 -10. * np.cos(2. * np.pi * x)))/5 #rastrigin\n",
    "fitness = como.FitFun(fun1, fun2)\n",
    "refpoint = [-10, 15]"
   ]
  },
  {
   "cell_type": "markdown",
   "metadata": {},
   "source": [
    "### Instantiation of the MO optimizer"
   ]
  },
  {
   "cell_type": "code",
   "execution_count": null,
   "metadata": {},
   "outputs": [],
   "source": [
    "#list_of_solvers = como.get_cmas(solutions, sigma0, cma_opts) # produce `num_kernels cma instances`\n",
    "list_of_solvers = como.get_cmas(num_kernels * [dimension * [0]], sigma0, cma_opts) # produce `num_kernels cma instances`\n",
    "moes = como.Sofomore(list_of_solvers, opts=inopts, reference_point=refpoint) # create a como-cma-es instance"
   ]
  },
  {
   "cell_type": "code",
   "execution_count": null,
   "metadata": {
    "scrolled": false
   },
   "outputs": [],
   "source": [
    "while not moes.stop():\n",
    "    solutions = moes.ask()\n",
    "    f_values = [fitness(x) for x in solutions]\n",
    "    moes.tell(solutions, f_values)\n",
    "    moes.logger.add()\n",
    "    moes.disp()"
   ]
  },
  {
   "cell_type": "code",
   "execution_count": null,
   "metadata": {},
   "outputs": [],
   "source": [
    "moes.logger.plot_divers()"
   ]
  },
  {
   "cell_type": "code",
   "execution_count": null,
   "metadata": {
    "scrolled": false
   },
   "outputs": [],
   "source": [
    "#Animation of COMO with 2 objectives \n",
    "\n",
    "fig = plt.figure()\n",
    "ax = fig.add_subplot(111)\n",
    "#ax = fig.add_axes([0,0,1,1])\n",
    "\n",
    "pl.ion()\n",
    "fig.show()\n",
    "fig.canvas.draw()\n",
    "\n",
    "while not moes.stop():\n",
    "    #making a step on the COMO algorithm\n",
    "    moes.optimize(fitness, iterations = 1)\n",
    "\n",
    "    ax.clear()\n",
    "\n",
    "    tab = [kernel.objective_values for kernel in moes.kernels if kernel.objective_values is not None]\n",
    "    f0 = [vec[0] for vec in tab]\n",
    "    f1 = [vec[1] for vec in tab]\n",
    "\n",
    "    ax.plot(f0,f1,'ro')\n",
    "    ax.plot([moes.reference_point[0]], [moes.reference_point[1]], 'b*')\n",
    "    \n",
    "    fig.canvas.draw()\n",
    "    \n",
    "   # myaxes = plt.gca()\n",
    "   # myaxes.set_aspect('equal')\n",
    "   # pl.savefig('./convfig/convergence{}.png'.format(iteration))"
   ]
  },
  {
   "cell_type": "code",
   "execution_count": null,
   "metadata": {},
   "outputs": [],
   "source": [
    "dir(moes)"
   ]
  },
  {
   "cell_type": "code",
   "execution_count": null,
   "metadata": {},
   "outputs": [],
   "source": [
    "mylist = moes.NDA([[1, 2], [4, 5], [3, 8]], reference_point=[1.1, 1.1])"
   ]
  },
  {
   "cell_type": "code",
   "execution_count": null,
   "metadata": {},
   "outputs": [],
   "source": [
    "mylist2 = moes.NDA([np.array([1, 2]), [4, 5], [3, 8]], reference_point=[1.1, 1.1])"
   ]
  },
  {
   "cell_type": "code",
   "execution_count": null,
   "metadata": {},
   "outputs": [],
   "source": [
    "hash(moes)"
   ]
  },
  {
   "cell_type": "code",
   "execution_count": null,
   "metadata": {},
   "outputs": [],
   "source": [
    "plt.figure()\n",
    "moes.logger.plot_front()"
   ]
  },
  {
   "cell_type": "code",
   "execution_count": null,
   "metadata": {},
   "outputs": [],
   "source": [
    "type(moes.kernels[0])"
   ]
  },
  {
   "cell_type": "code",
   "execution_count": null,
   "metadata": {},
   "outputs": [],
   "source": [
    "type(moes[0])"
   ]
  },
  {
   "cell_type": "code",
   "execution_count": null,
   "metadata": {},
   "outputs": [],
   "source": [
    "plt.figure()\n",
    "moes.logger.plot_divers()"
   ]
  },
  {
   "cell_type": "code",
   "execution_count": null,
   "metadata": {},
   "outputs": [],
   "source": [
    "moes.archive[0], moes.archive[-1]"
   ]
  },
  {
   "cell_type": "code",
   "execution_count": null,
   "metadata": {},
   "outputs": [],
   "source": [
    "solutions = [kernel.incumbent for kernel in moes.kernels]"
   ]
  },
  {
   "cell_type": "code",
   "execution_count": null,
   "metadata": {},
   "outputs": [],
   "source": [
    "moes.pareto_set"
   ]
  },
  {
   "cell_type": "code",
   "execution_count": null,
   "metadata": {},
   "outputs": [],
   "source": []
  },
  {
   "cell_type": "code",
   "execution_count": null,
   "metadata": {},
   "outputs": [],
   "source": [
    "import cma\n",
    "#es = cma.CMAEvolutionStrategy(10 * [0], 0.2, {\"timeout\":10**-2})\n",
    "es = cma.CMAEvolutionStrategy(10 * [0], 0.2)"
   ]
  },
  {
   "cell_type": "code",
   "execution_count": null,
   "metadata": {},
   "outputs": [],
   "source": [
    "es.optimize(cma.ff.sphere)"
   ]
  },
  {
   "cell_type": "code",
   "execution_count": null,
   "metadata": {},
   "outputs": [],
   "source": [
    "es.stop()"
   ]
  },
  {
   "cell_type": "code",
   "execution_count": null,
   "metadata": {},
   "outputs": [],
   "source": []
  },
  {
   "cell_type": "code",
   "execution_count": null,
   "metadata": {},
   "outputs": [],
   "source": [
    "es.stop()"
   ]
  },
  {
   "cell_type": "code",
   "execution_count": null,
   "metadata": {},
   "outputs": [],
   "source": [
    "while not es.stop():\n",
    "    solutions = es.ask()\n",
    "    values = [cma.ff.sphere(x) for x in solutions]\n",
    "    es.tell(solutions, values)"
   ]
  },
  {
   "cell_type": "code",
   "execution_count": null,
   "metadata": {},
   "outputs": [],
   "source": [
    "es.stop()"
   ]
  },
  {
   "cell_type": "code",
   "execution_count": null,
   "metadata": {},
   "outputs": [],
   "source": [
    "es.timer.elapsed"
   ]
  },
  {
   "cell_type": "code",
   "execution_count": null,
   "metadata": {},
   "outputs": [],
   "source": [
    "moes.kernels[0].timer.elapsed"
   ]
  },
  {
   "cell_type": "code",
   "execution_count": null,
   "metadata": {},
   "outputs": [],
   "source": [
    "dir(moes)"
   ]
  },
  {
   "cell_type": "code",
   "execution_count": null,
   "metadata": {},
   "outputs": [],
   "source": []
  }
 ],
 "metadata": {
  "kernelspec": {
   "display_name": "Python 3",
   "language": "python",
   "name": "python3"
  },
  "language_info": {
   "codemirror_mode": {
    "name": "ipython",
    "version": 3
   },
   "file_extension": ".py",
   "mimetype": "text/x-python",
   "name": "python",
   "nbconvert_exporter": "python",
   "pygments_lexer": "ipython3",
   "version": "3.7.5"
  }
 },
 "nbformat": 4,
 "nbformat_minor": 2
}
