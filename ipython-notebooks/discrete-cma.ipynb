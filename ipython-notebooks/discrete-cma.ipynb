{
 "cells": [
  {
   "cell_type": "code",
   "execution_count": 1,
   "metadata": {},
   "outputs": [
    {
     "name": "stdout",
     "output_type": "stream",
     "text": [
      "Using matplotlib backend: MacOSX\n"
     ]
    }
   ],
   "source": [
    "%matplotlib\n",
    "import cma"
   ]
  },
  {
   "cell_type": "code",
   "execution_count": 13,
   "metadata": {
    "collapsed": true
   },
   "outputs": [],
   "source": [
    "import numpy as np\n",
    "import cma \n",
    "def flat_warning_preventer():\n",
    "    return 1.01e-2 + 1e-2 * np.exp(np.random.randn())\n",
    "def bin_val(x):\n",
    "    return np.dot(2.**np.arange(len(x)), x) + 0 * flat_warning_preventer()\n",
    "def leadingones(x):\n",
    "    for i in range(len(x)):\n",
    "        if x[i] == 0:\n",
    "            break\n",
    "    else:\n",
    "        i = len(x)\n",
    "    return len(x) - i + 0 * flat_warning_preventer()\n",
    "def onemax(x):\n",
    "    return len(x) - sum(x) + 0 * flat_warning_preventer()\n",
    "def frand(x):\n",
    "    return np.exp(np.random.randn())"
   ]
  },
  {
   "cell_type": "code",
   "execution_count": 19,
   "metadata": {
    "code_folding": [
     2,
     101
    ]
   },
   "outputs": [],
   "source": [
    "import cma\n",
    "\n",
    "class BinaryCMAEvolutionStrategy(cma.CMAEvolutionStrategy):\n",
    "    @staticmethod\n",
    "    def binarise(X):\n",
    "        \"\"\"transform output of `ask` as input to binary domain objective\n",
    "        \"\"\"\n",
    "        return [1.0 * (x > 0) for x in X]\n",
    "    def __init__(self, *args, **kwargs):\n",
    "        cma.CMAEvolutionStrategy.__init__(self, *args, **kwargs)\n",
    "        self.logger.name_prefix += 'bin'\n",
    "    def ask_bin(self, *args, **kwargs):\n",
    "        \"\"\"return binarised and original solutions, \n",
    "        \n",
    "        to be used to evaluate the objective and to call `tell`,\n",
    "        respectively.\n",
    "        \"\"\"\n",
    "        X = self.ask(*args, **kwargs)\n",
    "        return self.binarise(X), X\n",
    "    def tell(self, *args, **kwargs):\n",
    "        res = cma.CMAEvolutionStrategy.tell(self, *args, **kwargs)\n",
    "        self._finalise_iter()\n",
    "        return res\n",
    "    def _finalise_iter(self):\n",
    "        self.sigma = 1\n",
    "        # seems never necessary but shouldn't hurt either if cmean is small enough:\n",
    "        self.mean -= (self.opts['CMA_cmean'] / 1e3) * np.sign(self.mean)\n",
    "\n",
    "class DiscretisedPopulation(list):\n",
    "    \"\"\"a list (population) of integer vectors\n",
    "    \"\"\"\n",
    "    def __init__(self, X):\n",
    "        \"\"\"`X` is an array of solution vectors\"\"\"\n",
    "        super().__init__(np.array(x, dtype=int) for x in X)\n",
    "        # self._sampled_pop = X\n",
    "\n",
    "class DiscreteCMAEvolutionStrategy(cma.CMAEvolutionStrategy):\n",
    "    def __init__(self, x0, sigma, arities, *args):\n",
    "        N = len(x0)\n",
    "        min_arity = np.min(arities)\n",
    "        opts = {\n",
    "            'CMA_cmean': 'min((1, %f * (popsize / (10 + popsize/N))))' % (arities / (N + arities)),\n",
    "            'CMA_on': (min_arity + 1) / (min_arity + 30),\n",
    "            'bounds': [0, arities - 1e-11],\n",
    "            'maxstd': 1 * (arities - 1) / 4,  # maxstd < bounds/2\n",
    "            # maxstd=1/2 costs some performance on binval 80D\n",
    "            'minstd': max((1, N / arity)) / 2 / (N + 1),\n",
    "            }\n",
    "        if args:\n",
    "            for key in opts:\n",
    "                if key in args[0]:\n",
    "                    print(\"\"\"Option '%s'=%s will be overwritten to \n",
    "                    %s. This may seriously hamper DiscreteCMA.\"\"\" \n",
    "                          % (key, opts[key], args[0][key]))\n",
    "            opts.update(args[0])\n",
    "            args[0].update(opts)\n",
    "        else:\n",
    "            args = (opts,)\n",
    "        print(args[0])\n",
    "        super().__init__(x0, sigma, *args)\n",
    "        self.logger.name_prefix += 'bin'\n",
    "        self._arity_pop = {'keys':[], 'values':[]}\n",
    "    def ask(self, *args, **kwargs):\n",
    "        \"\"\"return discretised solutions as `DiscretisedPopulation` instance.\n",
    "        \n",
    "        To be used to evaluate the objective and to call `tell`,\n",
    "        respectively.\n",
    "        \n",
    "        Caveat: resampling single solutions will fail.\n",
    "        \n",
    "        Details: `tell` uses the hidden attribute `_sampled_pop`.\n",
    "\n",
    "        TODO: this is not a sustainable solution for a mixed-cma\n",
    "        version, as it defeats separation of the return value of\n",
    "        `ask` and the input arg to `tell`. Archiving all current\n",
    "        genotypic solutions (as already done?) is the best approach\n",
    "        I can think of right now.\n",
    "        \"\"\"\n",
    "        X = super().ask(*args, **kwargs)\n",
    "        Xdis = DiscretisedPopulation(X)\n",
    "        self._arity_pop['keys'].extend(Xdis)\n",
    "        self._arity_pop['values'].extend(X)\n",
    "        return Xdis\n",
    "    ask.__doc__ += cma.CMAEvolutionStrategy.ask.__doc__\n",
    "\n",
    "    def tell(self, X, fvals, *args, **kwargs):\n",
    "        # TODO: find X in 'keys' first\n",
    "        X = self._arity_pop['values']\n",
    "        if any(np.asarray(fvals) < 1e-2):\n",
    "            fvals = [fval + 1 * flat_warning_preventer() for fval in fvals]\n",
    "        res = super().tell(X, fvals, *args, **kwargs)\n",
    "        self._finalise_iter()\n",
    "        self._arity_pop = {'keys':[], 'values':[]}\n",
    "        return res\n",
    "    def _finalise_iter(self):\n",
    "        \"\"\"does nothing for the time being\"\"\"\n",
    "        return\n",
    "        # seems never necessary but shouldn't hurt either if cmean is small enough:\n",
    "        self.mean -= (self.opts['CMA_cmean'] / 1e3) * np.sign(self.mean)\n",
    "\n",
    "class MixedBinarySphere:\n",
    "    \"\"\"the binary variables define the optimum for the continuous\"\"\"\n",
    "    def __init__(self, function, arity=2, xopt=None):\n",
    "        \"\"\"function is the continuous function, xopt the binary opt\"\"\"\n",
    "        self.function = function\n",
    "        self.arity = arity\n",
    "        self._xopt = xopt\n",
    "    def xopt(self, dimension):\n",
    "        if self._xopt is not None:\n",
    "            return self._xopt\n",
    "        return np.arange(dimension) % self.arity\n",
    "    def __call__(self, x_bin, x_cont=None):\n",
    "        x_bin, x_cont = map(np.asarray, (x_bin, x_cont))\n",
    "        if not np.all(x_bin == np.asarray(x_bin, int)):\n",
    "            raise ValueError(\"variables are not integer \" +\n",
    "                             str(x_bin))\n",
    "        f = 0\n",
    "        if x_cont.shape:  # hack for is not None\n",
    "            # x_opt = x_bin[:len(x_cont)]\n",
    "            i_opt = np.arange(len(x_cont), dtype=int) % len(x_bin)\n",
    "            f = self.function((x_cont - x_bin[i_opt]))\n",
    "        # TODO: factor should be exposed\n",
    "        return f + 1e0 * sum((x_bin - self.xopt(len(x_bin)))**2) \n",
    "\n"
   ]
  },
  {
   "cell_type": "code",
   "execution_count": 20,
   "metadata": {
    "code_folding": [
     0
    ]
   },
   "outputs": [
    {
     "name": "stdout",
     "output_type": "stream",
     "text": [
      "{'maxiter': 1200, 'CMA_cmean': 'min((1, 0.047619 * (popsize / (10 + popsize/N))))', 'CMA_on': 0.09375, 'bounds': [0, 1.99999999999], 'maxstd': 0.25, 'minstd': 0.24390243902439024}\n",
      "(7_w,15)-aCMA-ES (mu_w=4.5,w_1=34%) in dimension 40 (seed=720523, Thu Dec  7 21:04:29 2017)\n",
      "Iterat #Fevals   function value  axis ratio  sigma  min&max std  t[m:s]\n",
      "    1     15 3.700000000000000e+01 1.0e+00 2.50e-01  2e-01  3e-01 0:00.0\n",
      "    2     30 3.700000000000000e+01 1.0e+00 2.44e-01  2e-01  2e-01 0:00.0\n",
      "    3     45 3.600000000000000e+01 1.0e+00 2.44e-01  2e-01  2e-01 0:00.0\n",
      "  100   1500 2.900000000000000e+01 1.1e+00 2.49e-01  2e-01  3e-01 0:00.3\n",
      "  200   3000 2.200000000000000e+01 1.3e+00 2.48e-01  2e-01  3e-01 0:00.5\n",
      "  300   4500 1.700000000000000e+01 1.3e+00 2.46e-01  2e-01  3e-01 0:00.9\n",
      "  400   6000 1.100000000000000e+01 1.4e+00 2.46e-01  2e-01  3e-01 0:01.2\n",
      "  500   7500 4.000000000000000e+00 1.4e+00 2.45e-01  2e-01  3e-01 0:01.4\n",
      "  600   9000 1.000000000000000e+00 1.4e+00 2.50e-01  2e-01  3e-01 0:01.7\n",
      "  700  10500 1.218033107435097e-02 1.5e+00 2.42e-01  2e-01  3e-01 0:01.9\n",
      "final/bestever f-value = 1.376347e-02 1.088855e-02\n",
      "incumbent solution: [ 1.74776352  1.61781489  1.77747052  1.55103866  1.69682688  1.80597674\n",
      "  1.78073003  1.99042458 ...]\n",
      "std deviations: [ 0.2407562   0.23661659  0.24437502  0.23447331  0.24153849  0.24194557\n",
      "  0.24359968  0.23996992 ...]\n"
     ]
    }
   ],
   "source": [
    "def smart_sortings(binary_X, f_vals):\n",
    "    \"\"\"return smart sortings conditioned to same binary values\"\"\"\n",
    "    X_dict = {tuple(x): [] for x in binary_X}\n",
    "    len_ = len(X_dict)\n",
    "    if len(f_vals) == len_:\n",
    "        return f_vals, f_vals\n",
    "    for x, f in zip(binary_X, f_vals):\n",
    "        X_dict[tuple(x)] += [f]\n",
    "    assert len(X_dict) == len_\n",
    "    raise NotImplementedError(X_dict)\n",
    "\n",
    "# TODO: better use same weights for same f-value\n",
    "# TODO: check again binary values for tell\n",
    "dim_bin = 40\n",
    "dim = 10\n",
    "arity = 2\n",
    "function = MixedBinarySphere(cma.ff.sphere, arity, None)\n",
    "function = leadingones\n",
    "if 1 < 3:\n",
    "    es_bin = DiscreteCMAEvolutionStrategy(dim_bin * [1], arity / 5,\n",
    "         arity,\n",
    "         {#'popsize': '3*N', \n",
    "          #'CMA_cmean': 0.1,  # es.popsize, \n",
    "          # 'CMA_on': 0.51, \n",
    "          # 'CMA_diagonal': True,\n",
    "          'maxiter': 30 * dim_bin,\n",
    "          \n",
    "         })\n",
    "    while not es_bin.stop() and not all(es_bin.mean > 1.4) and not all(es_bin.mean < 0.6):\n",
    "        X_bin = es_bin.ask()\n",
    "        fvals = [function(xx) for xx in X_bin]\n",
    "        es_bin.tell(X_bin, fvals)\n",
    "        es_bin.logger.add()\n",
    "        es_bin.disp()\n",
    "    es_bin.result_pretty()\n",
    "\n",
    "elif 1 < 3:\n",
    "    es = cma.CMAEvolutionStrategy(dim * [1], 1, {\n",
    "        'maxiter': 1500, #'popsize': 50\n",
    "    })\n",
    "    es_bin = DiscreteCMAEvolutionStrategy(dim_bin * [1], 0.25,\n",
    "         arity,\n",
    "         {'popsize':es.popsize})\n",
    "    while not es.stop():\n",
    "        X_bin = es_bin.ask()\n",
    "        X = es.ask()\n",
    "        fvals = [function(*xx) for xx in zip(X_bin, X)]\n",
    "        # smart_sortings(X_bin, fvals)\n",
    "        es_bin.tell(X_bin, fvals)\n",
    "        es.tell(X, fvals)\n",
    "        es.logger.add()\n",
    "        es_bin.logger.add()\n",
    "        es.disp()\n",
    "    es.result_pretty()\n",
    "    cma.plot();\n",
    "cma.plot('outcmaesbin', plot_mean=1);"
   ]
  },
  {
   "cell_type": "code",
   "execution_count": 5,
   "metadata": {},
   "outputs": [
    {
     "data": {
      "text/plain": [
       "0.43955999999999995"
      ]
     },
     "execution_count": 5,
     "metadata": {},
     "output_type": "execute_result"
    }
   ],
   "source": [
    "es_bin.opts['CMA_cmean']"
   ]
  },
  {
   "cell_type": "code",
   "execution_count": 6,
   "metadata": {},
   "outputs": [
    {
     "name": "stdout",
     "output_type": "stream",
     "text": [
      "Using matplotlib backend: MacOSX\n"
     ]
    }
   ],
   "source": [
    "# cma.plot('outcmaesbin')\n",
    "# %matplotlib\n",
    "# %pylab\n",
    "# figure(1);"
   ]
  },
  {
   "cell_type": "code",
   "execution_count": 7,
   "metadata": {},
   "outputs": [
    {
     "data": {
      "text/plain": [
       "<cma.evolution_strategy.CMADataLogger at 0x114e7b8d0>"
      ]
     },
     "execution_count": 7,
     "metadata": {},
     "output_type": "execute_result"
    }
   ],
   "source": [
    "es_bin.logger.load()"
   ]
  },
  {
   "cell_type": "code",
   "execution_count": 8,
   "metadata": {},
   "outputs": [
    {
     "ename": "NameError",
     "evalue": "name 'figure' is not defined",
     "output_type": "error",
     "traceback": [
      "\u001b[0;31m---------------------------------------------------------------------------\u001b[0m",
      "\u001b[0;31mNameError\u001b[0m                                 Traceback (most recent call last)",
      "\u001b[0;32m<ipython-input-8-94aa63a3297a>\u001b[0m in \u001b[0;36m<module>\u001b[0;34m()\u001b[0m\n\u001b[0;32m----> 1\u001b[0;31m \u001b[0mfigure\u001b[0m\u001b[0;34m(\u001b[0m\u001b[0;36m1\u001b[0m\u001b[0;34m)\u001b[0m\u001b[0;34m;\u001b[0m \u001b[0mgcf\u001b[0m\u001b[0;34m(\u001b[0m\u001b[0;34m)\u001b[0m\u001b[0;34m.\u001b[0m\u001b[0mclear\u001b[0m\u001b[0;34m(\u001b[0m\u001b[0;34m)\u001b[0m\u001b[0;34m\u001b[0m\u001b[0m\n\u001b[0m\u001b[1;32m      2\u001b[0m \u001b[0mbh\u001b[0m \u001b[0;34m=\u001b[0m \u001b[0mes_bin\u001b[0m\u001b[0;34m.\u001b[0m\u001b[0mboundary_handler\u001b[0m\u001b[0;34m\u001b[0m\u001b[0m\n\u001b[1;32m      3\u001b[0m \u001b[0mm\u001b[0m \u001b[0;34m=\u001b[0m \u001b[0mes_bin\u001b[0m\u001b[0;34m.\u001b[0m\u001b[0mlogger\u001b[0m\u001b[0;34m.\u001b[0m\u001b[0mdata\u001b[0m\u001b[0;34m[\u001b[0m\u001b[0;34m'xmean'\u001b[0m\u001b[0;34m]\u001b[0m\u001b[0;34m\u001b[0m\u001b[0m\n\u001b[1;32m      4\u001b[0m \u001b[0mplot\u001b[0m\u001b[0;34m(\u001b[0m\u001b[0mm\u001b[0m\u001b[0;34m[\u001b[0m\u001b[0;34m:\u001b[0m\u001b[0;34m,\u001b[0m\u001b[0;36m0\u001b[0m\u001b[0;34m]\u001b[0m\u001b[0;34m,\u001b[0m \u001b[0;34m[\u001b[0m\u001b[0mbh\u001b[0m\u001b[0;34m.\u001b[0m\u001b[0minverse\u001b[0m\u001b[0;34m(\u001b[0m\u001b[0mbh\u001b[0m\u001b[0;34m.\u001b[0m\u001b[0mtransform\u001b[0m\u001b[0;34m(\u001b[0m\u001b[0mmm\u001b[0m\u001b[0;34m)\u001b[0m\u001b[0;34m)\u001b[0m \u001b[0;32mfor\u001b[0m \u001b[0mmm\u001b[0m \u001b[0;32min\u001b[0m \u001b[0mm\u001b[0m\u001b[0;34m[\u001b[0m\u001b[0;34m:\u001b[0m\u001b[0;34m,\u001b[0m \u001b[0;36m5\u001b[0m\u001b[0;34m:\u001b[0m\u001b[0;34m]\u001b[0m\u001b[0;34m]\u001b[0m\u001b[0;34m)\u001b[0m\u001b[0;34m;\u001b[0m\u001b[0;34m\u001b[0m\u001b[0m\n",
      "\u001b[0;31mNameError\u001b[0m: name 'figure' is not defined"
     ]
    }
   ],
   "source": [
    "figure(1); gcf().clear()\n",
    "bh = es_bin.boundary_handler\n",
    "m = es_bin.logger.data['xmean']\n",
    "plot(m[:,0], [bh.inverse(bh.transform(mm)) for mm in m[:, 5:]]);\n"
   ]
  },
  {
   "cell_type": "code",
   "execution_count": null,
   "metadata": {
    "collapsed": true
   },
   "outputs": [],
   "source": [
    "show()"
   ]
  }
 ],
 "metadata": {
  "kernelspec": {
   "display_name": "Python 3",
   "language": "python",
   "name": "python3"
  },
  "language_info": {
   "codemirror_mode": {
    "name": "ipython",
    "version": 3
   },
   "file_extension": ".py",
   "mimetype": "text/x-python",
   "name": "python",
   "nbconvert_exporter": "python",
   "pygments_lexer": "ipython3",
   "version": "3.6.1"
  }
 },
 "nbformat": 4,
 "nbformat_minor": 2
}
