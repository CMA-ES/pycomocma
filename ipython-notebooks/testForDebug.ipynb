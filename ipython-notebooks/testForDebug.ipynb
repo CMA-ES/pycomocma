{
 "cells": [
  {
   "cell_type": "code",
   "execution_count": 1,
   "metadata": {},
   "outputs": [
    {
     "name": "stdout",
     "output_type": "stream",
     "text": [
      "Populating the interactive namespace from numpy and matplotlib\n"
     ]
    }
   ],
   "source": [
    "%pylab nbagg"
   ]
  },
  {
   "cell_type": "code",
   "execution_count": 2,
   "metadata": {},
   "outputs": [],
   "source": [
    "import sys\n",
    "sys.path.append(\"../comocma/\")"
   ]
  },
  {
   "cell_type": "code",
   "execution_count": 3,
   "metadata": {},
   "outputs": [],
   "source": [
    "import como, cma\n",
    "import numpy as np\n",
    "import functools"
   ]
  },
  {
   "cell_type": "code",
   "execution_count": 5,
   "metadata": {},
   "outputs": [],
   "source": [
    "dimension = 10  # dimension of the search space\n",
    "num_kernels = 11 # number of single-objective solvers (number of points on the front)"
   ]
  },
  {
   "cell_type": "code",
   "execution_count": 5,
   "metadata": {},
   "outputs": [],
   "source": []
  },
  {
   "cell_type": "code",
   "execution_count": 9,
   "metadata": {},
   "outputs": [],
   "source": [
    "sigma0 = 0.2    # initial step-sizes\n",
    "cma_opts = {'tolx': 10**-3}\n",
    "my_random_restart_function = functools.partial(como.random_restart_kernel,\n",
    "                                            opts={'tolx':10**-1})\n",
    "\n",
    "inopts = {'restart': my_random_restart_function} \n",
    "\n",
    "refpoint = [1.1, 1.1]\n",
    "\n",
    "fitness = como.FitFun(lambda x: 1 / len(x) * cma.ff.sphere(x), lambda x: 1 / len(x) * cma.ff.sphere(x-1)) # a callable bi-objective function"
   ]
  },
  {
   "cell_type": "code",
   "execution_count": 12,
   "metadata": {},
   "outputs": [],
   "source": [
    "#list_of_solvers = como.get_cmas(solutions, sigma0, cma_opts) # produce `num_kernels cma instances`\n",
    "list_of_solvers = como.get_cmas(num_kernels * [dimension * [0]], sigma0, cma_opts) # produce `num_kernels cma instances`\n",
    "moes = como.Sofomore(list_of_solvers, opts=inopts, reference_point=refpoint) # create a como-cma-es instance"
   ]
  },
  {
   "cell_type": "code",
   "execution_count": 13,
   "metadata": {},
   "outputs": [
    {
     "name": "stdout",
     "output_type": "stream",
     "text": [
      "Iterat #Fevals   Hypervolume   axis ratios   sigmas   min&max stds\n",
      "                                  (median)  (median)    (median)\n",
      "    1     21 1.100000000000001e-01 1.0e+00 2.00e-01  2e-01  2e-01\n",
      "11    2     32 2.071126300740249e-01 1.0e+00 2.00e-01  2e-01  2e-01\n",
      "11    3     43 2.393717740775184e-01 1.0e+00 2.00e-01  2e-01  2e-01\n",
      "11111111111111111111111111111111111111111111111111111111111111111111111111111111111111111111111111111111111111111111111111111111111111111111111111111111111111111111111111111111111111111111111111  100   1110 9.061261075452707e-01 1.5e+00 1.49e-01  1e-01  2e-01\n",
      "11111111111111111111111111111111111111111111111111111111111111111111111111111111111111111111111111111111111111111111111111111111111111111111111111111111111111111111111111111111111111111111111111111111  200   2210 9.676688274414357e-01 1.8e+00 1.43e-01  1e-01  1e-01\n",
      "11111111111111111111111111111111111111111111111111111111111111111111111111111111111111111111111111111111111111111111111111111111111111111111111111111111111111111111111111111111111111111111111111111111  300   3310 1.000293615148845e+00 1.7e+00 7.99e-02  6e-02  8e-02\n",
      "11111111111111111111111111111111111111111111111111111111111111111111111111111111111111111111111111111111111111111111111111111111111111111111111111111111111111111111111111111111111111111111111111111111  400   4410 1.006757053165970e+00 1.9e+00 5.72e-02  4e-02  5e-02\n",
      "11111111111111111111111111111111111111111111111111111111111111111111111111111111111111111111111111111111111111111111111111111111111111111111111111111111111111111111111111111111111111111111111111111111  500   5510 1.010249071785393e+00 1.8e+00 3.18e-02  2e-02  3e-02\n",
      "11111111111111111111111111111111111111111111111111111111111111111111111111111111111111111111111111111111111111111111111111111111111111111111111111111111111111111111111111111111111111111111111111111111  600   6610 1.011232974444616e+00 2.0e+00 2.35e-02  1e-02  2e-02\n",
      "11111111111111111111111111111111111111111111111111111111111111111111111111111111111111111111111111111111111111111111111111111111111111111111111111111111111111111111111111111111111111111111111111111111  700   7710 1.011798701360395e+00 1.9e+00 1.78e-02  1e-02  1e-02\n",
      "11111111111111111111111111111111111111111111111111111111111111111111111111111111111111111111111111111111111111111111111111111111111111111111111111111111111111111111111111111111111111111111111111111111  800   8810 1.011981530257492e+00 1.9e+00 1.22e-02  6e-03  9e-03\n",
      "11111111111111111111111111111111111111111111111111111111111111111111111111111111111111111111111111111111111111111111111111111111111111111111111111111111111111111111111111111111111111111111111111111111  900   9910 1.012070775614906e+00 2.1e+00 8.09e-03  4e-03  5e-03\n",
      "11111111111111111111111111111111111111111111111111111111111111111111111111111111111111111111111111111111111111111111111111111111111111111111111111111111111111111111111111111111111111111111111111111111 1000  11010 1.012119992302141e+00 2.1e+00 6.57e-03  3e-03  4e-03\n",
      "11111111111111111111111111111111111111111111111111111111111111111111111111111111111111111111111112121212121212121212121212121212121212121212121212121212121212121212121212121212121212121212121212121212 1100  12111 1.012145044503381e+00 2.0e+00 4.89e-03  2e-03  3e-03\n",
      "12121212121212121212121212121212121212121212121212121212121212121212121212121212121212121212121212121212121212121212121212121212121212121212121212121212121212121212121212121212121212121212121212121212 1200  13211 1.012160945670972e+00 2.1e+00 4.16e-03  2e-03  2e-03\n",
      "12121212121212121212121212121212121212121213131313131313131313131313131313131313131313131313131313131313131313131313131313131313131313131313131313131313131313131313131313131313131313131313131313131313 1300  14312 1.012170292506891e+00 2.1e+00 3.12e-03  1e-03  2e-03\n",
      "13131313131313131313131313131414141414141414141414141414141414141414141515151515151515151515151515151515151515151515151515151515151515151515151515151515151515151515151515151515151515151515161616161616 1400  15415 1.012175591477946e+00 2.1e+00 3.05e-03  1e-03  1e-03\n",
      "16161616161616161616161616161616161616161616161616161616161616161616161616161616161616161616161616161616161616161616161616161616161616161616161616161616161616161616161616161616171717171717171717171717 1500  16516 1.013013422781872e+00 2.0e+00 2.69e-03  9e-04  1e-03\n",
      "17171717171717171717171717171717171718181818181818181818181818181818181919191919191920202020202020202020202121212121212121212121212121212121212121212121212121212121212121212222222222222222222222222222 1600  17621 1.014031646559997e+00 2.0e+00 4.94e-02  3e-02  4e-02\n",
      "22222222222323232323232323232323232323232323232323232323232323232323232323232323232323232323232323232323232323242424242424242424242424242424242424242424242424242424242424242424242424242424242424242424 1700  18723 1.015429719198191e+00 2.1e+00 9.12e-02  6e-02  8e-02\n",
      "24242424242424242424242424242424242424242424242424242424242424242424242424242424242424242424242424242424242424242424242424242424242424242424242424242424242424242424242424242424242424242424242424242425 1800  19824 1.017487766261839e+00 2.1e+00 9.62e-02  7e-02  8e-02\n",
      "25252525252525252525252525252525252525252525262626262626262626262626262626262626262626262626262626262626262626262626262626262626262626262626262626262626262626262626262626262626262626262626262626262626 1900  20925 1.016369004136511e+00 2.1e+00 9.65e-02  7e-02  9e-02\n",
      "26262626262626262626262626262626262626262626262626262727272727272727272727272727272727272727272727272727272727272727272727272727272727272727272727272727272727272727272727272828282828282828282828282929 2000  22028 1.017842240844903e+00 2.1e+00 9.67e-02  7e-02  9e-02\n",
      "29292929292929292929292929292929292929292929292929292929292929292929292929292929292930303030303030303030303030303030303030303030303030303031313131313131313131313131313232323232323232323232323232323232 2100  23131 1.018305449582610e+00 2.1e+00 9.65e-02  7e-02  9e-02\n",
      "32323233343434343434343535353535353535353535353535353535353535353535353535353535353535353535353535353535353535353535353535353535353535353535353535353535353535353535353535353535353535353535353535353535 2200  24234 1.019987955813240e+00 2.1e+00 1.00e-01  7e-02  9e-02\n",
      "35353535353535353535353535353535353535353535353535353535353535353535353535353535353535353535353536363636363636363636363636363636363636363636363636363636363636363636363636363636363636363636363636363636 2300  25335 1.021340382710431e+00 2.2e+00 1.00e-01  7e-02  9e-02\n",
      "36363636363636363636363636363636363636363636363636363636363636363636363636363636363636363636363636363636363636363636363636363636363636363636363636363636363737373737373737373737373737373737373737373737 2400  26436 1.022658276011816e+00 2.2e+00 1.00e-01  7e-02  9e-02\n",
      "37373737373737373737373737373737373737373737373737373737373737373737373737373737373737383838383838383839393939393939393939393939393939393939393939393939393939393939404040404040404040404040404040404040 2500  27539 1.023697792921190e+00 2.2e+00 1.00e-01  7e-02  9e-02\n",
      "404040404040404040404040414242424242424242424242424242424242424242424242424242434343434444444444444444444545454545454545454545454545454545454545454545454545454545454545454545454646"
     ]
    },
    {
     "ename": "KeyboardInterrupt",
     "evalue": "",
     "output_type": "error",
     "traceback": [
      "\u001b[0;31m---------------------------------------------------------------------------\u001b[0m",
      "\u001b[0;31mKeyboardInterrupt\u001b[0m                         Traceback (most recent call last)",
      "\u001b[0;32m<ipython-input-13-97e4618a01c8>\u001b[0m in \u001b[0;36m<module>\u001b[0;34m\u001b[0m\n\u001b[1;32m      4\u001b[0m     \u001b[0mmoes\u001b[0m\u001b[0;34m.\u001b[0m\u001b[0mtell\u001b[0m\u001b[0;34m(\u001b[0m\u001b[0msolutions\u001b[0m\u001b[0;34m,\u001b[0m \u001b[0mvalues\u001b[0m\u001b[0;34m)\u001b[0m\u001b[0;34m\u001b[0m\u001b[0;34m\u001b[0m\u001b[0m\n\u001b[1;32m      5\u001b[0m     \u001b[0mmoes\u001b[0m\u001b[0;34m.\u001b[0m\u001b[0mlogger\u001b[0m\u001b[0;34m.\u001b[0m\u001b[0madd\u001b[0m\u001b[0;34m(\u001b[0m\u001b[0;34m)\u001b[0m\u001b[0;34m\u001b[0m\u001b[0;34m\u001b[0m\u001b[0m\n\u001b[0;32m----> 6\u001b[0;31m     \u001b[0mmoes\u001b[0m\u001b[0;34m.\u001b[0m\u001b[0mdisp\u001b[0m\u001b[0;34m(\u001b[0m\u001b[0;34m)\u001b[0m\u001b[0;34m\u001b[0m\u001b[0;34m\u001b[0m\u001b[0m\n\u001b[0m\u001b[1;32m      7\u001b[0m     \u001b[0mprint\u001b[0m\u001b[0;34m(\u001b[0m\u001b[0mmoes\u001b[0m\u001b[0;34m.\u001b[0m\u001b[0mnum_kernels\u001b[0m\u001b[0;34m,\u001b[0m \u001b[0mend\u001b[0m\u001b[0;34m=\u001b[0m\u001b[0;34m''\u001b[0m\u001b[0;34m)\u001b[0m\u001b[0;34m\u001b[0m\u001b[0;34m\u001b[0m\u001b[0m\n",
      "\u001b[0;32m~/Downloads/______phD/code-mo/comocma/como.py\u001b[0m in \u001b[0;36mdisp\u001b[0;34m(self, modulo)\u001b[0m\n\u001b[1;32m    564\u001b[0m                 \u001b[0mself\u001b[0m\u001b[0;34m.\u001b[0m\u001b[0mdisp_annotation\u001b[0m\u001b[0;34m(\u001b[0m\u001b[0;34m)\u001b[0m\u001b[0;34m\u001b[0m\u001b[0;34m\u001b[0m\u001b[0m\n\u001b[1;32m    565\u001b[0m \u001b[0;34m\u001b[0m\u001b[0m\n\u001b[0;32m--> 566\u001b[0;31m             if self.countiter > 0 and (self.stop() or self.countiter < 4\n\u001b[0m\u001b[1;32m    567\u001b[0m                               or self.countiter % modulo < 1):\n\u001b[1;32m    568\u001b[0m                 \u001b[0;32mtry\u001b[0m\u001b[0;34m:\u001b[0m\u001b[0;34m\u001b[0m\u001b[0;34m\u001b[0m\u001b[0m\n",
      "\u001b[0;32m~/Downloads/______phD/code-mo/comocma/como.py\u001b[0m in \u001b[0;36mstop\u001b[0;34m(self)\u001b[0m\n\u001b[1;32m    395\u001b[0m         \u001b[0;32mfor\u001b[0m \u001b[0mi\u001b[0m \u001b[0;32min\u001b[0m \u001b[0mrange\u001b[0m\u001b[0;34m(\u001b[0m\u001b[0mself\u001b[0m\u001b[0;34m.\u001b[0m\u001b[0mnum_kernels\u001b[0m\u001b[0;34m)\u001b[0m\u001b[0;34m:\u001b[0m\u001b[0;34m\u001b[0m\u001b[0;34m\u001b[0m\u001b[0m\n\u001b[1;32m    396\u001b[0m             \u001b[0;32mif\u001b[0m \u001b[0mself\u001b[0m\u001b[0;34m.\u001b[0m\u001b[0mkernels\u001b[0m\u001b[0;34m[\u001b[0m\u001b[0mi\u001b[0m\u001b[0;34m]\u001b[0m\u001b[0;34m.\u001b[0m\u001b[0mstop\u001b[0m\u001b[0;34m(\u001b[0m\u001b[0;34m)\u001b[0m\u001b[0;34m:\u001b[0m\u001b[0;34m\u001b[0m\u001b[0;34m\u001b[0m\u001b[0m\n\u001b[0;32m--> 397\u001b[0;31m                 \u001b[0mres\u001b[0m\u001b[0;34m[\u001b[0m\u001b[0mi\u001b[0m\u001b[0;34m]\u001b[0m \u001b[0;34m=\u001b[0m \u001b[0mself\u001b[0m\u001b[0;34m.\u001b[0m\u001b[0mkernels\u001b[0m\u001b[0;34m[\u001b[0m\u001b[0mi\u001b[0m\u001b[0;34m]\u001b[0m\u001b[0;34m.\u001b[0m\u001b[0mstop\u001b[0m\u001b[0;34m(\u001b[0m\u001b[0;34m)\u001b[0m\u001b[0;34m\u001b[0m\u001b[0;34m\u001b[0m\u001b[0m\n\u001b[0m\u001b[1;32m    398\u001b[0m             \u001b[0;32melse\u001b[0m\u001b[0;34m:\u001b[0m\u001b[0;34m\u001b[0m\u001b[0;34m\u001b[0m\u001b[0m\n\u001b[1;32m    399\u001b[0m                 \u001b[0;32mreturn\u001b[0m \u001b[0;32mFalse\u001b[0m\u001b[0;34m\u001b[0m\u001b[0;34m\u001b[0m\u001b[0m\n",
      "\u001b[0;32m~/Downloads/______phD/code-mo/comocma/como.py\u001b[0m in \u001b[0;36mstop\u001b[0;34m(self, check, ignore_list)\u001b[0m\n\u001b[1;32m    768\u001b[0m                                        'flat fitness', 'tolstagnation')\n\u001b[1;32m    769\u001b[0m \u001b[0;34m\u001b[0m\u001b[0m\n\u001b[0;32m--> 770\u001b[0;31m         \u001b[0;32mreturn\u001b[0m \u001b[0mcma\u001b[0m\u001b[0;34m.\u001b[0m\u001b[0mCMAEvolutionStrategy\u001b[0m\u001b[0;34m.\u001b[0m\u001b[0mstop\u001b[0m\u001b[0;34m(\u001b[0m\u001b[0mself\u001b[0m\u001b[0;34m,\u001b[0m \u001b[0mcheck\u001b[0m\u001b[0;34m,\u001b[0m \u001b[0mignore_list\u001b[0m \u001b[0;34m=\u001b[0m \u001b[0mto_be_ignored\u001b[0m\u001b[0;34m)\u001b[0m\u001b[0;34m\u001b[0m\u001b[0;34m\u001b[0m\u001b[0m\n\u001b[0m\u001b[1;32m    771\u001b[0m \u001b[0;34m\u001b[0m\u001b[0m\n\u001b[1;32m    772\u001b[0m     \u001b[0;32mdef\u001b[0m \u001b[0m_copy_light\u001b[0m\u001b[0;34m(\u001b[0m\u001b[0mself\u001b[0m\u001b[0;34m,\u001b[0m \u001b[0msigma\u001b[0m\u001b[0;34m=\u001b[0m\u001b[0;32mNone\u001b[0m\u001b[0;34m,\u001b[0m \u001b[0minopts\u001b[0m\u001b[0;34m=\u001b[0m\u001b[0;32mNone\u001b[0m\u001b[0;34m)\u001b[0m\u001b[0;34m:\u001b[0m\u001b[0;34m\u001b[0m\u001b[0;34m\u001b[0m\u001b[0m\n",
      "\u001b[0;32m~/Downloads/______phD/code-mo/comocma/cma/evolution_strategy.py\u001b[0m in \u001b[0;36mstop\u001b[0;34m(self, check, ignore_list)\u001b[0m\n\u001b[1;32m   1329\u001b[0m             \u001b[0mself\u001b[0m\u001b[0;34m.\u001b[0m\u001b[0mcallbackstop\u001b[0m \u001b[0;34m=\u001b[0m \u001b[0mutils\u001b[0m\u001b[0;34m.\u001b[0m\u001b[0mListOfCallables\u001b[0m\u001b[0;34m(\u001b[0m\u001b[0mself\u001b[0m\u001b[0;34m.\u001b[0m\u001b[0mopts\u001b[0m\u001b[0;34m[\u001b[0m\u001b[0;34m'termination_callback'\u001b[0m\u001b[0;34m]\u001b[0m\u001b[0;34m)\u001b[0m\u001b[0;34m(\u001b[0m\u001b[0mself\u001b[0m\u001b[0;34m)\u001b[0m\u001b[0;34m\u001b[0m\u001b[0;34m\u001b[0m\u001b[0m\n\u001b[1;32m   1330\u001b[0m \u001b[0;34m\u001b[0m\u001b[0m\n\u001b[0;32m-> 1331\u001b[0;31m         \u001b[0mres\u001b[0m \u001b[0;34m=\u001b[0m \u001b[0mself\u001b[0m\u001b[0;34m.\u001b[0m\u001b[0m_stopdict\u001b[0m\u001b[0;34m(\u001b[0m\u001b[0mself\u001b[0m\u001b[0;34m,\u001b[0m \u001b[0mcheck\u001b[0m\u001b[0;34m)\u001b[0m  \u001b[0;31m# update the stopdict and return a Dict (self)\u001b[0m\u001b[0;34m\u001b[0m\u001b[0;34m\u001b[0m\u001b[0m\n\u001b[0m\u001b[1;32m   1332\u001b[0m         \u001b[0;32mif\u001b[0m \u001b[0mignore_list\u001b[0m\u001b[0;34m:\u001b[0m\u001b[0;34m\u001b[0m\u001b[0;34m\u001b[0m\u001b[0m\n\u001b[1;32m   1333\u001b[0m             \u001b[0;32mfor\u001b[0m \u001b[0mkey\u001b[0m \u001b[0;32min\u001b[0m \u001b[0mignore_list\u001b[0m\u001b[0;34m:\u001b[0m\u001b[0;34m\u001b[0m\u001b[0;34m\u001b[0m\u001b[0m\n",
      "\u001b[0;32m~/Downloads/______phD/code-mo/comocma/cma/evolution_strategy.py\u001b[0m in \u001b[0;36m__call__\u001b[0;34m(self, es, check)\u001b[0m\n\u001b[1;32m   3372\u001b[0m         \u001b[0;32mif\u001b[0m \u001b[0mes\u001b[0m \u001b[0;32mis\u001b[0m \u001b[0;32mNone\u001b[0m \u001b[0;32mand\u001b[0m \u001b[0mself\u001b[0m\u001b[0;34m.\u001b[0m\u001b[0mes\u001b[0m \u001b[0;32mis\u001b[0m \u001b[0;32mNone\u001b[0m\u001b[0;34m:\u001b[0m\u001b[0;34m\u001b[0m\u001b[0;34m\u001b[0m\u001b[0m\n\u001b[1;32m   3373\u001b[0m             \u001b[0;32mraise\u001b[0m \u001b[0mValueError\u001b[0m\u001b[0;34m(\u001b[0m\u001b[0;34m'termination conditions need an optimizer to act upon'\u001b[0m\u001b[0;34m)\u001b[0m\u001b[0;34m\u001b[0m\u001b[0;34m\u001b[0m\u001b[0m\n\u001b[0;32m-> 3374\u001b[0;31m         \u001b[0mself\u001b[0m\u001b[0;34m.\u001b[0m\u001b[0m_update\u001b[0m\u001b[0;34m(\u001b[0m\u001b[0mes\u001b[0m\u001b[0;34m)\u001b[0m\u001b[0;34m\u001b[0m\u001b[0;34m\u001b[0m\u001b[0m\n\u001b[0m\u001b[1;32m   3375\u001b[0m         \u001b[0;32mreturn\u001b[0m \u001b[0mself\u001b[0m\u001b[0;34m\u001b[0m\u001b[0;34m\u001b[0m\u001b[0m\n\u001b[1;32m   3376\u001b[0m \u001b[0;34m\u001b[0m\u001b[0m\n",
      "\u001b[0;32m~/Downloads/______phD/code-mo/comocma/cma/evolution_strategy.py\u001b[0m in \u001b[0;36m_update\u001b[0;34m(self, es)\u001b[0m\n\u001b[1;32m   3398\u001b[0m         \u001b[0mself\u001b[0m\u001b[0;34m.\u001b[0m\u001b[0mes\u001b[0m \u001b[0;34m=\u001b[0m \u001b[0mes\u001b[0m\u001b[0;34m\u001b[0m\u001b[0;34m\u001b[0m\u001b[0m\n\u001b[1;32m   3399\u001b[0m \u001b[0;34m\u001b[0m\u001b[0m\n\u001b[0;32m-> 3400\u001b[0;31m         \u001b[0mself\u001b[0m\u001b[0;34m.\u001b[0m\u001b[0mclear\u001b[0m\u001b[0;34m(\u001b[0m\u001b[0;34m)\u001b[0m  \u001b[0;31m# compute conditions from scratch\u001b[0m\u001b[0;34m\u001b[0m\u001b[0;34m\u001b[0m\u001b[0m\n\u001b[0m\u001b[1;32m   3401\u001b[0m \u001b[0;34m\u001b[0m\u001b[0m\n\u001b[1;32m   3402\u001b[0m         \u001b[0mN\u001b[0m \u001b[0;34m=\u001b[0m \u001b[0mes\u001b[0m\u001b[0;34m.\u001b[0m\u001b[0mN\u001b[0m\u001b[0;34m\u001b[0m\u001b[0;34m\u001b[0m\u001b[0m\n",
      "\u001b[0;32m~/Downloads/______phD/code-mo/comocma/cma/evolution_strategy.py\u001b[0m in \u001b[0;36mclear\u001b[0;34m(self)\u001b[0m\n\u001b[1;32m   3551\u001b[0m     \u001b[0;32mdef\u001b[0m \u001b[0mclear\u001b[0m\u001b[0;34m(\u001b[0m\u001b[0mself\u001b[0m\u001b[0;34m)\u001b[0m\u001b[0;34m:\u001b[0m\u001b[0;34m\u001b[0m\u001b[0;34m\u001b[0m\u001b[0m\n\u001b[1;32m   3552\u001b[0m         \u001b[0;34m\"\"\"empty the stopdict\"\"\"\u001b[0m\u001b[0;34m\u001b[0m\u001b[0;34m\u001b[0m\u001b[0m\n\u001b[0;32m-> 3553\u001b[0;31m         \u001b[0;32mfor\u001b[0m \u001b[0mk\u001b[0m \u001b[0;32min\u001b[0m \u001b[0mlist\u001b[0m\u001b[0;34m(\u001b[0m\u001b[0mself\u001b[0m\u001b[0;34m)\u001b[0m\u001b[0;34m:\u001b[0m\u001b[0;34m\u001b[0m\u001b[0;34m\u001b[0m\u001b[0m\n\u001b[0m\u001b[1;32m   3554\u001b[0m             \u001b[0mself\u001b[0m\u001b[0;34m.\u001b[0m\u001b[0mpop\u001b[0m\u001b[0;34m(\u001b[0m\u001b[0mk\u001b[0m\u001b[0;34m)\u001b[0m\u001b[0;34m\u001b[0m\u001b[0;34m\u001b[0m\u001b[0m\n\u001b[1;32m   3555\u001b[0m         \u001b[0mself\u001b[0m\u001b[0;34m.\u001b[0m\u001b[0mstoplist\u001b[0m \u001b[0;34m=\u001b[0m \u001b[0;34m[\u001b[0m\u001b[0;34m]\u001b[0m\u001b[0;34m\u001b[0m\u001b[0;34m\u001b[0m\u001b[0m\n",
      "\u001b[0;31mKeyboardInterrupt\u001b[0m: "
     ]
    }
   ],
   "source": [
    "while not moes.stop():\n",
    "    solutions = moes.ask()\n",
    "    values = [fitness(x) for x in solutions]\n",
    "    moes.tell(solutions, values)\n",
    "    moes.logger.add()\n",
    "    moes.disp()\n",
    "    print(moes.num_kernels, end='')\n"
   ]
  },
  {
   "cell_type": "code",
   "execution_count": null,
   "metadata": {},
   "outputs": [],
   "source": []
  },
  {
   "cell_type": "code",
   "execution_count": 10,
   "metadata": {
    "scrolled": false
   },
   "outputs": [
    {
     "name": "stdout",
     "output_type": "stream",
     "text": [
      "Iterat #Fevals   Hypervolume   axis ratios   sigmas   min&max stds\n",
      "                                  (median)  (median)    (median)\n",
      "    1     21 1.100000000000001e-01 1.0e+00 2.00e-01  2e-01  2e-01\n",
      "    2     32 3.277009245439056e-01 1.0e+00 2.00e-01  2e-01  2e-01\n",
      "    3     43 3.287472756387201e-01 1.0e+00 2.00e-01  2e-01  2e-01\n",
      "   50    560 6.486629175602032e-01 1.3e+00 1.63e-01  2e-01  2e-01\n",
      "  100   1110 9.096275521228371e-01 1.7e+00 1.58e-01  1e-01  2e-01\n",
      "  150   1660 9.695734533306061e-01 1.7e+00 1.34e-01  1e-01  1e-01\n",
      "  200   2210 9.858905837205756e-01 1.7e+00 1.09e-01  8e-02  1e-01\n",
      "  250   2760 9.898100847773237e-01 1.7e+00 1.05e-01  8e-02  1e-01\n",
      "  300   3310 1.000978167622940e+00 1.8e+00 8.55e-02  6e-02  8e-02\n",
      "  350   3860 1.005929365314005e+00 1.8e+00 6.71e-02  5e-02  6e-02\n",
      "  400   4410 1.008846535725925e+00 1.8e+00 5.94e-02  4e-02  5e-02\n",
      "  450   4960 1.009884505242544e+00 1.9e+00 4.83e-02  3e-02  4e-02\n",
      "  500   5510 1.010958059271894e+00 2.0e+00 3.69e-02  2e-02  4e-02\n",
      "  550   6060 1.011346321744337e+00 2.1e+00 2.91e-02  2e-02  2e-02\n",
      "  600   6610 1.011695592784516e+00 2.2e+00 2.13e-02  1e-02  2e-02\n",
      "  650   7160 1.011901934844797e+00 2.2e+00 1.67e-02  9e-03  1e-02\n",
      "  700   7710 1.012004621560527e+00 2.3e+00 1.51e-02  9e-03  1e-02\n",
      "  750   8260 1.012046461045671e+00 2.2e+00 1.15e-02  7e-03  8e-03\n",
      "  800   8810 1.012092968367883e+00 2.3e+00 8.48e-03  5e-03  6e-03\n",
      "  850   9360 1.012121319093998e+00 2.3e+00 6.33e-03  3e-03  4e-03\n",
      "  900   9910 1.012130018269541e+00 2.3e+00 6.22e-03  3e-03  4e-03\n",
      "  950  10460 1.012143598808076e+00 2.3e+00 4.63e-03  2e-03  3e-03\n",
      " 1000  11012 1.012153743066490e+00 2.2e+00 3.97e-03  2e-03  2e-03\n",
      " 1050  11562 1.012160108822987e+00 2.2e+00 4.10e-03  2e-03  2e-03\n",
      " 1100  12112 1.012166031058687e+00 2.2e+00 4.14e-03  2e-03  2e-03\n"
     ]
    },
    {
     "ename": "KeyboardInterrupt",
     "evalue": "",
     "output_type": "error",
     "traceback": [
      "\u001b[0;31m---------------------------------------------------------------------------\u001b[0m",
      "\u001b[0;31mKeyboardInterrupt\u001b[0m                         Traceback (most recent call last)",
      "\u001b[0;32m<ipython-input-10-0184556fa6e2>\u001b[0m in \u001b[0;36m<module>\u001b[0;34m\u001b[0m\n\u001b[0;32m----> 1\u001b[0;31m \u001b[0mmoes\u001b[0m\u001b[0;34m.\u001b[0m\u001b[0moptimize\u001b[0m\u001b[0;34m(\u001b[0m\u001b[0mfitness\u001b[0m\u001b[0;34m)\u001b[0m\u001b[0;34m\u001b[0m\u001b[0;34m\u001b[0m\u001b[0m\n\u001b[0m",
      "\u001b[0;32m~/Downloads/______phD/code-mo/comocma/cma/interfaces.py\u001b[0m in \u001b[0;36moptimize\u001b[0;34m(self, objective_fct, maxfun, iterations, min_iterations, args, verb_disp, callback)\u001b[0m\n\u001b[1;32m    183\u001b[0m             \u001b[0mself\u001b[0m\u001b[0;34m.\u001b[0m\u001b[0mtell\u001b[0m\u001b[0;34m(\u001b[0m\u001b[0mX\u001b[0m\u001b[0;34m,\u001b[0m \u001b[0mfitvals\u001b[0m\u001b[0;34m)\u001b[0m  \u001b[0;31m# all the work is done here\u001b[0m\u001b[0;34m\u001b[0m\u001b[0;34m\u001b[0m\u001b[0m\n\u001b[1;32m    184\u001b[0m             \u001b[0;32mfor\u001b[0m \u001b[0mf\u001b[0m \u001b[0;32min\u001b[0m \u001b[0mcallback\u001b[0m\u001b[0;34m:\u001b[0m\u001b[0;34m\u001b[0m\u001b[0;34m\u001b[0m\u001b[0m\n\u001b[0;32m--> 185\u001b[0;31m                 \u001b[0mf\u001b[0m\u001b[0;34m(\u001b[0m\u001b[0mself\u001b[0m\u001b[0;34m)\u001b[0m\u001b[0;34m\u001b[0m\u001b[0;34m\u001b[0m\u001b[0m\n\u001b[0m\u001b[1;32m    186\u001b[0m             \u001b[0mself\u001b[0m\u001b[0;34m.\u001b[0m\u001b[0mdisp\u001b[0m\u001b[0;34m(\u001b[0m\u001b[0mverb_disp\u001b[0m\u001b[0;34m)\u001b[0m  \u001b[0;31m# disp does nothing if not overwritten\u001b[0m\u001b[0;34m\u001b[0m\u001b[0;34m\u001b[0m\u001b[0m\n\u001b[1;32m    187\u001b[0m \u001b[0;34m\u001b[0m\u001b[0m\n",
      "\u001b[0;32m~/Downloads/______phD/code-mo/comocma/sofomore_logger.py\u001b[0m in \u001b[0;36madd\u001b[0;34m(self, es, more_data, modulo)\u001b[0m\n\u001b[1;32m    287\u001b[0m \u001b[0;34m\u001b[0m\u001b[0m\n\u001b[1;32m    288\u001b[0m \u001b[0;34m\u001b[0m\u001b[0m\n\u001b[0;32m--> 289\u001b[0;31m         \u001b[0mfirst_quartile_ratio_offspring_incumbent\u001b[0m \u001b[0;34m=\u001b[0m \u001b[0mnp\u001b[0m\u001b[0;34m.\u001b[0m\u001b[0mpercentile\u001b[0m\u001b[0;34m(\u001b[0m\u001b[0mes\u001b[0m\u001b[0;34m.\u001b[0m\u001b[0m_ratio_nondom_offspring_incumbent\u001b[0m\u001b[0;34m,\u001b[0m \u001b[0;36m25\u001b[0m\u001b[0;34m)\u001b[0m\u001b[0;34m;\u001b[0m\u001b[0;34m\u001b[0m\u001b[0;34m\u001b[0m\u001b[0m\n\u001b[0m\u001b[1;32m    290\u001b[0m         \u001b[0mmedian_ratio_offspring_incumbent\u001b[0m \u001b[0;34m=\u001b[0m \u001b[0mnp\u001b[0m\u001b[0;34m.\u001b[0m\u001b[0mpercentile\u001b[0m\u001b[0;34m(\u001b[0m\u001b[0mes\u001b[0m\u001b[0;34m.\u001b[0m\u001b[0m_ratio_nondom_offspring_incumbent\u001b[0m\u001b[0;34m,\u001b[0m \u001b[0;36m50\u001b[0m\u001b[0;34m)\u001b[0m\u001b[0;34m;\u001b[0m\u001b[0;34m\u001b[0m\u001b[0;34m\u001b[0m\u001b[0m\n\u001b[1;32m    291\u001b[0m         \u001b[0mlast_quartile_ratio_offspring_incumbent\u001b[0m \u001b[0;34m=\u001b[0m \u001b[0mnp\u001b[0m\u001b[0;34m.\u001b[0m\u001b[0mpercentile\u001b[0m\u001b[0;34m(\u001b[0m\u001b[0mes\u001b[0m\u001b[0;34m.\u001b[0m\u001b[0m_ratio_nondom_offspring_incumbent\u001b[0m\u001b[0;34m,\u001b[0m \u001b[0;36m75\u001b[0m\u001b[0;34m)\u001b[0m\u001b[0;34m;\u001b[0m\u001b[0;34m\u001b[0m\u001b[0;34m\u001b[0m\u001b[0m\n",
      "\u001b[0;32m<__array_function__ internals>\u001b[0m in \u001b[0;36mpercentile\u001b[0;34m(*args, **kwargs)\u001b[0m\n",
      "\u001b[0;32m~/opt/anaconda3/lib/python3.7/site-packages/numpy/lib/function_base.py\u001b[0m in \u001b[0;36mpercentile\u001b[0;34m(a, q, axis, out, overwrite_input, interpolation, keepdims)\u001b[0m\n\u001b[1;32m   3711\u001b[0m         \u001b[0;32mraise\u001b[0m \u001b[0mValueError\u001b[0m\u001b[0;34m(\u001b[0m\u001b[0;34m\"Percentiles must be in the range [0, 100]\"\u001b[0m\u001b[0;34m)\u001b[0m\u001b[0;34m\u001b[0m\u001b[0;34m\u001b[0m\u001b[0m\n\u001b[1;32m   3712\u001b[0m     return _quantile_unchecked(\n\u001b[0;32m-> 3713\u001b[0;31m         a, q, axis, out, overwrite_input, interpolation, keepdims)\n\u001b[0m\u001b[1;32m   3714\u001b[0m \u001b[0;34m\u001b[0m\u001b[0m\n\u001b[1;32m   3715\u001b[0m \u001b[0;34m\u001b[0m\u001b[0m\n",
      "\u001b[0;32m~/opt/anaconda3/lib/python3.7/site-packages/numpy/lib/function_base.py\u001b[0m in \u001b[0;36m_quantile_unchecked\u001b[0;34m(a, q, axis, out, overwrite_input, interpolation, keepdims)\u001b[0m\n\u001b[1;32m   3831\u001b[0m     r, k = _ureduce(a, func=_quantile_ureduce_func, q=q, axis=axis, out=out,\n\u001b[1;32m   3832\u001b[0m                     \u001b[0moverwrite_input\u001b[0m\u001b[0;34m=\u001b[0m\u001b[0moverwrite_input\u001b[0m\u001b[0;34m,\u001b[0m\u001b[0;34m\u001b[0m\u001b[0;34m\u001b[0m\u001b[0m\n\u001b[0;32m-> 3833\u001b[0;31m                     interpolation=interpolation)\n\u001b[0m\u001b[1;32m   3834\u001b[0m     \u001b[0;32mif\u001b[0m \u001b[0mkeepdims\u001b[0m\u001b[0;34m:\u001b[0m\u001b[0;34m\u001b[0m\u001b[0;34m\u001b[0m\u001b[0m\n\u001b[1;32m   3835\u001b[0m         \u001b[0;32mreturn\u001b[0m \u001b[0mr\u001b[0m\u001b[0;34m.\u001b[0m\u001b[0mreshape\u001b[0m\u001b[0;34m(\u001b[0m\u001b[0mq\u001b[0m\u001b[0;34m.\u001b[0m\u001b[0mshape\u001b[0m \u001b[0;34m+\u001b[0m \u001b[0mk\u001b[0m\u001b[0;34m)\u001b[0m\u001b[0;34m\u001b[0m\u001b[0;34m\u001b[0m\u001b[0m\n",
      "\u001b[0;32m~/opt/anaconda3/lib/python3.7/site-packages/numpy/lib/function_base.py\u001b[0m in \u001b[0;36m_ureduce\u001b[0;34m(a, func, **kwargs)\u001b[0m\n\u001b[1;32m   3408\u001b[0m         \u001b[0mkeepdim\u001b[0m \u001b[0;34m=\u001b[0m \u001b[0;34m(\u001b[0m\u001b[0;36m1\u001b[0m\u001b[0;34m,\u001b[0m\u001b[0;34m)\u001b[0m \u001b[0;34m*\u001b[0m \u001b[0ma\u001b[0m\u001b[0;34m.\u001b[0m\u001b[0mndim\u001b[0m\u001b[0;34m\u001b[0m\u001b[0;34m\u001b[0m\u001b[0m\n\u001b[1;32m   3409\u001b[0m \u001b[0;34m\u001b[0m\u001b[0m\n\u001b[0;32m-> 3410\u001b[0;31m     \u001b[0mr\u001b[0m \u001b[0;34m=\u001b[0m \u001b[0mfunc\u001b[0m\u001b[0;34m(\u001b[0m\u001b[0ma\u001b[0m\u001b[0;34m,\u001b[0m \u001b[0;34m**\u001b[0m\u001b[0mkwargs\u001b[0m\u001b[0;34m)\u001b[0m\u001b[0;34m\u001b[0m\u001b[0;34m\u001b[0m\u001b[0m\n\u001b[0m\u001b[1;32m   3411\u001b[0m     \u001b[0;32mreturn\u001b[0m \u001b[0mr\u001b[0m\u001b[0;34m,\u001b[0m \u001b[0mkeepdim\u001b[0m\u001b[0;34m\u001b[0m\u001b[0;34m\u001b[0m\u001b[0m\n\u001b[1;32m   3412\u001b[0m \u001b[0;34m\u001b[0m\u001b[0m\n",
      "\u001b[0;32m~/opt/anaconda3/lib/python3.7/site-packages/numpy/lib/function_base.py\u001b[0m in \u001b[0;36m_quantile_ureduce_func\u001b[0;34m(a, q, axis, out, overwrite_input, interpolation, keepdims)\u001b[0m\n\u001b[1;32m   3895\u001b[0m             \"'midpoint', or 'nearest'\")\n\u001b[1;32m   3896\u001b[0m \u001b[0;34m\u001b[0m\u001b[0m\n\u001b[0;32m-> 3897\u001b[0;31m     \u001b[0mn\u001b[0m \u001b[0;34m=\u001b[0m \u001b[0mnp\u001b[0m\u001b[0;34m.\u001b[0m\u001b[0marray\u001b[0m\u001b[0;34m(\u001b[0m\u001b[0;32mFalse\u001b[0m\u001b[0;34m,\u001b[0m \u001b[0mdtype\u001b[0m\u001b[0;34m=\u001b[0m\u001b[0mbool\u001b[0m\u001b[0;34m)\u001b[0m \u001b[0;31m# check for nan's flag\u001b[0m\u001b[0;34m\u001b[0m\u001b[0;34m\u001b[0m\u001b[0m\n\u001b[0m\u001b[1;32m   3898\u001b[0m     \u001b[0;32mif\u001b[0m \u001b[0mindices\u001b[0m\u001b[0;34m.\u001b[0m\u001b[0mdtype\u001b[0m \u001b[0;34m==\u001b[0m \u001b[0mintp\u001b[0m\u001b[0;34m:\u001b[0m  \u001b[0;31m# take the points along axis\u001b[0m\u001b[0;34m\u001b[0m\u001b[0;34m\u001b[0m\u001b[0m\n\u001b[1;32m   3899\u001b[0m         \u001b[0;31m# Check if the array contains any nan's\u001b[0m\u001b[0;34m\u001b[0m\u001b[0;34m\u001b[0m\u001b[0;34m\u001b[0m\u001b[0m\n",
      "\u001b[0;31mKeyboardInterrupt\u001b[0m: "
     ]
    }
   ],
   "source": [
    "moes.optimize(fitness)"
   ]
  },
  {
   "cell_type": "code",
   "execution_count": 17,
   "metadata": {},
   "outputs": [
    {
     "data": {
      "text/plain": [
       "{'AdaptSigma': True,\n",
       " 'CMA_active': True,\n",
       " 'CMA_cmean': 1,\n",
       " 'CMA_const_trace': False,\n",
       " 'CMA_diagonal': 0.0,\n",
       " 'CMA_eigenmethod': <function numpy.linalg.eigh(a, UPLO='L')>,\n",
       " 'CMA_elitist': False,\n",
       " 'CMA_injections_threshold_keep_len': 0,\n",
       " 'CMA_mirrors': False,\n",
       " 'CMA_mirrormethod': 2,\n",
       " 'CMA_mu': None,\n",
       " 'CMA_on': 1,\n",
       " 'CMA_sampler': None,\n",
       " 'CMA_sampler_options': {},\n",
       " 'CMA_rankmu': 1.0,\n",
       " 'CMA_rankone': 1.0,\n",
       " 'CMA_recombination_weights': None,\n",
       " 'CMA_dampsvec_fac': inf,\n",
       " 'CMA_dampsvec_fade': 0.1,\n",
       " 'CMA_teststds': None,\n",
       " 'CMA_stds': None,\n",
       " 'CSA_dampfac': 1,\n",
       " 'CSA_damp_mueff_exponent': 0.5,\n",
       " 'CSA_disregard_length': False,\n",
       " 'CSA_clip_length_value': None,\n",
       " 'CSA_squared': False,\n",
       " 'BoundaryHandler': cma.constraints_handler.BoundTransform,\n",
       " 'bounds': [[None], [None]],\n",
       " 'conditioncov_alleviate': [inf, inf],\n",
       " 'eval_final_mean': True,\n",
       " 'fixed_variables': None,\n",
       " 'ftarget': -inf,\n",
       " 'integer_variables': [],\n",
       " 'is_feasible': <function cma.evolution_strategy.is_feasible(x, f)>,\n",
       " 'maxfevals': inf,\n",
       " 'maxiter': 8116.0,\n",
       " 'mean_shift_line_samples': False,\n",
       " 'mindx': 0,\n",
       " 'minstd': 0.0,\n",
       " 'maxstd': inf,\n",
       " 'pc_line_samples': False,\n",
       " 'popsize': 10,\n",
       " 'randn': <function RandomState.randn>,\n",
       " 'scaling_of_variables': None,\n",
       " 'seed': 952730,\n",
       " 'signals_filename': 'cma_signals.in',\n",
       " 'termination_callback': [],\n",
       " 'timeout': inf,\n",
       " 'tolconditioncov': 100000000000000.0,\n",
       " 'tolfacupx': 1000.0,\n",
       " 'tolupsigma': 1e+20,\n",
       " 'tolflatfitness': 1,\n",
       " 'tolfun': 1e-11,\n",
       " 'tolfunhist': 1e-12,\n",
       " 'tolfunrel': 0,\n",
       " 'tolstagnation': 416,\n",
       " 'tolx': 0.1,\n",
       " 'transformation': None,\n",
       " 'typical_x': None,\n",
       " 'updatecovwait': None,\n",
       " 'verbose': -1,\n",
       " 'verb_append': 0,\n",
       " 'verb_disp': 100,\n",
       " 'verb_filenameprefix': 'cma_kernels/45',\n",
       " 'verb_log': 1,\n",
       " 'verb_log_expensive': 10,\n",
       " 'verb_plot': 0,\n",
       " 'verb_time': True,\n",
       " 'vv': {}}"
      ]
     },
     "execution_count": 17,
     "metadata": {},
     "output_type": "execute_result"
    }
   ],
   "source": [
    "moes[-1].opts"
   ]
  },
  {
   "cell_type": "code",
   "execution_count": null,
   "metadata": {},
   "outputs": [],
   "source": [
    "a.reference_point"
   ]
  },
  {
   "cell_type": "code",
   "execution_count": null,
   "metadata": {},
   "outputs": [],
   "source": [
    "refpoint = [110, 110]\n",
    "num_kernels = 11\n",
    "sigma0 = 1\n",
    "fun1 = lambda x: sum(np.abs(x)**0.8 + 5 * np.sin(x**3))\n",
    "fun2 = lambda x: (10. * len(x) + sum( x**2 -10. * np.cos(2. * np.pi * x)))/5 #rastrigin\n",
    "fitness = como.FitFun(fun1, fun2)"
   ]
  },
  {
   "cell_type": "code",
   "execution_count": null,
   "metadata": {},
   "outputs": [],
   "source": []
  },
  {
   "cell_type": "code",
   "execution_count": null,
   "metadata": {},
   "outputs": [],
   "source": []
  },
  {
   "cell_type": "code",
   "execution_count": null,
   "metadata": {},
   "outputs": [],
   "source": [
    "moes.optimize(fitness)"
   ]
  },
  {
   "cell_type": "code",
   "execution_count": null,
   "metadata": {},
   "outputs": [],
   "source": [
    "tab = [kernel.objective_values for kernel in moes.kernels]\n",
    "tab0 = [u[0] for u in tab]\n",
    "tab1 = [u[1] for u in tab]"
   ]
  },
  {
   "cell_type": "code",
   "execution_count": null,
   "metadata": {
    "scrolled": false
   },
   "outputs": [],
   "source": [
    "figure()\n",
    "plot(tab0, tab1, 'o')"
   ]
  },
  {
   "cell_type": "code",
   "execution_count": null,
   "metadata": {},
   "outputs": [],
   "source": [
    "figure()\n",
    "moes.logger.plot_front()"
   ]
  },
  {
   "cell_type": "code",
   "execution_count": null,
   "metadata": {},
   "outputs": [],
   "source": [
    "len(moes.pareto_front)"
   ]
  },
  {
   "cell_type": "code",
   "execution_count": null,
   "metadata": {},
   "outputs": [],
   "source": [
    "sorted(tab)"
   ]
  },
  {
   "cell_type": "code",
   "execution_count": null,
   "metadata": {},
   "outputs": [],
   "source": [
    "figure()\n",
    "moes.logger.plot_divers()"
   ]
  },
  {
   "cell_type": "code",
   "execution_count": null,
   "metadata": {},
   "outputs": [],
   "source": [
    "moes.pareto_front"
   ]
  },
  {
   "cell_type": "code",
   "execution_count": null,
   "metadata": {},
   "outputs": [],
   "source": [
    "[moes.kernels[i].incumbent for i in range(moes.num_kernels)]"
   ]
  },
  {
   "cell_type": "code",
   "execution_count": null,
   "metadata": {},
   "outputs": [],
   "source": [
    "[1 / np.pi * sum(x) for x in moes.pareto_set]"
   ]
  },
  {
   "cell_type": "code",
   "execution_count": null,
   "metadata": {},
   "outputs": [],
   "source": [
    "[1 / np.pi * sum(x) for x in moes.pareto_set]"
   ]
  },
  {
   "cell_type": "code",
   "execution_count": null,
   "metadata": {},
   "outputs": [],
   "source": [
    "[1 / np.pi * sum(x) for x in moes.pareto_set]"
   ]
  },
  {
   "cell_type": "code",
   "execution_count": null,
   "metadata": {},
   "outputs": [],
   "source": [
    "[1 / np.pi * sum(moes.kernels[i].incumbent) for i in range(moes.num_kernels)]"
   ]
  },
  {
   "cell_type": "code",
   "execution_count": null,
   "metadata": {},
   "outputs": [],
   "source": [
    "[moes.kernels[i].objective_values for i in range(moes.num_kernels)]"
   ]
  },
  {
   "cell_type": "code",
   "execution_count": null,
   "metadata": {},
   "outputs": [],
   "source": [
    "moes"
   ]
  },
  {
   "cell_type": "code",
   "execution_count": null,
   "metadata": {},
   "outputs": [],
   "source": [
    "newes = moes.kernels[0]._copy_light()"
   ]
  },
  {
   "cell_type": "code",
   "execution_count": null,
   "metadata": {},
   "outputs": [],
   "source": [
    "newes"
   ]
  },
  {
   "cell_type": "code",
   "execution_count": null,
   "metadata": {},
   "outputs": [],
   "source": [
    "type(moes)"
   ]
  },
  {
   "cell_type": "code",
   "execution_count": null,
   "metadata": {},
   "outputs": [],
   "source": [
    "newes.__class__"
   ]
  },
  {
   "cell_type": "code",
   "execution_count": null,
   "metadata": {},
   "outputs": [],
   "source": [
    "es = cma.CMAEvolutionStrategy(7 * [0], 0.2)"
   ]
  },
  {
   "cell_type": "code",
   "execution_count": null,
   "metadata": {},
   "outputs": [],
   "source": [
    "es.N"
   ]
  },
  {
   "cell_type": "code",
   "execution_count": null,
   "metadata": {},
   "outputs": [],
   "source": []
  }
 ],
 "metadata": {
  "kernelspec": {
   "display_name": "Python 3",
   "language": "python",
   "name": "python3"
  },
  "language_info": {
   "codemirror_mode": {
    "name": "ipython",
    "version": 3
   },
   "file_extension": ".py",
   "mimetype": "text/x-python",
   "name": "python",
   "nbconvert_exporter": "python",
   "pygments_lexer": "ipython3",
   "version": "3.7.5"
  }
 },
 "nbformat": 4,
 "nbformat_minor": 2
}
