{
 "cells": [
  {
   "cell_type": "code",
   "execution_count": 1,
   "metadata": {},
   "outputs": [
    {
     "name": "stdout",
     "output_type": "stream",
     "text": [
      "Populating the interactive namespace from numpy and matplotlib\n"
     ]
    }
   ],
   "source": [
    "%pylab nbagg"
   ]
  },
  {
   "cell_type": "code",
   "execution_count": 2,
   "metadata": {},
   "outputs": [],
   "source": [
    "import sys\n",
    "sys.path.insert(0, \"../comocma/\")"
   ]
  },
  {
   "cell_type": "code",
   "execution_count": 3,
   "metadata": {},
   "outputs": [],
   "source": [
    "import como, cma\n",
    "import numpy as np\n",
    "import functools"
   ]
  },
  {
   "cell_type": "code",
   "execution_count": 4,
   "metadata": {},
   "outputs": [],
   "source": [
    "dimension = 10  # dimension of the search space\n",
    "num_kernels = 11 # number of single-objective solvers (number of points on the front)"
   ]
  },
  {
   "cell_type": "code",
   "execution_count": 5,
   "metadata": {},
   "outputs": [
    {
     "data": {
      "text/plain": [
       "['../comocma/',\n",
       " '/Users/tourealite/Downloads/______phD/code-mo/ipython-notebooks',\n",
       " '/Users/tourealite/opt/anaconda3/lib/python37.zip',\n",
       " '/Users/tourealite/opt/anaconda3/lib/python3.7',\n",
       " '/Users/tourealite/opt/anaconda3/lib/python3.7/lib-dynload',\n",
       " '',\n",
       " '/Users/tourealite/opt/anaconda3/lib/python3.7/site-packages',\n",
       " '/Users/tourealite/opt/anaconda3/lib/python3.7/site-packages/aeosa',\n",
       " '/Users/tourealite/Downloads/______phD/code-mo',\n",
       " '/Users/tourealite/opt/anaconda3/lib/python3.7/site-packages/IPython/extensions',\n",
       " '/Users/tourealite/.ipython']"
      ]
     },
     "execution_count": 5,
     "metadata": {},
     "output_type": "execute_result"
    }
   ],
   "source": [
    "sys.path"
   ]
  },
  {
   "cell_type": "code",
   "execution_count": 6,
   "metadata": {},
   "outputs": [],
   "source": [
    "sigma0 = 0.2    # initial step-sizes\n",
    "cma_opts = {'tolx': 10**-3, 'tolfunrel':10**-4}\n",
    "#my_random_restart_function = functools.partial(como.random_restart_kernel,\n",
    "#                                            opts={'tolx':10**-1, 'tolfunrel':10**-4})\n",
    "\n",
    "inopts = {'restart': None} \n",
    "\n",
    "refpoint = [1.1, 1.1]\n",
    "\n",
    "fitness = como.FitFun(lambda x: 1 / len(x) * cma.ff.sphere(x), lambda x: 1 / len(x) * cma.ff.sphere(x-1)) # a callable bi-objective function"
   ]
  },
  {
   "cell_type": "code",
   "execution_count": 7,
   "metadata": {},
   "outputs": [],
   "source": [
    "#list_of_solvers = como.get_cmas(solutions, sigma0, cma_opts) # produce `num_kernels cma instances`\n",
    "list_of_solvers = como.get_cmas(num_kernels * [dimension * [0]], sigma0, cma_opts) # produce `num_kernels cma instances`\n",
    "moes = como.Sofomore(list_of_solvers, opts=inopts, reference_point=refpoint) # create a como-cma-es instance"
   ]
  },
  {
   "cell_type": "code",
   "execution_count": 8,
   "metadata": {},
   "outputs": [
    {
     "name": "stdout",
     "output_type": "stream",
     "text": [
      "Iterat #Fevals   Hypervolume   axis ratios   sigmas   min&max stds\n",
      "                                  (median)  (median)    (median)\n",
      "    1     21 1.100000000000001e-01 1.0e+00 2.00e-01  2e-01  2e-01\n",
      "    2     32 1.100000000000001e-01 1.0e+00 2.00e-01  2e-01  2e-01\n",
      "    3     43 3.100386990142620e-01 1.0e+00 2.00e-01  2e-01  2e-01\n",
      "  100   1110 9.054434857708813e-01 1.6e+00 1.47e-01  1e-01  1e-01\n",
      "  200   2210 9.802222227785842e-01 1.7e+00 1.35e-01  1e-01  1e-01\n",
      "  300   3310 1.002119868526988e+00 1.8e+00 9.34e-02  7e-02  9e-02\n",
      "  400   4410 1.008100524247107e+00 1.9e+00 4.99e-02  4e-02  5e-02\n",
      "  500   5510 1.010033946960018e+00 1.9e+00 3.33e-02  2e-02  3e-02\n",
      "  600   6610 1.010987401294264e+00 2.1e+00 2.56e-02  1e-02  2e-02\n",
      "  700   7710 1.011587611642783e+00 2.1e+00 1.61e-02  9e-03  1e-02\n",
      "  800   8810 1.011814653041329e+00 2.1e+00 1.04e-02  6e-03  7e-03\n",
      "  900   9910 1.011975253249280e+00 2.1e+00 7.87e-03  4e-03  5e-03\n",
      " 1000  11010 1.012043730006891e+00 2.0e+00 6.85e-03  3e-03  4e-03\n",
      " 1100  12110 1.012077862034177e+00 2.0e+00 6.11e-03  3e-03  3e-03\n",
      " 1180  12990 1.012089875152571e+00 2.0e+00 3.26e-03  1e-03  2e-03\n"
     ]
    }
   ],
   "source": [
    "while not moes.stop():\n",
    "    solutions = moes.ask()\n",
    "    values = [fitness(x) for x in solutions]\n",
    "    moes.tell(solutions, values)\n",
    "    moes.logger.add()\n",
    "    moes.disp()"
   ]
  },
  {
   "cell_type": "code",
   "execution_count": null,
   "metadata": {},
   "outputs": [],
   "source": [
    "%pdb"
   ]
  },
  {
   "cell_type": "code",
   "execution_count": null,
   "metadata": {},
   "outputs": [],
   "source": [
    "mymoes = moes[0]._copy_light()"
   ]
  },
  {
   "cell_type": "code",
   "execution_count": 8,
   "metadata": {},
   "outputs": [
    {
     "data": {
      "text/plain": [
       "43"
      ]
     },
     "execution_count": 8,
     "metadata": {},
     "output_type": "execute_result"
    }
   ],
   "source": [
    "moes.num_kernels"
   ]
  },
  {
   "cell_type": "code",
   "execution_count": 9,
   "metadata": {},
   "outputs": [
    {
     "data": {
      "text/plain": [
       "(16, 16)"
      ]
     },
     "execution_count": 9,
     "metadata": {},
     "output_type": "execute_result"
    }
   ],
   "source": [
    "moes._number_of_calls_best_chv_restart, moes._number_of_calls_random_restart"
   ]
  },
  {
   "cell_type": "code",
   "execution_count": null,
   "metadata": {
    "scrolled": false
   },
   "outputs": [],
   "source": [
    "def f(x):\n",
    "    return x+1"
   ]
  },
  {
   "cell_type": "code",
   "execution_count": null,
   "metadata": {},
   "outputs": [],
   "source": [
    "type(f)"
   ]
  },
  {
   "cell_type": "code",
   "execution_count": null,
   "metadata": {},
   "outputs": [],
   "source": [
    "moes[-1].opts"
   ]
  },
  {
   "cell_type": "code",
   "execution_count": null,
   "metadata": {},
   "outputs": [],
   "source": [
    "a.reference_point"
   ]
  },
  {
   "cell_type": "code",
   "execution_count": null,
   "metadata": {},
   "outputs": [],
   "source": [
    "refpoint = [110, 110]\n",
    "num_kernels = 11\n",
    "sigma0 = 1\n",
    "fun1 = lambda x: sum(np.abs(x)**0.8 + 5 * np.sin(x**3))\n",
    "fun2 = lambda x: (10. * len(x) + sum( x**2 -10. * np.cos(2. * np.pi * x)))/5 #rastrigin\n",
    "fitness = como.FitFun(fun1, fun2)"
   ]
  },
  {
   "cell_type": "code",
   "execution_count": null,
   "metadata": {},
   "outputs": [],
   "source": []
  },
  {
   "cell_type": "code",
   "execution_count": null,
   "metadata": {},
   "outputs": [],
   "source": []
  },
  {
   "cell_type": "code",
   "execution_count": null,
   "metadata": {},
   "outputs": [],
   "source": [
    "moes.optimize(fitness)"
   ]
  },
  {
   "cell_type": "code",
   "execution_count": null,
   "metadata": {},
   "outputs": [],
   "source": [
    "tab = [kernel.objective_values for kernel in moes.kernels]\n",
    "tab0 = [u[0] for u in tab]\n",
    "tab1 = [u[1] for u in tab]"
   ]
  },
  {
   "cell_type": "code",
   "execution_count": null,
   "metadata": {
    "scrolled": false
   },
   "outputs": [],
   "source": [
    "figure()\n",
    "plot(tab0, tab1, 'o')"
   ]
  },
  {
   "cell_type": "code",
   "execution_count": null,
   "metadata": {},
   "outputs": [],
   "source": [
    "figure()\n",
    "moes.logger.plot_front()"
   ]
  },
  {
   "cell_type": "code",
   "execution_count": null,
   "metadata": {},
   "outputs": [],
   "source": [
    "len(moes.pareto_front)"
   ]
  },
  {
   "cell_type": "code",
   "execution_count": null,
   "metadata": {},
   "outputs": [],
   "source": [
    "sorted(tab)"
   ]
  },
  {
   "cell_type": "code",
   "execution_count": null,
   "metadata": {},
   "outputs": [],
   "source": [
    "figure()\n",
    "moes.logger.plot_divers()"
   ]
  },
  {
   "cell_type": "code",
   "execution_count": null,
   "metadata": {},
   "outputs": [],
   "source": [
    "moes.pareto_front"
   ]
  },
  {
   "cell_type": "code",
   "execution_count": null,
   "metadata": {},
   "outputs": [],
   "source": [
    "[moes.kernels[i].incumbent for i in range(moes.num_kernels)]"
   ]
  },
  {
   "cell_type": "code",
   "execution_count": null,
   "metadata": {},
   "outputs": [],
   "source": [
    "[1 / np.pi * sum(x) for x in moes.pareto_set]"
   ]
  },
  {
   "cell_type": "code",
   "execution_count": null,
   "metadata": {},
   "outputs": [],
   "source": [
    "[1 / np.pi * sum(x) for x in moes.pareto_set]"
   ]
  },
  {
   "cell_type": "code",
   "execution_count": null,
   "metadata": {},
   "outputs": [],
   "source": [
    "[1 / np.pi * sum(x) for x in moes.pareto_set]"
   ]
  },
  {
   "cell_type": "code",
   "execution_count": null,
   "metadata": {},
   "outputs": [],
   "source": [
    "[1 / np.pi * sum(moes.kernels[i].incumbent) for i in range(moes.num_kernels)]"
   ]
  },
  {
   "cell_type": "code",
   "execution_count": null,
   "metadata": {},
   "outputs": [],
   "source": [
    "[moes.kernels[i].objective_values for i in range(moes.num_kernels)]"
   ]
  },
  {
   "cell_type": "code",
   "execution_count": null,
   "metadata": {},
   "outputs": [],
   "source": [
    "moes"
   ]
  },
  {
   "cell_type": "code",
   "execution_count": null,
   "metadata": {},
   "outputs": [],
   "source": [
    "newes = moes.kernels[0]._copy_light()"
   ]
  },
  {
   "cell_type": "code",
   "execution_count": null,
   "metadata": {},
   "outputs": [],
   "source": [
    "newes"
   ]
  },
  {
   "cell_type": "code",
   "execution_count": null,
   "metadata": {},
   "outputs": [],
   "source": [
    "type(moes)"
   ]
  },
  {
   "cell_type": "code",
   "execution_count": null,
   "metadata": {},
   "outputs": [],
   "source": [
    "newes.__class__"
   ]
  },
  {
   "cell_type": "code",
   "execution_count": null,
   "metadata": {},
   "outputs": [],
   "source": [
    "es = cma.CMAEvolutionStrategy(7 * [0], 0.2)"
   ]
  },
  {
   "cell_type": "code",
   "execution_count": null,
   "metadata": {},
   "outputs": [],
   "source": [
    "es.N"
   ]
  },
  {
   "cell_type": "code",
   "execution_count": null,
   "metadata": {},
   "outputs": [],
   "source": []
  }
 ],
 "metadata": {
  "kernelspec": {
   "display_name": "Python 3",
   "language": "python",
   "name": "python3"
  },
  "language_info": {
   "codemirror_mode": {
    "name": "ipython",
    "version": 3
   },
   "file_extension": ".py",
   "mimetype": "text/x-python",
   "name": "python",
   "nbconvert_exporter": "python",
   "pygments_lexer": "ipython3",
   "version": "3.7.5"
  }
 },
 "nbformat": 4,
 "nbformat_minor": 2
}
