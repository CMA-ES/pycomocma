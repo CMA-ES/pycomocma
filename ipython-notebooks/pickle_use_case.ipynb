{
 "cells": [
  {
   "cell_type": "code",
   "execution_count": 1,
   "metadata": {},
   "outputs": [
    {
     "name": "stdout",
     "output_type": "stream",
     "text": [
      "Populating the interactive namespace from numpy and matplotlib\n"
     ]
    }
   ],
   "source": [
    "%pylab nbagg\n",
    "import cma, como, pickle"
   ]
  },
  {
   "cell_type": "code",
   "execution_count": 2,
   "metadata": {},
   "outputs": [],
   "source": [
    "dimension = 10  # dimension of the search space\n",
    "num_kernels = 5 # number of single-objective solvers (number of points on the front)\n",
    "sigma0 = 0.2    # initial step-sizes"
   ]
  },
  {
   "cell_type": "code",
   "execution_count": 3,
   "metadata": {},
   "outputs": [],
   "source": [
    "list_of_solvers = como.get_cmas(num_kernels * [dimension * [0]], sigma0) # produce `num_kernels cma instances`\n",
    "moes = como.Sofomore(list_of_solvers, reference_point = [11,11]) # create a como-cma-es instance"
   ]
  },
  {
   "cell_type": "code",
   "execution_count": 4,
   "metadata": {},
   "outputs": [],
   "source": [
    "fitness = como.FitFun(cma.ff.sphere, lambda x: cma.ff.sphere(x-1)) # a callable bi-objective function"
   ]
  },
  {
   "cell_type": "code",
   "execution_count": 5,
   "metadata": {},
   "outputs": [
    {
     "name": "stdout",
     "output_type": "stream",
     "text": [
      "Iterat #Fevals   Hypervolume   axis ratios   sigmas   min&max stds\n",
      "                                  (median)  (median)    (median)\n",
      "    1     10 1.100000000000000e+01 1.0e+00 2.00e-01  2e-01  2e-01\n",
      "    2     20 2.845200549045931e+01 1.0e+00 2.00e-01  2e-01  2e-01\n",
      "    3     30 3.440089785096067e+01 1.0e+00 2.00e-01  2e-01  2e-01\n",
      "  100   1000 9.562953505152342e+01 1.9e+00 1.13e-01  9e-02  1e-01\n",
      "saved\n"
     ]
    }
   ],
   "source": [
    "for i in range(100):\n",
    "    solutions = moes.ask()\n",
    "    objective_values = [fitness(x) for x in solutions]\n",
    "    moes.tell(solutions, objective_values)\n",
    "    moes.disp()\n",
    "\n",
    "pickle.dump(moes, open('saved-mocma-object.pkl', 'wb'))\n",
    "print('saved')\n",
    "del moes  # let's start fresh\n"
   ]
  },
  {
   "cell_type": "code",
   "execution_count": null,
   "metadata": {},
   "outputs": [],
   "source": []
  },
  {
   "cell_type": "code",
   "execution_count": 6,
   "metadata": {},
   "outputs": [],
   "source": [
    "moes = pickle.load(open('saved-mocma-object.pkl', 'rb')) # we load the saved file here"
   ]
  },
  {
   "cell_type": "code",
   "execution_count": 7,
   "metadata": {},
   "outputs": [
    {
     "name": "stdout",
     "output_type": "stream",
     "text": [
      "  200   2000 9.716644477685412e+01 1.9e+00 3.33e-02  2e-02  3e-02\n",
      "  300   3000 9.723550009906029e+01 2.0e+00 1.13e-02  6e-03  8e-03\n",
      "  400   4000 9.724067117112808e+01 1.9e+00 2.95e-03  1e-03  2e-03\n",
      "  500   5000 9.724107479961819e+01 2.0e+00 9.38e-04  4e-04  5e-04\n"
     ]
    },
    {
     "data": {
      "text/plain": [
       "<como.Sofomore at 0x115519710>"
      ]
     },
     "execution_count": 7,
     "metadata": {},
     "output_type": "execute_result"
    }
   ],
   "source": [
    "moes.optimize(fitness, iterations = 400)"
   ]
  },
  {
   "cell_type": "code",
   "execution_count": null,
   "metadata": {},
   "outputs": [],
   "source": []
  }
 ],
 "metadata": {
  "kernelspec": {
   "display_name": "Python 3",
   "language": "python",
   "name": "python3"
  },
  "language_info": {
   "codemirror_mode": {
    "name": "ipython",
    "version": 3
   },
   "file_extension": ".py",
   "mimetype": "text/x-python",
   "name": "python",
   "nbconvert_exporter": "python",
   "pygments_lexer": "ipython3",
   "version": "3.7.5"
  }
 },
 "nbformat": 4,
 "nbformat_minor": 2
}
