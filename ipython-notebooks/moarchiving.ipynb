{
 "cells": [
  {
   "cell_type": "markdown",
   "metadata": {},
   "source": [
    "## Testing and timing of `moarchiving.BiobjectiveNondominatedSortedList`"
   ]
  },
  {
   "cell_type": "code",
   "execution_count": 1,
   "metadata": {},
   "outputs": [
    {
     "data": {
      "text/plain": [
       "TestResults(failed=0, attempted=49)"
      ]
     },
     "execution_count": 1,
     "metadata": {},
     "output_type": "execute_result"
    }
   ],
   "source": [
    "import doctest\n",
    "import moarchiving\n",
    "# reload(moarchiving)\n",
    "NA = moarchiving.BiobjectiveNondominatedSortedList\n",
    "doctest.testmod(moarchiving)\n",
    "# NA.make_expensive_asserts = True"
   ]
  },
  {
   "cell_type": "code",
   "execution_count": 2,
   "metadata": {
    "collapsed": true
   },
   "outputs": [],
   "source": [
    "import numpy as np\n",
    "def nondom_arch(n):\n",
    "    return np.abs(np.linspace(-1, 1, 2 * n).reshape(2, n).T).tolist()\n",
    "# nondom_arch(3)"
   ]
  },
  {
   "cell_type": "code",
   "execution_count": 3,
   "metadata": {
    "collapsed": true
   },
   "outputs": [],
   "source": [
    "import fractions\n",
    "id_ = lambda x: x\n",
    "rg = np.arange(0.1, 1000)"
   ]
  },
  {
   "cell_type": "markdown",
   "metadata": {},
   "source": [
    "### Timing of `Fraction`"
   ]
  },
  {
   "cell_type": "code",
   "execution_count": 4,
   "metadata": {},
   "outputs": [
    {
     "name": "stdout",
     "output_type": "stream",
     "text": [
      "10000 loops, best of 3: 123 µs per loop\n"
     ]
    }
   ],
   "source": [
    "%timeit [id_(i) for i in rg]  # expect 120mics"
   ]
  },
  {
   "cell_type": "code",
   "execution_count": 5,
   "metadata": {},
   "outputs": [
    {
     "name": "stdout",
     "output_type": "stream",
     "text": [
      "10000 loops, best of 3: 175 µs per loop\n"
     ]
    }
   ],
   "source": [
    "%timeit [float(i) for i in rg]  # expect 170mics"
   ]
  },
  {
   "cell_type": "code",
   "execution_count": 6,
   "metadata": {},
   "outputs": [
    {
     "name": "stdout",
     "output_type": "stream",
     "text": [
      "100 loops, best of 3: 2.9 ms per loop\n"
     ]
    }
   ],
   "source": [
    "%timeit [fractions.Fraction(i) for i in rg]  # expect 2.7ms"
   ]
  },
  {
   "cell_type": "markdown",
   "metadata": {},
   "source": [
    "### Various"
   ]
  },
  {
   "cell_type": "code",
   "execution_count": 7,
   "metadata": {},
   "outputs": [
    {
     "data": {
      "text/plain": [
       "[[-1.146, -0.11], [-0.749, -1.188]]"
      ]
     },
     "execution_count": 7,
     "metadata": {},
     "output_type": "execute_result"
    }
   ],
   "source": [
    "a = moarchiving.BiobjectiveNondominatedSortedList(\n",
    "    [[-0.749, -1.188], [-0.557, 1.1076],\n",
    "     [0.2454, 0.4724], [-1.146, -0.110]], [10, 10])\n",
    "a._asserts()\n",
    "a"
   ]
  },
  {
   "cell_type": "code",
   "execution_count": 8,
   "metadata": {
    "collapsed": true
   },
   "outputs": [],
   "source": [
    ">>> for i in range(len(a)):\n",
    "...    assert a.contributing_hypervolume(i) == a.contributing_hypervolumes[i]\n",
    ">>> assert all(map(lambda x, y: x - 1e-9 < y < x + 1e-9,\n",
    "...               a.contributing_hypervolumes,\n",
    "...               [4.01367, 11.587422]))"
   ]
  },
  {
   "cell_type": "code",
   "execution_count": 9,
   "metadata": {},
   "outputs": [
    {
     "data": {
      "text/plain": [
       "True"
      ]
     },
     "execution_count": 9,
     "metadata": {},
     "output_type": "execute_result"
    }
   ],
   "source": [
    "a.dominators([1, 3]) == a"
   ]
  },
  {
   "cell_type": "code",
   "execution_count": 10,
   "metadata": {},
   "outputs": [
    {
     "data": {
      "text/plain": [
       "1"
      ]
     },
     "execution_count": 10,
     "metadata": {},
     "output_type": "execute_result"
    }
   ],
   "source": [
    "a.add([-1, -3])  # return index where the element was added"
   ]
  },
  {
   "cell_type": "code",
   "execution_count": 11,
   "metadata": {},
   "outputs": [
    {
     "data": {
      "text/plain": [
       "[[-1.146, -0.11], [-1, -3]]"
      ]
     },
     "execution_count": 11,
     "metadata": {},
     "output_type": "execute_result"
    }
   ],
   "source": [
    "a"
   ]
  },
  {
   "cell_type": "code",
   "execution_count": 12,
   "metadata": {
    "collapsed": true
   },
   "outputs": [],
   "source": [
    "a.add([-1.5, 44])"
   ]
  },
  {
   "cell_type": "code",
   "execution_count": 13,
   "metadata": {},
   "outputs": [
    {
     "data": {
      "text/plain": [
       "[[-1.146, -0.11], [-1, -3]]"
      ]
     },
     "execution_count": 13,
     "metadata": {},
     "output_type": "execute_result"
    }
   ],
   "source": [
    "a"
   ]
  },
  {
   "cell_type": "code",
   "execution_count": 14,
   "metadata": {},
   "outputs": [
    {
     "data": {
      "text/plain": [
       "True"
      ]
     },
     "execution_count": 14,
     "metadata": {},
     "output_type": "execute_result"
    }
   ],
   "source": [
    "a.dominates(a[0])"
   ]
  },
  {
   "cell_type": "code",
   "execution_count": 15,
   "metadata": {},
   "outputs": [
    {
     "data": {
      "text/plain": [
       "False"
      ]
     },
     "execution_count": 15,
     "metadata": {},
     "output_type": "execute_result"
    }
   ],
   "source": [
    "a.dominates([-1.2, 1])"
   ]
  },
  {
   "cell_type": "code",
   "execution_count": 16,
   "metadata": {
    "collapsed": true
   },
   "outputs": [],
   "source": [
    "a._asserts()"
   ]
  },
  {
   "cell_type": "code",
   "execution_count": 17,
   "metadata": {},
   "outputs": [
    {
     "name": "stdout",
     "output_type": "stream",
     "text": [
      "1\n",
      "1\n",
      "0\n"
     ]
    }
   ],
   "source": [
    "b = NA(a)\n",
    "print(b.merge([[-1.2, 1]]))\n",
    "print(a.add_list([[-1.2, 1]]))\n",
    "assert b == a\n",
    "print(a.merge(b))"
   ]
  },
  {
   "cell_type": "code",
   "execution_count": 18,
   "metadata": {
    "collapsed": true
   },
   "outputs": [],
   "source": [
    "r = np.random.randn(100_000, 2).tolist()\n",
    "r2 = sorted(np.random.randn(200, 2).tolist())\n",
    "assert NA(r).add_list(r2) == NA(r).merge(r2)"
   ]
  },
  {
   "cell_type": "code",
   "execution_count": 19,
   "metadata": {},
   "outputs": [
    {
     "name": "stdout",
     "output_type": "stream",
     "text": [
      "1000 loops, best of 3: 388 µs per loop\n"
     ]
    }
   ],
   "source": [
    "%%timeit a = NA(r)  # expect 390mics\n",
    "a.add_list(r2)"
   ]
  },
  {
   "cell_type": "code",
   "execution_count": 20,
   "metadata": {},
   "outputs": [
    {
     "name": "stdout",
     "output_type": "stream",
     "text": [
      "1000 loops, best of 3: 290 µs per loop\n"
     ]
    }
   ],
   "source": [
    "%%timeit a = NA(r)  # expect 290mics\n",
    "a.merge(r2)"
   ]
  },
  {
   "cell_type": "markdown",
   "metadata": {},
   "source": [
    "## Timing of initialization"
   ]
  },
  {
   "cell_type": "code",
   "execution_count": 21,
   "metadata": {},
   "outputs": [
    {
     "name": "stdout",
     "output_type": "stream",
     "text": [
      "The slowest run took 5.09 times longer than the fastest. This could mean that an intermediate result is being cached.\n",
      "10000 loops, best of 3: 122 µs per loop\n",
      "1000 loops, best of 3: 1.02 ms per loop\n",
      "10 loops, best of 3: 18.5 ms per loop\n"
     ]
    }
   ],
   "source": [
    "%timeit nondom_arch(1_000)\n",
    "%timeit nondom_arch(10_000)\n",
    "%timeit nondom_arch(100_000)  # just checking baseline, expect 16ms"
   ]
  },
  {
   "cell_type": "code",
   "execution_count": 22,
   "metadata": {},
   "outputs": [
    {
     "name": "stdout",
     "output_type": "stream",
     "text": [
      "1000 loops, best of 3: 1.47 ms per loop\n",
      "10 loops, best of 3: 15.6 ms per loop\n",
      "1 loop, best of 3: 223 ms per loop\n"
     ]
    }
   ],
   "source": [
    "%timeit NA(nondom_arch(1_000))\n",
    "%timeit NA(nondom_arch(10_000))  # expect 10ms\n",
    "%timeit NA(nondom_arch(100_000))  # expect 112ms, nondom_arch itself takes about 25%"
   ]
  },
  {
   "cell_type": "code",
   "execution_count": 23,
   "metadata": {},
   "outputs": [
    {
     "data": {
      "text/plain": [
       "(100000, 16)"
      ]
     },
     "execution_count": 23,
     "metadata": {},
     "output_type": "execute_result"
    }
   ],
   "source": [
    "randars = {}  # prepare input lists\n",
    "for n in [1_000, 10_000, 100_000]:\n",
    "    randars[n] = np.random.rand(n, 2).tolist()\n",
    "len(NA(nondom_arch(100_000))), len(NA(randars[100_000]))"
   ]
  },
  {
   "cell_type": "code",
   "execution_count": 24,
   "metadata": {},
   "outputs": [
    {
     "name": "stdout",
     "output_type": "stream",
     "text": [
      "1000 loops, best of 3: 767 µs per loop\n",
      "100 loops, best of 3: 10.6 ms per loop\n",
      "10 loops, best of 3: 206 ms per loop\n"
     ]
    }
   ],
   "source": [
    "%timeit NA(randars[1_000])\n",
    "%timeit NA(randars[10_000])  # expect 9ms\n",
    "%timeit NA(randars[100_000])  # expect 180 ms"
   ]
  },
  {
   "cell_type": "code",
   "execution_count": 25,
   "metadata": {},
   "outputs": [
    {
     "name": "stdout",
     "output_type": "stream",
     "text": [
      "10000 loops, best of 3: 139 µs per loop\n",
      "1000 loops, best of 3: 1.33 ms per loop\n",
      "10 loops, best of 3: 21.4 ms per loop\n"
     ]
    }
   ],
   "source": [
    "%timeit sorted(nondom_arch(1_000))\n",
    "%timeit sorted(nondom_arch(10_000))  # expect 1.2ms\n",
    "%timeit sorted(nondom_arch(100_000)) # expect 21ms"
   ]
  },
  {
   "cell_type": "code",
   "execution_count": 26,
   "metadata": {},
   "outputs": [
    {
     "name": "stdout",
     "output_type": "stream",
     "text": [
      "1000 loops, best of 3: 319 µs per loop\n",
      "100 loops, best of 3: 5.8 ms per loop\n",
      "10 loops, best of 3: 132 ms per loop\n"
     ]
    }
   ],
   "source": [
    "%timeit sorted(randars[1_000])\n",
    "%timeit sorted(randars[10_000])   # expect 5ms\n",
    "%timeit sorted(randars[100_000])  # expect 110ms"
   ]
  },
  {
   "cell_type": "code",
   "execution_count": 27,
   "metadata": {},
   "outputs": [
    {
     "name": "stdout",
     "output_type": "stream",
     "text": [
      "The slowest run took 4.29 times longer than the fastest. This could mean that an intermediate result is being cached.\n",
      "100000 loops, best of 3: 2.58 µs per loop\n",
      "10000 loops, best of 3: 33.8 µs per loop\n",
      "The slowest run took 4.59 times longer than the fastest. This could mean that an intermediate result is being cached.\n",
      "100 loops, best of 3: 841 µs per loop\n"
     ]
    }
   ],
   "source": [
    "%timeit list(randars[1_000])\n",
    "%timeit list(randars[10_000])\n",
    "%timeit list(randars[100_000])  # expect 1ms"
   ]
  },
  {
   "cell_type": "markdown",
   "metadata": {},
   "source": [
    "### Summary with 1e5 data\n",
    "```\n",
    "   1 ms `list` \n",
    "  22 ms `sorted` on sorted list\n",
    " 130 ms `sorted` on unsorted list\n",
    " 110 ms archive on sorted nondominated list\n",
    " 190 ms archive on list which needs pruning (was 1300ms)\n",
    "```"
   ]
  },
  {
   "cell_type": "markdown",
   "metadata": {},
   "source": [
    "## Timing of `add`"
   ]
  },
  {
   "cell_type": "code",
   "execution_count": 48,
   "metadata": {},
   "outputs": [
    {
     "name": "stdout",
     "output_type": "stream",
     "text": [
      "100 loops, best of 3: 9.98 ms per loop\n"
     ]
    }
   ],
   "source": [
    "%%timeit a = NA(nondom_arch(1_000))  # expect 7.3ms\n",
    "for i in range(1000):\n",
    "    a.add([ai - 1e-4 for ai in a[np.random.randint(len(a))]])\n",
    "len(a)"
   ]
  },
  {
   "cell_type": "code",
   "execution_count": 49,
   "metadata": {},
   "outputs": [
    {
     "name": "stdout",
     "output_type": "stream",
     "text": [
      "100 loops, best of 3: 10.4 ms per loop\n"
     ]
    }
   ],
   "source": [
    "%%timeit a = NA(nondom_arch(10_000))  # expect 7.7ms\n",
    "for i in range(1000):\n",
    "    a.add([ai - 1e-4 for ai in a[np.random.randint(len(a))]])\n",
    "len(a)"
   ]
  },
  {
   "cell_type": "code",
   "execution_count": 50,
   "metadata": {},
   "outputs": [
    {
     "name": "stdout",
     "output_type": "stream",
     "text": [
      "100 loops, best of 3: 12.2 ms per loop\n"
     ]
    }
   ],
   "source": [
    "%%timeit a = NA(nondom_arch(100_000))  # expect 15ms\n",
    "for i in range(1000):\n",
    "    a.add([ai - 1e-4 for ai in a[np.random.randint(len(a))]])\n",
    "len(a)  # deletion kicks in and makes it 20 times slower if implemented with pop"
   ]
  },
  {
   "cell_type": "code",
   "execution_count": 51,
   "metadata": {},
   "outputs": [
    {
     "name": "stdout",
     "output_type": "stream",
     "text": [
      "100 loops, best of 3: 15.1 ms per loop\n"
     ]
    }
   ],
   "source": [
    "%%timeit a = NA(nondom_arch(100_000))  # expect 10ms\n",
    "for i in range(1000):\n",
    "    a.add([ai - 1e-8 for ai in a[np.random.randint(len(a))]])\n",
    "len(a) # no deletion has taken place"
   ]
  },
  {
   "cell_type": "code",
   "execution_count": 32,
   "metadata": {},
   "outputs": [
    {
     "name": "stdout",
     "output_type": "stream",
     "text": [
      "1 loop, best of 3: 326 ms per loop\n"
     ]
    }
   ],
   "source": [
    "%%timeit a = NA(nondom_arch(1_000_000))  # expect 270ms\n",
    "for i in range(1000):\n",
    "    a.add([ai - 1e-4 for ai in a[np.random.randint(len(a))]])\n",
    "len(a)  # deletion kicks in"
   ]
  },
  {
   "cell_type": "code",
   "execution_count": 33,
   "metadata": {},
   "outputs": [
    {
     "name": "stdout",
     "output_type": "stream",
     "text": [
      "10 loops, best of 3: 45.6 ms per loop\n"
     ]
    }
   ],
   "source": [
    "%%timeit a = NA(nondom_arch(1_000_000))  # expect 12ms\n",
    "for i in range(1000):\n",
    "    a.add([ai - 1e-8 for ai in a[np.random.randint(len(a))]])\n",
    "len(a)"
   ]
  },
  {
   "cell_type": "markdown",
   "metadata": {},
   "source": [
    "## Timing of Hypervolume computation"
   ]
  },
  {
   "cell_type": "code",
   "execution_count": 34,
   "metadata": {},
   "outputs": [
    {
     "name": "stdout",
     "output_type": "stream",
     "text": [
      "10 loops, best of 3: 32.9 ms per loop\n"
     ]
    }
   ],
   "source": [
    "%timeit a = NA(nondom_arch(1_000), [5, 5])  # expect 28ms, takes 4 or 40x longer than without hypervolume computation"
   ]
  },
  {
   "cell_type": "code",
   "execution_count": 35,
   "metadata": {},
   "outputs": [
    {
     "name": "stdout",
     "output_type": "stream",
     "text": [
      "1 loop, best of 3: 321 ms per loop\n"
     ]
    }
   ],
   "source": [
    "%timeit a = NA(nondom_arch(10_000), [5, 5])  # expect 300ms"
   ]
  },
  {
   "cell_type": "code",
   "execution_count": 36,
   "metadata": {},
   "outputs": [
    {
     "name": "stdout",
     "output_type": "stream",
     "text": [
      "1 loop, best of 3: 3.13 s per loop\n"
     ]
    }
   ],
   "source": [
    "%timeit a = NA(nondom_arch(100_000), [5, 5])  # expect 3s, takes 3x longer than without hypervolume computation"
   ]
  },
  {
   "cell_type": "code",
   "execution_count": 37,
   "metadata": {},
   "outputs": [
    {
     "name": "stdout",
     "output_type": "stream",
     "text": [
      "The slowest run took 19.04 times longer than the fastest. This could mean that an intermediate result is being cached.\n",
      "1000000 loops, best of 3: 222 ns per loop\n"
     ]
    }
   ],
   "source": [
    "%%timeit a = NA(nondom_arch(1_000), [5, 5])  # expect 220ns\n",
    "a.hypervolume"
   ]
  },
  {
   "cell_type": "code",
   "execution_count": 38,
   "metadata": {},
   "outputs": [
    {
     "name": "stdout",
     "output_type": "stream",
     "text": [
      "The slowest run took 87.97 times longer than the fastest. This could mean that an intermediate result is being cached.\n",
      "1000000 loops, best of 3: 217 ns per loop\n"
     ]
    }
   ],
   "source": [
    "%%timeit a = NA(nondom_arch(10_000), [5, 5])  # expect 210ns\n",
    "a.hypervolume"
   ]
  },
  {
   "cell_type": "code",
   "execution_count": 39,
   "metadata": {},
   "outputs": [
    {
     "name": "stdout",
     "output_type": "stream",
     "text": [
      "The slowest run took 12.86 times longer than the fastest. This could mean that an intermediate result is being cached.\n",
      "1000000 loops, best of 3: 225 ns per loop\n"
     ]
    }
   ],
   "source": [
    "%%timeit a = NA(nondom_arch(100_000), [5, 5])  # expect 225ns \n",
    "a.hypervolume"
   ]
  },
  {
   "cell_type": "code",
   "execution_count": 40,
   "metadata": {
    "collapsed": true
   },
   "outputs": [],
   "source": [
    "NA.hypervolume_computation_float_type = float"
   ]
  },
  {
   "cell_type": "code",
   "execution_count": 41,
   "metadata": {},
   "outputs": [
    {
     "name": "stdout",
     "output_type": "stream",
     "text": [
      "100 loops, best of 3: 11.2 ms per loop\n"
     ]
    }
   ],
   "source": [
    "%timeit a = NA(nondom_arch(1_000), [5, 5])  # expect 11ms, takes 4 or 40x longer than without hypervolume computation"
   ]
  },
  {
   "cell_type": "code",
   "execution_count": 42,
   "metadata": {
    "collapsed": true
   },
   "outputs": [],
   "source": [
    "NA.hypervolume_final_float_type = float\n",
    "NA.hypervolume_computation_float_type = float"
   ]
  },
  {
   "cell_type": "code",
   "execution_count": 43,
   "metadata": {},
   "outputs": [
    {
     "name": "stdout",
     "output_type": "stream",
     "text": [
      "100 loops, best of 3: 4.8 ms per loop\n"
     ]
    }
   ],
   "source": [
    "%timeit a = NA(nondom_arch(1_000), [5, 5])  # expect 3.8ms, takes 4 or 40x longer than without hypervolume computation"
   ]
  }
 ],
 "metadata": {
  "kernelspec": {
   "display_name": "Python 3",
   "language": "python",
   "name": "python3"
  },
  "language_info": {
   "codemirror_mode": {
    "name": "ipython",
    "version": 3
   },
   "file_extension": ".py",
   "mimetype": "text/x-python",
   "name": "python",
   "nbconvert_exporter": "python",
   "pygments_lexer": "ipython3",
   "version": "3.6.1"
  }
 },
 "nbformat": 4,
 "nbformat_minor": 2
}
